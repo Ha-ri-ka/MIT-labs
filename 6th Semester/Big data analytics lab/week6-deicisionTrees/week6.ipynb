{
  "nbformat": 4,
  "nbformat_minor": 0,
  "metadata": {
    "colab": {
      "provenance": []
    },
    "kernelspec": {
      "name": "python3",
      "display_name": "Python 3"
    },
    "language_info": {
      "name": "python"
    }
  },
  "cells": [
    {
      "cell_type": "markdown",
      "source": [
        "### BELOW CODE IS TO WORK WITH SPARK IN COLAB, IGNORE IF NOT USING COLAB"
      ],
      "metadata": {
        "id": "LXzKxabHyUI3"
      }
    },
    {
      "cell_type": "code",
      "execution_count": 1,
      "metadata": {
        "colab": {
          "base_uri": "https://localhost:8080/"
        },
        "id": "RdWARP9tyP9w",
        "outputId": "8b9db58c-bb17-440e-ac55-188662bdfdb9"
      },
      "outputs": [
        {
          "output_type": "stream",
          "name": "stdout",
          "text": [
            "\r0% [Working]\r            \rHit:1 http://archive.ubuntu.com/ubuntu jammy InRelease\n",
            "\r0% [Connecting to security.ubuntu.com (185.125.190.36)] [Connected to cloud.r-project.org (52.85.151\r                                                                                                    \rGet:2 http://archive.ubuntu.com/ubuntu jammy-updates InRelease [119 kB]\n",
            "\r                                                                                                    \rHit:3 http://archive.ubuntu.com/ubuntu jammy-backports InRelease\n",
            "\r0% [Waiting for headers] [Connected to cloud.r-project.org (52.85.151.129)] [Connected to ppa.launch\r                                                                                                    \rGet:4 https://cloud.r-project.org/bin/linux/ubuntu jammy-cran40/ InRelease [3,626 B]\n",
            "\r0% [Waiting for headers] [4 InRelease 0 B/3,626 B 0%] [Connected to ppa.launchpadcontent.net (185.12\r0% [Waiting for headers] [Connected to ppa.launchpadcontent.net (185.125.190.80)] [Waiting for heade\r                                                                                                    \rGet:5 http://security.ubuntu.com/ubuntu jammy-security InRelease [110 kB]\n",
            "Hit:6 https://developer.download.nvidia.com/compute/cuda/repos/ubuntu2204/x86_64  InRelease\n",
            "Hit:7 https://ppa.launchpadcontent.net/c2d4u.team/c2d4u4.0+/ubuntu jammy InRelease\n",
            "Hit:8 https://ppa.launchpadcontent.net/deadsnakes/ppa/ubuntu jammy InRelease\n",
            "Hit:9 https://ppa.launchpadcontent.net/graphics-drivers/ppa/ubuntu jammy InRelease\n",
            "Get:10 http://archive.ubuntu.com/ubuntu jammy-updates/universe amd64 Packages [1,374 kB]\n",
            "Hit:11 https://ppa.launchpadcontent.net/ubuntugis/ppa/ubuntu jammy InRelease\n",
            "Get:12 http://archive.ubuntu.com/ubuntu jammy-updates/restricted amd64 Packages [2,174 kB]\n",
            "Get:13 http://archive.ubuntu.com/ubuntu jammy-updates/main amd64 Packages [1,974 kB]\n",
            "Get:14 http://security.ubuntu.com/ubuntu jammy-security/universe amd64 Packages [1,081 kB]\n",
            "Get:15 http://security.ubuntu.com/ubuntu jammy-security/main amd64 Packages [1,691 kB]\n",
            "Fetched 8,527 kB in 3s (3,067 kB/s)\n",
            "Reading package lists... Done\n",
            "sample_data  spark-3.1.1-bin-hadoop3.2\tspark-3.1.1-bin-hadoop3.2.tgz\n"
          ]
        }
      ],
      "source": [
        "!apt-get update # Update apt-get repository.\n",
        "!apt-get install openjdk-8-jdk-headless -qq > /dev/null # Install Java.\n",
        "!wget -q http://archive.apache.org/dist/spark/spark-3.1.1/spark-3.1.1-bin-hadoop3.2.tgz # Download Apache Sparks.\n",
        "!tar xf spark-3.1.1-bin-hadoop3.2.tgz # Unzip the tgz file.\n",
        "!pip install -q findspark # Install findspark. Adds PySpark to the System path during runtime.\n",
        "\n",
        "# Set environment variables\n",
        "import os\n",
        "os.environ[\"JAVA_HOME\"] = \"/usr/lib/jvm/java-8-openjdk-amd64\"\n",
        "os.environ[\"SPARK_HOME\"] = \"/content/spark-3.1.1-bin-hadoop3.2\"\n",
        "\n",
        "!ls\n",
        "\n",
        "# Initialize findspark\n",
        "import findspark\n",
        "findspark.init()"
      ]
    },
    {
      "cell_type": "code",
      "source": [
        "import pyspark\n",
        "import os\n",
        "import sys\n",
        "from pyspark import SparkContext\n",
        "from pyspark import SparkConf\n",
        "os.environ['PYSPARK_PYTHON']=sys.executable\n",
        "os.environ['PYSPARK_DRIVER_PYTHON']=sys.executable"
      ],
      "metadata": {
        "id": "14cz3Bt0yXRe"
      },
      "execution_count": 2,
      "outputs": []
    },
    {
      "cell_type": "code",
      "source": [
        "from pyspark.sql import SparkSession\n",
        "spark=SparkSession.builder.appName('week6').getOrCreate()\n",
        "spark"
      ],
      "metadata": {
        "colab": {
          "base_uri": "https://localhost:8080/",
          "height": 222
        },
        "id": "5VOr6ME8yY6l",
        "outputId": "25ad56f4-7812-4e39-9cf0-a1b92cc31438"
      },
      "execution_count": 3,
      "outputs": [
        {
          "output_type": "execute_result",
          "data": {
            "text/plain": [
              "<pyspark.sql.session.SparkSession at 0x7b74e5455d80>"
            ],
            "text/html": [
              "\n",
              "            <div>\n",
              "                <p><b>SparkSession - in-memory</b></p>\n",
              "                \n",
              "        <div>\n",
              "            <p><b>SparkContext</b></p>\n",
              "\n",
              "            <p><a href=\"http://b805ecfcb0ba:4040\">Spark UI</a></p>\n",
              "\n",
              "            <dl>\n",
              "              <dt>Version</dt>\n",
              "                <dd><code>v3.1.1</code></dd>\n",
              "              <dt>Master</dt>\n",
              "                <dd><code>local[*]</code></dd>\n",
              "              <dt>AppName</dt>\n",
              "                <dd><code>week6</code></dd>\n",
              "            </dl>\n",
              "        </div>\n",
              "        \n",
              "            </div>\n",
              "        "
            ]
          },
          "metadata": {},
          "execution_count": 3
        }
      ]
    },
    {
      "cell_type": "markdown",
      "source": [
        "### 1)Demonstrate how to load a dataset suitable for prediction into a PySpark DataFrame and Display basic statistics and information about the dataset."
      ],
      "metadata": {
        "id": "LSj-b2atygsQ"
      }
    },
    {
      "cell_type": "code",
      "source": [
        "path='/content/covtype.data'\n",
        "df = spark.read.csv(path,inferSchema=True,header=True)\n",
        "colnames = [\"Elevation\",\"Aspect\",\"Slope\",\"Horizontal_Distance_To_Hydrology\",\"Vertical_Distance_To_Hydrology\",\\\n",
        "           \"Horizontal_Distance_To_Roadways\",\"Hillshade_9am\",\"Hillshade_noon\",\"Hillshade_3pm\",\\\n",
        "           \"Horizontal_Distance_To_Fire_Points\"] + \\\n",
        "           [f\"Wilderness_Area_{i}\" for i in range(4)] + [f\"Soil_Type_{i}\" for i in range(40)] + [\"Cover_Type\"]\n",
        "df = df.toDF(*colnames)\n",
        "df.show(5)\n",
        "df.printSchema()"
      ],
      "metadata": {
        "colab": {
          "base_uri": "https://localhost:8080/"
        },
        "id": "q4x9O8KbyigB",
        "outputId": "dfc48b6d-536f-4f5d-9eb7-19f002074376"
      },
      "execution_count": 4,
      "outputs": [
        {
          "output_type": "stream",
          "name": "stdout",
          "text": [
            "+---------+------+-----+--------------------------------+------------------------------+-------------------------------+-------------+--------------+-------------+----------------------------------+-----------------+-----------------+-----------------+-----------------+-----------+-----------+-----------+-----------+-----------+-----------+-----------+-----------+-----------+-----------+------------+------------+------------+------------+------------+------------+------------+------------+------------+------------+------------+------------+------------+------------+------------+------------+------------+------------+------------+------------+------------+------------+------------+------------+------------+------------+------------+------------+------------+------------+----------+\n",
            "|Elevation|Aspect|Slope|Horizontal_Distance_To_Hydrology|Vertical_Distance_To_Hydrology|Horizontal_Distance_To_Roadways|Hillshade_9am|Hillshade_noon|Hillshade_3pm|Horizontal_Distance_To_Fire_Points|Wilderness_Area_0|Wilderness_Area_1|Wilderness_Area_2|Wilderness_Area_3|Soil_Type_0|Soil_Type_1|Soil_Type_2|Soil_Type_3|Soil_Type_4|Soil_Type_5|Soil_Type_6|Soil_Type_7|Soil_Type_8|Soil_Type_9|Soil_Type_10|Soil_Type_11|Soil_Type_12|Soil_Type_13|Soil_Type_14|Soil_Type_15|Soil_Type_16|Soil_Type_17|Soil_Type_18|Soil_Type_19|Soil_Type_20|Soil_Type_21|Soil_Type_22|Soil_Type_23|Soil_Type_24|Soil_Type_25|Soil_Type_26|Soil_Type_27|Soil_Type_28|Soil_Type_29|Soil_Type_30|Soil_Type_31|Soil_Type_32|Soil_Type_33|Soil_Type_34|Soil_Type_35|Soil_Type_36|Soil_Type_37|Soil_Type_38|Soil_Type_39|Cover_Type|\n",
            "+---------+------+-----+--------------------------------+------------------------------+-------------------------------+-------------+--------------+-------------+----------------------------------+-----------------+-----------------+-----------------+-----------------+-----------+-----------+-----------+-----------+-----------+-----------+-----------+-----------+-----------+-----------+------------+------------+------------+------------+------------+------------+------------+------------+------------+------------+------------+------------+------------+------------+------------+------------+------------+------------+------------+------------+------------+------------+------------+------------+------------+------------+------------+------------+------------+------------+----------+\n",
            "|     2590|    56|    2|                             212|                            -6|                            390|          220|           235|          151|                              6225|                1|                0|                0|                0|          0|          0|          0|          0|          0|          0|          0|          0|          0|          0|           0|           0|           0|           0|           0|           0|           0|           0|           0|           0|           0|           0|           0|           0|           0|           0|           0|           0|           1|           0|           0|           0|           0|           0|           0|           0|           0|           0|           0|           0|         5|\n",
            "|     2804|   139|    9|                             268|                            65|                           3180|          234|           238|          135|                              6121|                1|                0|                0|                0|          0|          0|          0|          0|          0|          0|          0|          0|          0|          0|           0|           1|           0|           0|           0|           0|           0|           0|           0|           0|           0|           0|           0|           0|           0|           0|           0|           0|           0|           0|           0|           0|           0|           0|           0|           0|           0|           0|           0|           0|         2|\n",
            "|     2785|   155|   18|                             242|                           118|                           3090|          238|           238|          122|                              6211|                1|                0|                0|                0|          0|          0|          0|          0|          0|          0|          0|          0|          0|          0|           0|           0|           0|           0|           0|           0|           0|           0|           0|           0|           0|           0|           0|           0|           0|           0|           0|           0|           0|           1|           0|           0|           0|           0|           0|           0|           0|           0|           0|           0|         2|\n",
            "|     2595|    45|    2|                             153|                            -1|                            391|          220|           234|          150|                              6172|                1|                0|                0|                0|          0|          0|          0|          0|          0|          0|          0|          0|          0|          0|           0|           0|           0|           0|           0|           0|           0|           0|           0|           0|           0|           0|           0|           0|           0|           0|           0|           0|           1|           0|           0|           0|           0|           0|           0|           0|           0|           0|           0|           0|         5|\n",
            "|     2579|   132|    6|                             300|                           -15|                             67|          230|           237|          140|                              6031|                1|                0|                0|                0|          0|          0|          0|          0|          0|          0|          0|          0|          0|          0|           0|           0|           0|           0|           0|           0|           0|           0|           0|           0|           0|           0|           0|           0|           0|           0|           0|           0|           1|           0|           0|           0|           0|           0|           0|           0|           0|           0|           0|           0|         2|\n",
            "+---------+------+-----+--------------------------------+------------------------------+-------------------------------+-------------+--------------+-------------+----------------------------------+-----------------+-----------------+-----------------+-----------------+-----------+-----------+-----------+-----------+-----------+-----------+-----------+-----------+-----------+-----------+------------+------------+------------+------------+------------+------------+------------+------------+------------+------------+------------+------------+------------+------------+------------+------------+------------+------------+------------+------------+------------+------------+------------+------------+------------+------------+------------+------------+------------+------------+----------+\n",
            "only showing top 5 rows\n",
            "\n",
            "root\n",
            " |-- Elevation: integer (nullable = true)\n",
            " |-- Aspect: integer (nullable = true)\n",
            " |-- Slope: integer (nullable = true)\n",
            " |-- Horizontal_Distance_To_Hydrology: integer (nullable = true)\n",
            " |-- Vertical_Distance_To_Hydrology: integer (nullable = true)\n",
            " |-- Horizontal_Distance_To_Roadways: integer (nullable = true)\n",
            " |-- Hillshade_9am: integer (nullable = true)\n",
            " |-- Hillshade_noon: integer (nullable = true)\n",
            " |-- Hillshade_3pm: integer (nullable = true)\n",
            " |-- Horizontal_Distance_To_Fire_Points: integer (nullable = true)\n",
            " |-- Wilderness_Area_0: integer (nullable = true)\n",
            " |-- Wilderness_Area_1: integer (nullable = true)\n",
            " |-- Wilderness_Area_2: integer (nullable = true)\n",
            " |-- Wilderness_Area_3: integer (nullable = true)\n",
            " |-- Soil_Type_0: integer (nullable = true)\n",
            " |-- Soil_Type_1: integer (nullable = true)\n",
            " |-- Soil_Type_2: integer (nullable = true)\n",
            " |-- Soil_Type_3: integer (nullable = true)\n",
            " |-- Soil_Type_4: integer (nullable = true)\n",
            " |-- Soil_Type_5: integer (nullable = true)\n",
            " |-- Soil_Type_6: integer (nullable = true)\n",
            " |-- Soil_Type_7: integer (nullable = true)\n",
            " |-- Soil_Type_8: integer (nullable = true)\n",
            " |-- Soil_Type_9: integer (nullable = true)\n",
            " |-- Soil_Type_10: integer (nullable = true)\n",
            " |-- Soil_Type_11: integer (nullable = true)\n",
            " |-- Soil_Type_12: integer (nullable = true)\n",
            " |-- Soil_Type_13: integer (nullable = true)\n",
            " |-- Soil_Type_14: integer (nullable = true)\n",
            " |-- Soil_Type_15: integer (nullable = true)\n",
            " |-- Soil_Type_16: integer (nullable = true)\n",
            " |-- Soil_Type_17: integer (nullable = true)\n",
            " |-- Soil_Type_18: integer (nullable = true)\n",
            " |-- Soil_Type_19: integer (nullable = true)\n",
            " |-- Soil_Type_20: integer (nullable = true)\n",
            " |-- Soil_Type_21: integer (nullable = true)\n",
            " |-- Soil_Type_22: integer (nullable = true)\n",
            " |-- Soil_Type_23: integer (nullable = true)\n",
            " |-- Soil_Type_24: integer (nullable = true)\n",
            " |-- Soil_Type_25: integer (nullable = true)\n",
            " |-- Soil_Type_26: integer (nullable = true)\n",
            " |-- Soil_Type_27: integer (nullable = true)\n",
            " |-- Soil_Type_28: integer (nullable = true)\n",
            " |-- Soil_Type_29: integer (nullable = true)\n",
            " |-- Soil_Type_30: integer (nullable = true)\n",
            " |-- Soil_Type_31: integer (nullable = true)\n",
            " |-- Soil_Type_32: integer (nullable = true)\n",
            " |-- Soil_Type_33: integer (nullable = true)\n",
            " |-- Soil_Type_34: integer (nullable = true)\n",
            " |-- Soil_Type_35: integer (nullable = true)\n",
            " |-- Soil_Type_36: integer (nullable = true)\n",
            " |-- Soil_Type_37: integer (nullable = true)\n",
            " |-- Soil_Type_38: integer (nullable = true)\n",
            " |-- Soil_Type_39: integer (nullable = true)\n",
            " |-- Cover_Type: integer (nullable = true)\n",
            "\n"
          ]
        }
      ]
    },
    {
      "cell_type": "code",
      "source": [
        "df.summary().show()"
      ],
      "metadata": {
        "colab": {
          "base_uri": "https://localhost:8080/"
        },
        "id": "Wvcw1B-W1TwE",
        "outputId": "1c8ae65a-7108-45b5-f554-14d7105b743d"
      },
      "execution_count": 5,
      "outputs": [
        {
          "output_type": "stream",
          "name": "stdout",
          "text": [
            "+-------+------------------+------------------+-----------------+--------------------------------+------------------------------+-------------------------------+------------------+------------------+------------------+----------------------------------+-------------------+-------------------+------------------+-------------------+--------------------+--------------------+--------------------+-------------------+--------------------+--------------------+--------------------+--------------------+--------------------+--------------------+--------------------+-------------------+--------------------+--------------------+--------------------+--------------------+--------------------+--------------------+--------------------+--------------------+--------------------+-------------------+-------------------+-------------------+--------------------+--------------------+--------------------+--------------------+-------------------+-------------------+-------------------+-------------------+-------------------+--------------------+--------------------+--------------------+--------------------+--------------------+--------------------+--------------------+------------------+\n",
            "|summary|         Elevation|            Aspect|            Slope|Horizontal_Distance_To_Hydrology|Vertical_Distance_To_Hydrology|Horizontal_Distance_To_Roadways|     Hillshade_9am|    Hillshade_noon|     Hillshade_3pm|Horizontal_Distance_To_Fire_Points|  Wilderness_Area_0|  Wilderness_Area_1| Wilderness_Area_2|  Wilderness_Area_3|         Soil_Type_0|         Soil_Type_1|         Soil_Type_2|        Soil_Type_3|         Soil_Type_4|         Soil_Type_5|         Soil_Type_6|         Soil_Type_7|         Soil_Type_8|         Soil_Type_9|        Soil_Type_10|       Soil_Type_11|        Soil_Type_12|        Soil_Type_13|        Soil_Type_14|        Soil_Type_15|        Soil_Type_16|        Soil_Type_17|        Soil_Type_18|        Soil_Type_19|        Soil_Type_20|       Soil_Type_21|       Soil_Type_22|       Soil_Type_23|        Soil_Type_24|        Soil_Type_25|        Soil_Type_26|        Soil_Type_27|       Soil_Type_28|       Soil_Type_29|       Soil_Type_30|       Soil_Type_31|       Soil_Type_32|        Soil_Type_33|        Soil_Type_34|        Soil_Type_35|        Soil_Type_36|        Soil_Type_37|        Soil_Type_38|        Soil_Type_39|        Cover_Type|\n",
            "+-------+------------------+------------------+-----------------+--------------------------------+------------------------------+-------------------------------+------------------+------------------+------------------+----------------------------------+-------------------+-------------------+------------------+-------------------+--------------------+--------------------+--------------------+-------------------+--------------------+--------------------+--------------------+--------------------+--------------------+--------------------+--------------------+-------------------+--------------------+--------------------+--------------------+--------------------+--------------------+--------------------+--------------------+--------------------+--------------------+-------------------+-------------------+-------------------+--------------------+--------------------+--------------------+--------------------+-------------------+-------------------+-------------------+-------------------+-------------------+--------------------+--------------------+--------------------+--------------------+--------------------+--------------------+--------------------+------------------+\n",
            "|  count|            581011|            581011|           581011|                          581011|                        581011|                         581011|            581011|            581011|            581011|                            581011|             581011|             581011|            581011|             581011|              581011|              581011|              581011|             581011|              581011|              581011|              581011|              581011|              581011|              581011|              581011|             581011|              581011|              581011|              581011|              581011|              581011|              581011|              581011|              581011|              581011|             581011|             581011|             581011|              581011|              581011|              581011|              581011|             581011|             581011|             581011|             581011|             581011|              581011|              581011|              581011|              581011|              581011|              581011|              581011|            581011|\n",
            "|   mean|2959.3659259463248|155.65698756133705|14.10372264896878|               269.4282362984522|             46.41893526972811|              2350.149778575621|212.14603337974668|223.31870136709975| 142.5282533377165|                 1980.283827672798| 0.4488641351024335|0.05143448230756389|0.4360743600379339|0.06362702255206872|0.005216768701453157|0.012951562018619269|0.008301047656584815|0.02133522429007368|0.002748657082223...|0.011316481099325142|1.807194700272456...|3.080836679512091...|0.001974145067821...|0.056167611284467935|0.021359320219410647|0.05158422129701503|0.030001153162332556|0.001030961548060...|5.163413429349874...|0.004896637068833465|0.005889733585078...|0.003268440700778...|0.006920695133138615|0.015936014980783498|0.001442313484598...|0.05743953212589779|0.09939915079060466|0.03662237031656888|8.158193218372802E-4|0.004456025789528942|0.001869155661424...|0.001628196368054...| 0.1983542480262852|0.05192672772116191|0.04417472302589796|0.09039243663200869|0.07771625666295474|0.002772753011560...|0.003254671598300...|2.048153993642117E-4|5.128990673154209E-4|0.026803279111755198|0.023762028601868122|0.015059955835603801|  2.05146546278814|\n",
            "| stddev| 279.9845693713177|111.91373308836442| 7.48823408951133|               212.5495379798944|             58.29524998554988|             1559.2543428941863| 26.76990932256484|19.768710885237553|38.274561496148685|                1324.1843401788065|0.49737867777559464|0.22088245813104682|0.4958971020355018|0.24408753982214554| 0.07203862129248238|  0.1130656493487272|  0.0907312208286665| 0.1444993717358019| 0.05235557930431657| 0.10577541118661185|0.013441990979309319| 0.01754962342891581| 0.04438751187154396| 0.23024530824660552| 0.14457916736636892|0.22118628712934335| 0.17059054504375498|0.032092061930439786|0.002272310642369807| 0.06980450129313702| 0.07651832918151899| 0.05707682194397417| 0.08290241818588504|   0.125228133413965| 0.03795043735261318|0.23268073718728133|0.29919744933311293|0.18783299239704535|0.028550922290983334| 0.06660463391509959| 0.04319334589499688| 0.04031808703838047|0.39876072273298513|0.22187930818732365|0.20548330721437053|0.28674341412971005| 0.2677247905564502| 0.05258392921191437| 0.05695686345475446| 0.01430991972235805|0.022641485909296863| 0.16150822962417222| 0.15230704029877923| 0.12179153950820613|1.3965001604421081|\n",
            "|    min|              1859|                 0|                0|                               0|                          -173|                              0|                 0|                 0|                 0|                                 0|                  0|                  0|                 0|                  0|                   0|                   0|                   0|                  0|                   0|                   0|                   0|                   0|                   0|                   0|                   0|                  0|                   0|                   0|                   0|                   0|                   0|                   0|                   0|                   0|                   0|                  0|                  0|                  0|                   0|                   0|                   0|                   0|                  0|                  0|                  0|                  0|                  0|                   0|                   0|                   0|                   0|                   0|                   0|                   0|                 1|\n",
            "|    25%|              2809|                58|                9|                             108|                             7|                           1106|               198|               213|               119|                              1024|                  0|                  0|                 0|                  0|                   0|                   0|                   0|                  0|                   0|                   0|                   0|                   0|                   0|                   0|                   0|                  0|                   0|                   0|                   0|                   0|                   0|                   0|                   0|                   0|                   0|                  0|                  0|                  0|                   0|                   0|                   0|                   0|                  0|                  0|                  0|                  0|                  0|                   0|                   0|                   0|                   0|                   0|                   0|                   0|                 1|\n",
            "|    50%|              2996|               127|               13|                             218|                            30|                           1998|               218|               226|               143|                              1710|                  0|                  0|                 0|                  0|                   0|                   0|                   0|                  0|                   0|                   0|                   0|                   0|                   0|                   0|                   0|                  0|                   0|                   0|                   0|                   0|                   0|                   0|                   0|                   0|                   0|                  0|                  0|                  0|                   0|                   0|                   0|                   0|                  0|                  0|                  0|                  0|                  0|                   0|                   0|                   0|                   0|                   0|                   0|                   0|                 2|\n",
            "|    75%|              3163|               261|               18|                             384|                            69|                           3328|               231|               237|               168|                              2550|                  1|                  0|                 1|                  0|                   0|                   0|                   0|                  0|                   0|                   0|                   0|                   0|                   0|                   0|                   0|                  0|                   0|                   0|                   0|                   0|                   0|                   0|                   0|                   0|                   0|                  0|                  0|                  0|                   0|                   0|                   0|                   0|                  0|                  0|                  0|                  0|                  0|                   0|                   0|                   0|                   0|                   0|                   0|                   0|                 2|\n",
            "|    max|              3858|               360|               66|                            1397|                           601|                           7117|               254|               254|               254|                              7173|                  1|                  1|                 1|                  1|                   1|                   1|                   1|                  1|                   1|                   1|                   1|                   1|                   1|                   1|                   1|                  1|                   1|                   1|                   1|                   1|                   1|                   1|                   1|                   1|                   1|                  1|                  1|                  1|                   1|                   1|                   1|                   1|                  1|                  1|                  1|                  1|                  1|                   1|                   1|                   1|                   1|                   1|                   1|                   1|                 7|\n",
            "+-------+------------------+------------------+-----------------+--------------------------------+------------------------------+-------------------------------+------------------+------------------+------------------+----------------------------------+-------------------+-------------------+------------------+-------------------+--------------------+--------------------+--------------------+-------------------+--------------------+--------------------+--------------------+--------------------+--------------------+--------------------+--------------------+-------------------+--------------------+--------------------+--------------------+--------------------+--------------------+--------------------+--------------------+--------------------+--------------------+-------------------+-------------------+-------------------+--------------------+--------------------+--------------------+--------------------+-------------------+-------------------+-------------------+-------------------+-------------------+--------------------+--------------------+--------------------+--------------------+--------------------+--------------------+--------------------+------------------+\n",
            "\n"
          ]
        }
      ]
    },
    {
      "cell_type": "markdown",
      "source": [
        "### 2)Implement a PySpark script to handle missing values and categorical features in thedataset."
      ],
      "metadata": {
        "id": "k_IbqaOSyjKi"
      }
    },
    {
      "cell_type": "markdown",
      "source": [
        "removing null values using imputer"
      ],
      "metadata": {
        "id": "-nLRHJub2zSa"
      }
    },
    {
      "cell_type": "code",
      "source": [
        "from pyspark.ml.feature import Imputer\n",
        "input_Cols=df.columns\n",
        "output_Cols=[col+'_imputed' for col in inputCols]\n",
        "removeNull=Imputer(inputCols=input_Cols, outputCols=output_Cols)\n",
        "imputedDF=removeNull.fit(df).transform(df)"
      ],
      "metadata": {
        "id": "dNq4-ZpYyky7"
      },
      "execution_count": 7,
      "outputs": []
    },
    {
      "cell_type": "markdown",
      "source": [
        "combining all independent variables into one feature vector\n"
      ],
      "metadata": {
        "id": "gx29-0nH22A2"
      }
    },
    {
      "cell_type": "code",
      "source": [
        "from pyspark.ml.feature import VectorAssembler\n",
        "input_cols=df.columns[:-1]\n",
        "assembler=VectorAssembler(inputCols=input_cols,outputCol='feature vector')\n",
        "df=assembler.transform(df)"
      ],
      "metadata": {
        "id": "oYYIzNiw3Ygg"
      },
      "execution_count": 11,
      "outputs": []
    },
    {
      "cell_type": "code",
      "source": [
        "df.select(['feature vector','Cover_Type']).show(1)"
      ],
      "metadata": {
        "colab": {
          "base_uri": "https://localhost:8080/"
        },
        "id": "lPRnIdnK43r8",
        "outputId": "d3cf4163-3fcd-4e63-fe8b-fa8f282f6f5a"
      },
      "execution_count": 13,
      "outputs": [
        {
          "output_type": "stream",
          "name": "stdout",
          "text": [
            "+--------------------+----------+\n",
            "|      feature vector|Cover_Type|\n",
            "+--------------------+----------+\n",
            "|(54,[0,1,2,3,4,5,...|         5|\n",
            "+--------------------+----------+\n",
            "only showing top 1 row\n",
            "\n"
          ]
        }
      ]
    },
    {
      "cell_type": "markdown",
      "source": [
        "3) Develop a PySpark script that trains a decision tree model on the training dataset.\n"
      ],
      "metadata": {
        "id": "vFy6bHQfylvG"
      }
    },
    {
      "cell_type": "code",
      "source": [
        "train,test=df.randomSplit([0.8,0.2])"
      ],
      "metadata": {
        "id": "DH9cwOPl5uUJ"
      },
      "execution_count": 14,
      "outputs": []
    },
    {
      "cell_type": "code",
      "source": [
        "from pyspark.ml.classification import DecisionTreeClassifier\n",
        "decisionTree=DecisionTreeClassifier(labelCol=\"Cover_Type\",featuresCol='feature vector')\n",
        "tree=decisionTree.fit(train)"
      ],
      "metadata": {
        "id": "Cscmkja2ynTm"
      },
      "execution_count": 15,
      "outputs": []
    },
    {
      "cell_type": "code",
      "source": [
        "predictions=tree.transform(test)\n",
        "predictions.show(5)"
      ],
      "metadata": {
        "colab": {
          "base_uri": "https://localhost:8080/"
        },
        "id": "ZUOz9cFl6IYt",
        "outputId": "42b0ae5d-8f8e-45af-ca09-4bfbbd529b88"
      },
      "execution_count": 16,
      "outputs": [
        {
          "output_type": "stream",
          "name": "stdout",
          "text": [
            "+---------+------+-----+--------------------------------+------------------------------+-------------------------------+-------------+--------------+-------------+----------------------------------+-----------------+-----------------+-----------------+-----------------+-----------+-----------+-----------+-----------+-----------+-----------+-----------+-----------+-----------+-----------+------------+------------+------------+------------+------------+------------+------------+------------+------------+------------+------------+------------+------------+------------+------------+------------+------------+------------+------------+------------+------------+------------+------------+------------+------------+------------+------------+------------+------------+------------+----------+--------------------+--------------------+--------------------+----------+\n",
            "|Elevation|Aspect|Slope|Horizontal_Distance_To_Hydrology|Vertical_Distance_To_Hydrology|Horizontal_Distance_To_Roadways|Hillshade_9am|Hillshade_noon|Hillshade_3pm|Horizontal_Distance_To_Fire_Points|Wilderness_Area_0|Wilderness_Area_1|Wilderness_Area_2|Wilderness_Area_3|Soil_Type_0|Soil_Type_1|Soil_Type_2|Soil_Type_3|Soil_Type_4|Soil_Type_5|Soil_Type_6|Soil_Type_7|Soil_Type_8|Soil_Type_9|Soil_Type_10|Soil_Type_11|Soil_Type_12|Soil_Type_13|Soil_Type_14|Soil_Type_15|Soil_Type_16|Soil_Type_17|Soil_Type_18|Soil_Type_19|Soil_Type_20|Soil_Type_21|Soil_Type_22|Soil_Type_23|Soil_Type_24|Soil_Type_25|Soil_Type_26|Soil_Type_27|Soil_Type_28|Soil_Type_29|Soil_Type_30|Soil_Type_31|Soil_Type_32|Soil_Type_33|Soil_Type_34|Soil_Type_35|Soil_Type_36|Soil_Type_37|Soil_Type_38|Soil_Type_39|Cover_Type|      feature vector|       rawPrediction|         probability|prediction|\n",
            "+---------+------+-----+--------------------------------+------------------------------+-------------------------------+-------------+--------------+-------------+----------------------------------+-----------------+-----------------+-----------------+-----------------+-----------+-----------+-----------+-----------+-----------+-----------+-----------+-----------+-----------+-----------+------------+------------+------------+------------+------------+------------+------------+------------+------------+------------+------------+------------+------------+------------+------------+------------+------------+------------+------------+------------+------------+------------+------------+------------+------------+------------+------------+------------+------------+------------+----------+--------------------+--------------------+--------------------+----------+\n",
            "|     1861|    35|   14|                              60|                            11|                             85|          218|           209|          124|                               832|                0|                0|                0|                1|          0|          1|          0|          0|          0|          0|          0|          0|          0|          0|           0|           0|           0|           0|           0|           0|           0|           0|           0|           0|           0|           0|           0|           0|           0|           0|           0|           0|           0|           0|           0|           0|           0|           0|           0|           0|           0|           0|           0|           0|         3|(54,[0,1,2,3,4,5,...|[0.0,0.0,896.0,16...|[0.0,0.0,0.034449...|       3.0|\n",
            "|     1872|    12|   27|                              85|                            25|                             60|          182|           174|          118|                               577|                0|                0|                0|                1|          0|          0|          0|          0|          1|          0|          0|          0|          0|          0|           0|           0|           0|           0|           0|           0|           0|           0|           0|           0|           0|           0|           0|           0|           0|           0|           0|           0|           0|           0|           0|           0|           0|           0|           0|           0|           0|           0|           0|           0|         6|(54,[0,1,2,3,4,5,...|[0.0,0.0,896.0,16...|[0.0,0.0,0.034449...|       3.0|\n",
            "|     1876|    25|   17|                             124|                            26|                            150|          209|           200|          123|                               836|                0|                0|                0|                1|          0|          1|          0|          0|          0|          0|          0|          0|          0|          0|           0|           0|           0|           0|           0|           0|           0|           0|           0|           0|           0|           0|           0|           0|           0|           0|           0|           0|           0|           0|           0|           0|           0|           0|           0|           0|           0|           0|           0|           0|         3|(54,[0,1,2,3,4,5,...|[0.0,0.0,896.0,16...|[0.0,0.0,0.034449...|       3.0|\n",
            "|     1879|    18|   14|                               0|                             0|                            120|          208|           210|          137|                               767|                0|                0|                0|                1|          0|          0|          0|          0|          1|          0|          0|          0|          0|          0|           0|           0|           0|           0|           0|           0|           0|           0|           0|           0|           0|           0|           0|           0|           0|           0|           0|           0|           0|           0|           0|           0|           0|           0|           0|           0|           0|           0|           0|           0|         6|(54,[0,1,2,5,6,7,...|[0.0,0.0,92.0,556...|[0.0,0.0,0.045931...|       4.0|\n",
            "|     1881|    31|   21|                             134|                            39|                             95|          210|           190|          109|                               742|                0|                0|                0|                1|          0|          1|          0|          0|          0|          0|          0|          0|          0|          0|           0|           0|           0|           0|           0|           0|           0|           0|           0|           0|           0|           0|           0|           0|           0|           0|           0|           0|           0|           0|           0|           0|           0|           0|           0|           0|           0|           0|           0|           0|         6|(54,[0,1,2,3,4,5,...|[0.0,0.0,896.0,16...|[0.0,0.0,0.034449...|       3.0|\n",
            "+---------+------+-----+--------------------------------+------------------------------+-------------------------------+-------------+--------------+-------------+----------------------------------+-----------------+-----------------+-----------------+-----------------+-----------+-----------+-----------+-----------+-----------+-----------+-----------+-----------+-----------+-----------+------------+------------+------------+------------+------------+------------+------------+------------+------------+------------+------------+------------+------------+------------+------------+------------+------------+------------+------------+------------+------------+------------+------------+------------+------------+------------+------------+------------+------------+------------+----------+--------------------+--------------------+--------------------+----------+\n",
            "only showing top 5 rows\n",
            "\n"
          ]
        }
      ]
    },
    {
      "cell_type": "markdown",
      "source": [
        "4)Implement code to evaluate the decision tree model using metrics such as accuracy,\n",
        "precision, and recall.\n"
      ],
      "metadata": {
        "id": "TiBoV35syo4M"
      }
    },
    {
      "cell_type": "code",
      "source": [
        "from pyspark.ml.evaluation import MulticlassClassificationEvaluator\n",
        "accuracyCalc=MulticlassClassificationEvaluator(predictionCol='prediction',labelCol='Cover_Type',metricName='accuracy')\n",
        "accuracy=accuracyCalc.evaluate(predictions)\n",
        "print(f\"accuracy={accuracy}\")"
      ],
      "metadata": {
        "colab": {
          "base_uri": "https://localhost:8080/"
        },
        "id": "rXcMn4Rjypa9",
        "outputId": "b3aead79-05a8-4261-e2c8-7fc9aafe46a3"
      },
      "execution_count": 17,
      "outputs": [
        {
          "output_type": "stream",
          "name": "stdout",
          "text": [
            "accuracy=0.6995967741935484\n"
          ]
        }
      ]
    },
    {
      "cell_type": "code",
      "source": [
        "precisionCalc=MulticlassClassificationEvaluator(predictionCol='prediction',labelCol='Cover_Type',metricName='weightedPrecision')\n",
        "precision=precisionCalc.evaluate(predictions)\n",
        "print(f\"precision={precision}\")"
      ],
      "metadata": {
        "colab": {
          "base_uri": "https://localhost:8080/"
        },
        "id": "DbkB9Zco63uF",
        "outputId": "e3850a7f-80fa-4208-8d40-81a9fefe33dc"
      },
      "execution_count": 21,
      "outputs": [
        {
          "output_type": "stream",
          "name": "stdout",
          "text": [
            "precision=0.6788392509572623\n"
          ]
        }
      ]
    },
    {
      "cell_type": "code",
      "source": [
        "recallCalc = MulticlassClassificationEvaluator(labelCol=\"Cover_Type\", predictionCol=\"prediction\", metricName=\"weightedRecall\")\n",
        "recall = recallCalc.evaluate(predictions)\n",
        "print(f\"Recall: {recall}\")"
      ],
      "metadata": {
        "colab": {
          "base_uri": "https://localhost:8080/"
        },
        "id": "sGvP-10g7C9g",
        "outputId": "740b5a5d-7c9d-40c2-ee6e-1817c9cddb3e"
      },
      "execution_count": 20,
      "outputs": [
        {
          "output_type": "stream",
          "name": "stdout",
          "text": [
            "Recall: 0.6995967741935484\n"
          ]
        }
      ]
    }
  ]
}