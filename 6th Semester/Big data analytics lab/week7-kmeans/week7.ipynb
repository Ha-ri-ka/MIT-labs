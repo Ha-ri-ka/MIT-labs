{
  "nbformat": 4,
  "nbformat_minor": 0,
  "metadata": {
    "colab": {
      "provenance": []
    },
    "kernelspec": {
      "name": "python3",
      "display_name": "Python 3"
    },
    "language_info": {
      "name": "python"
    }
  },
  "cells": [
    {
      "cell_type": "markdown",
      "source": [
        "### BELOW CODE IS TO WORK WITH SPARK IN COLAB, IGNORE IF NOT USING COLAB"
      ],
      "metadata": {
        "id": "L_d5LjGYiG1V"
      }
    },
    {
      "cell_type": "code",
      "execution_count": 1,
      "metadata": {
        "colab": {
          "base_uri": "https://localhost:8080/"
        },
        "id": "n9OCMfYxhyLl",
        "outputId": "d50332b3-0c9d-4e1d-806f-fb34e4b74270"
      },
      "outputs": [
        {
          "output_type": "stream",
          "name": "stdout",
          "text": [
            "\r0% [Working]\r            \rGet:1 https://cloud.r-project.org/bin/linux/ubuntu jammy-cran40/ InRelease [3,626 B]\n",
            "Hit:2 https://developer.download.nvidia.com/compute/cuda/repos/ubuntu2204/x86_64  InRelease\n",
            "Hit:3 http://archive.ubuntu.com/ubuntu jammy InRelease\n",
            "Get:4 http://archive.ubuntu.com/ubuntu jammy-updates InRelease [119 kB]\n",
            "Get:5 http://security.ubuntu.com/ubuntu jammy-security InRelease [110 kB]\n",
            "Hit:6 http://archive.ubuntu.com/ubuntu jammy-backports InRelease\n",
            "Hit:7 https://ppa.launchpadcontent.net/c2d4u.team/c2d4u4.0+/ubuntu jammy InRelease\n",
            "Hit:8 https://ppa.launchpadcontent.net/deadsnakes/ppa/ubuntu jammy InRelease\n",
            "Hit:9 https://ppa.launchpadcontent.net/graphics-drivers/ppa/ubuntu jammy InRelease\n",
            "Hit:10 https://ppa.launchpadcontent.net/ubuntugis/ppa/ubuntu jammy InRelease\n",
            "Get:11 http://archive.ubuntu.com/ubuntu jammy-updates/universe amd64 Packages [1,375 kB]\n",
            "Get:12 http://archive.ubuntu.com/ubuntu jammy-updates/multiverse amd64 Packages [61.3 kB]\n",
            "Get:13 http://archive.ubuntu.com/ubuntu jammy-updates/restricted amd64 Packages [2,176 kB]\n",
            "Get:14 http://archive.ubuntu.com/ubuntu jammy-updates/main amd64 Packages [1,974 kB]\n",
            "Get:15 http://security.ubuntu.com/ubuntu jammy-security/multiverse amd64 Packages [44.7 kB]\n",
            "Get:16 http://security.ubuntu.com/ubuntu jammy-security/restricted amd64 Packages [2,135 kB]\n",
            "Get:17 http://security.ubuntu.com/ubuntu jammy-security/universe amd64 Packages [1,082 kB]\n",
            "Get:18 http://security.ubuntu.com/ubuntu jammy-security/main amd64 Packages [1,691 kB]\n",
            "Fetched 10.8 MB in 4s (2,776 kB/s)\n",
            "Reading package lists... Done\n",
            "sample_data  spark-3.1.1-bin-hadoop3.2\tspark-3.1.1-bin-hadoop3.2.tgz\n"
          ]
        }
      ],
      "source": [
        "!apt-get update # Update apt-get repository.\n",
        "!apt-get install openjdk-8-jdk-headless -qq > /dev/null # Install Java.\n",
        "!wget -q http://archive.apache.org/dist/spark/spark-3.1.1/spark-3.1.1-bin-hadoop3.2.tgz # Download Apache Sparks.\n",
        "!tar xf spark-3.1.1-bin-hadoop3.2.tgz # Unzip the tgz file.\n",
        "!pip install -q findspark # Install findspark. Adds PySpark to the System path during runtime.\n",
        "\n",
        "# Set environment variables\n",
        "import os\n",
        "os.environ[\"JAVA_HOME\"] = \"/usr/lib/jvm/java-8-openjdk-amd64\"\n",
        "os.environ[\"SPARK_HOME\"] = \"/content/spark-3.1.1-bin-hadoop3.2\"\n",
        "\n",
        "!ls\n",
        "\n",
        "# Initialize findspark\n",
        "import findspark\n",
        "findspark.init()"
      ]
    },
    {
      "cell_type": "code",
      "source": [
        "import pyspark\n",
        "import os\n",
        "import sys\n",
        "from pyspark import SparkContext\n",
        "from pyspark import SparkConf\n",
        "os.environ['PYSPARK_PYTHON']=sys.executable\n",
        "os.environ['PYSPARK_DRIVER_PYTHON']=sys.executable"
      ],
      "metadata": {
        "id": "nArqmxF8iI-R"
      },
      "execution_count": 2,
      "outputs": []
    },
    {
      "cell_type": "code",
      "source": [
        "from pyspark.sql import SparkSession\n",
        "spark=SparkSession.builder.appName('week7').getOrCreate()\n",
        "spark"
      ],
      "metadata": {
        "colab": {
          "base_uri": "https://localhost:8080/",
          "height": 222
        },
        "id": "ommJipg_iKmq",
        "outputId": "63d8b1fb-38ab-4ca7-bc2a-2023b25c10bf"
      },
      "execution_count": 3,
      "outputs": [
        {
          "output_type": "execute_result",
          "data": {
            "text/plain": [
              "<pyspark.sql.session.SparkSession at 0x7d54a80fdd50>"
            ],
            "text/html": [
              "\n",
              "            <div>\n",
              "                <p><b>SparkSession - in-memory</b></p>\n",
              "                \n",
              "        <div>\n",
              "            <p><b>SparkContext</b></p>\n",
              "\n",
              "            <p><a href=\"http://3225e5000880:4040\">Spark UI</a></p>\n",
              "\n",
              "            <dl>\n",
              "              <dt>Version</dt>\n",
              "                <dd><code>v3.1.1</code></dd>\n",
              "              <dt>Master</dt>\n",
              "                <dd><code>local[*]</code></dd>\n",
              "              <dt>AppName</dt>\n",
              "                <dd><code>week7</code></dd>\n",
              "            </dl>\n",
              "        </div>\n",
              "        \n",
              "            </div>\n",
              "        "
            ]
          },
          "metadata": {},
          "execution_count": 3
        }
      ]
    },
    {
      "cell_type": "code",
      "source": [
        "path='/content/kddcup.data_10_percent_corrected'\n",
        "data=spark.read.csv(path,inferSchema=True)\n",
        "col_names = [\"duration\",\"protocol_type\",\"service\",\"flag\",\"src_bytes\",\"dst_bytes\",\"land\",\"wrong_fragment\",\"urgent\",\n",
        "                \"hot\",\"num_failed_logins\",\"logged_in\",\"num_compromised\",\"root_shell\",\"su_attempted\",\"num_root\",\n",
        "                \"num_file_creations\",\"num_shells\",\"num_access_files\",\"num_outbound_cmds\",\"is_host_login\",\"is_guest_login\",\n",
        "                \"count\",\"srv_count\",\"serror_rate\",\"srv_serror_rate\",\"rerror_rate\",\"srv_rerror_rate\",\"same_srv_rate\",\n",
        "                \"diff_srv_rate\",\"srv_diff_host_rate\",\"dst_host_count\",\"dst_host_srv_count\",\"dst_host_same_srv_rate\",\n",
        "                \"dst_host_diff_srv_rate\",\"dst_host_same_src_port_rate\",\"dst_host_srv_diff_host_rate\",\"dst_host_serror_rate\",\n",
        "                \"dst_host_srv_serror_rate\",\"dst_host_rerror_rate\",\"dst_host_srv_rerror_rate\",\"label\"]\n",
        "data=data.toDF(*col_names)\n",
        "data.show(5)\n",
        "data.printSchema()"
      ],
      "metadata": {
        "colab": {
          "base_uri": "https://localhost:8080/"
        },
        "id": "1Wc8gA7OiNY6",
        "outputId": "a9c9fec7-3226-417c-8ecd-a25d34a0f244"
      },
      "execution_count": 39,
      "outputs": [
        {
          "output_type": "stream",
          "name": "stdout",
          "text": [
            "+--------+-------------+-------+----+---------+---------+----+--------------+------+---+-----------------+---------+---------------+----------+------------+--------+------------------+----------+----------------+-----------------+-------------+--------------+-----+---------+-----------+---------------+-----------+---------------+-------------+-------------+------------------+--------------+------------------+----------------------+----------------------+---------------------------+---------------------------+--------------------+------------------------+--------------------+------------------------+-------+\n",
            "|duration|protocol_type|service|flag|src_bytes|dst_bytes|land|wrong_fragment|urgent|hot|num_failed_logins|logged_in|num_compromised|root_shell|su_attempted|num_root|num_file_creations|num_shells|num_access_files|num_outbound_cmds|is_host_login|is_guest_login|count|srv_count|serror_rate|srv_serror_rate|rerror_rate|srv_rerror_rate|same_srv_rate|diff_srv_rate|srv_diff_host_rate|dst_host_count|dst_host_srv_count|dst_host_same_srv_rate|dst_host_diff_srv_rate|dst_host_same_src_port_rate|dst_host_srv_diff_host_rate|dst_host_serror_rate|dst_host_srv_serror_rate|dst_host_rerror_rate|dst_host_srv_rerror_rate|  label|\n",
            "+--------+-------------+-------+----+---------+---------+----+--------------+------+---+-----------------+---------+---------------+----------+------------+--------+------------------+----------+----------------+-----------------+-------------+--------------+-----+---------+-----------+---------------+-----------+---------------+-------------+-------------+------------------+--------------+------------------+----------------------+----------------------+---------------------------+---------------------------+--------------------+------------------------+--------------------+------------------------+-------+\n",
            "|       0|          tcp|   http|  SF|      181|     5450|   0|             0|     0|  0|                0|        1|              0|         0|           0|       0|                 0|         0|               0|                0|            0|             0|    8|        8|        0.0|            0.0|        0.0|            0.0|          1.0|          0.0|               0.0|             9|                 9|                   1.0|                   0.0|                       0.11|                        0.0|                 0.0|                     0.0|                 0.0|                     0.0|normal.|\n",
            "|       0|          tcp|   http|  SF|      239|      486|   0|             0|     0|  0|                0|        1|              0|         0|           0|       0|                 0|         0|               0|                0|            0|             0|    8|        8|        0.0|            0.0|        0.0|            0.0|          1.0|          0.0|               0.0|            19|                19|                   1.0|                   0.0|                       0.05|                        0.0|                 0.0|                     0.0|                 0.0|                     0.0|normal.|\n",
            "|       0|          tcp|   http|  SF|      235|     1337|   0|             0|     0|  0|                0|        1|              0|         0|           0|       0|                 0|         0|               0|                0|            0|             0|    8|        8|        0.0|            0.0|        0.0|            0.0|          1.0|          0.0|               0.0|            29|                29|                   1.0|                   0.0|                       0.03|                        0.0|                 0.0|                     0.0|                 0.0|                     0.0|normal.|\n",
            "|       0|          tcp|   http|  SF|      219|     1337|   0|             0|     0|  0|                0|        1|              0|         0|           0|       0|                 0|         0|               0|                0|            0|             0|    6|        6|        0.0|            0.0|        0.0|            0.0|          1.0|          0.0|               0.0|            39|                39|                   1.0|                   0.0|                       0.03|                        0.0|                 0.0|                     0.0|                 0.0|                     0.0|normal.|\n",
            "|       0|          tcp|   http|  SF|      217|     2032|   0|             0|     0|  0|                0|        1|              0|         0|           0|       0|                 0|         0|               0|                0|            0|             0|    6|        6|        0.0|            0.0|        0.0|            0.0|          1.0|          0.0|               0.0|            49|                49|                   1.0|                   0.0|                       0.02|                        0.0|                 0.0|                     0.0|                 0.0|                     0.0|normal.|\n",
            "+--------+-------------+-------+----+---------+---------+----+--------------+------+---+-----------------+---------+---------------+----------+------------+--------+------------------+----------+----------------+-----------------+-------------+--------------+-----+---------+-----------+---------------+-----------+---------------+-------------+-------------+------------------+--------------+------------------+----------------------+----------------------+---------------------------+---------------------------+--------------------+------------------------+--------------------+------------------------+-------+\n",
            "only showing top 5 rows\n",
            "\n",
            "root\n",
            " |-- duration: integer (nullable = true)\n",
            " |-- protocol_type: string (nullable = true)\n",
            " |-- service: string (nullable = true)\n",
            " |-- flag: string (nullable = true)\n",
            " |-- src_bytes: integer (nullable = true)\n",
            " |-- dst_bytes: integer (nullable = true)\n",
            " |-- land: integer (nullable = true)\n",
            " |-- wrong_fragment: integer (nullable = true)\n",
            " |-- urgent: integer (nullable = true)\n",
            " |-- hot: integer (nullable = true)\n",
            " |-- num_failed_logins: integer (nullable = true)\n",
            " |-- logged_in: integer (nullable = true)\n",
            " |-- num_compromised: integer (nullable = true)\n",
            " |-- root_shell: integer (nullable = true)\n",
            " |-- su_attempted: integer (nullable = true)\n",
            " |-- num_root: integer (nullable = true)\n",
            " |-- num_file_creations: integer (nullable = true)\n",
            " |-- num_shells: integer (nullable = true)\n",
            " |-- num_access_files: integer (nullable = true)\n",
            " |-- num_outbound_cmds: integer (nullable = true)\n",
            " |-- is_host_login: integer (nullable = true)\n",
            " |-- is_guest_login: integer (nullable = true)\n",
            " |-- count: integer (nullable = true)\n",
            " |-- srv_count: integer (nullable = true)\n",
            " |-- serror_rate: double (nullable = true)\n",
            " |-- srv_serror_rate: double (nullable = true)\n",
            " |-- rerror_rate: double (nullable = true)\n",
            " |-- srv_rerror_rate: double (nullable = true)\n",
            " |-- same_srv_rate: double (nullable = true)\n",
            " |-- diff_srv_rate: double (nullable = true)\n",
            " |-- srv_diff_host_rate: double (nullable = true)\n",
            " |-- dst_host_count: integer (nullable = true)\n",
            " |-- dst_host_srv_count: integer (nullable = true)\n",
            " |-- dst_host_same_srv_rate: double (nullable = true)\n",
            " |-- dst_host_diff_srv_rate: double (nullable = true)\n",
            " |-- dst_host_same_src_port_rate: double (nullable = true)\n",
            " |-- dst_host_srv_diff_host_rate: double (nullable = true)\n",
            " |-- dst_host_serror_rate: double (nullable = true)\n",
            " |-- dst_host_srv_serror_rate: double (nullable = true)\n",
            " |-- dst_host_rerror_rate: double (nullable = true)\n",
            " |-- dst_host_srv_rerror_rate: double (nullable = true)\n",
            " |-- label: string (nullable = true)\n",
            "\n"
          ]
        }
      ]
    },
    {
      "cell_type": "markdown",
      "source": [
        "### 1. Implement a PySpark script to handle any missing values and scale numerical features."
      ],
      "metadata": {
        "id": "3kdqpxQpin8N"
      }
    },
    {
      "cell_type": "markdown",
      "source": [
        "just data exploration"
      ],
      "metadata": {
        "id": "0n2PqGT9p-uq"
      }
    },
    {
      "cell_type": "code",
      "source": [
        "data.groupby('label').count().show()"
      ],
      "metadata": {
        "colab": {
          "base_uri": "https://localhost:8080/"
        },
        "id": "cST3-jBRipot",
        "outputId": "902a6b31-79f7-4450-bfdf-8cf480e38fc9"
      },
      "execution_count": 40,
      "outputs": [
        {
          "output_type": "stream",
          "name": "stdout",
          "text": [
            "+----------------+------+\n",
            "|           label| count|\n",
            "+----------------+------+\n",
            "|    warezmaster.|    20|\n",
            "|          smurf.|280790|\n",
            "|            pod.|   264|\n",
            "|           imap.|    12|\n",
            "|           nmap.|   231|\n",
            "|   guess_passwd.|    53|\n",
            "|        ipsweep.|  1247|\n",
            "|      portsweep.|  1040|\n",
            "|          satan.|  1589|\n",
            "|           land.|    21|\n",
            "|     loadmodule.|     9|\n",
            "|      ftp_write.|     8|\n",
            "|buffer_overflow.|    30|\n",
            "|        rootkit.|    10|\n",
            "|    warezclient.|  1020|\n",
            "|       teardrop.|   979|\n",
            "|           perl.|     3|\n",
            "|            phf.|     4|\n",
            "|       multihop.|     7|\n",
            "|        neptune.|107201|\n",
            "+----------------+------+\n",
            "only showing top 20 rows\n",
            "\n"
          ]
        }
      ]
    },
    {
      "cell_type": "code",
      "source": [
        "categorical=[]\n",
        "numerical=[]\n",
        "for col,coltype in data.dtypes:\n",
        "  if coltype=='string':\n",
        "    categorical.append(col)\n",
        "  else:\n",
        "    numerical.append(col)"
      ],
      "metadata": {
        "id": "6N_FCS8_oMr5"
      },
      "execution_count": 41,
      "outputs": []
    },
    {
      "cell_type": "code",
      "source": [
        "numerical\n",
        "categorical"
      ],
      "metadata": {
        "colab": {
          "base_uri": "https://localhost:8080/"
        },
        "id": "PBjm6WWWpiNX",
        "outputId": "f863a547-94ed-4f6c-8fc5-076b7e312bd5"
      },
      "execution_count": 42,
      "outputs": [
        {
          "output_type": "execute_result",
          "data": {
            "text/plain": [
              "['protocol_type', 'service', 'flag', 'label']"
            ]
          },
          "metadata": {},
          "execution_count": 42
        }
      ]
    },
    {
      "cell_type": "code",
      "source": [
        "# from pyspark.ml.feature import OneHotEncoder, StringIndexer\n",
        "# from pyspark.ml import Pipeline\n",
        "# indexer1 = StringIndexer().setInputCol('protocol_type').setOutputCol('protocol_type_indexed')\n",
        "# encoder1 = OneHotEncoder().setInputCol('protocol_type_indexed').setOutputCol('protocol_type_vec')\n",
        "# pipeline1=Pipeline(stages=[indexer1,encoder1])\n",
        "# data=pipeline1.fit(data).transform(data)\n",
        "# #-----------------------------------------------------\n",
        "# indexer2 = StringIndexer(inputCol='service',outputCol='service_indexed')\n",
        "# encoder2 = OneHotEncoder(inputCol='service_indexed',outputCol='service_vec')\n",
        "# pipeline2=Pipeline(stages=[indexer2,encoder2])\n",
        "# #--------------------------------------------------------\n",
        "# indexer3= StringIndexer(inputCol='flag',outputCol='flag_indexed')\n",
        "# encoder3= OneHotEncoder(inputCol='flag_indexed',outputCol='flag_vec')\n",
        "# pipeline3=Pipeline(stages=[indexer3,encoder3])"
      ],
      "metadata": {
        "id": "WuYTkI6MxEsQ"
      },
      "execution_count": null,
      "outputs": []
    },
    {
      "cell_type": "code",
      "source": [
        "# pipeline1_model = pipeline1.fit(data)\n",
        "# data = pipeline1_model.transform(data)\n",
        "\n",
        "# pipeline2_model = pipeline2.fit(data)\n",
        "# data = pipeline2_model.transform(data)\n",
        "\n",
        "# pipeline3_model = pipeline3.fit(data)\n",
        "# data = pipeline3_model.transform(data)"
      ],
      "metadata": {
        "id": "A35YDLBUzDe7"
      },
      "execution_count": null,
      "outputs": []
    },
    {
      "cell_type": "code",
      "source": [
        "from pyspark.ml.feature import VectorAssembler\n",
        "output='featureVector'\n",
        "assembler=VectorAssembler(inputCols=numerical,outputCol=output)\n",
        "data=assembler.transform(data)\n",
        "data.select([\"featureVector\",\"label\"]).show()"
      ],
      "metadata": {
        "colab": {
          "base_uri": "https://localhost:8080/"
        },
        "id": "xx1gO5u9qDpY",
        "outputId": "6a4d5e7a-dc9d-4d2d-a87e-671dffc59b66"
      },
      "execution_count": 29,
      "outputs": [
        {
          "output_type": "stream",
          "name": "stdout",
          "text": [
            "+--------------------+-------+\n",
            "|       featureVector|  label|\n",
            "+--------------------+-------+\n",
            "|(38,[1,2,8,19,20,...|normal.|\n",
            "|(38,[1,2,8,19,20,...|normal.|\n",
            "|(38,[1,2,8,19,20,...|normal.|\n",
            "|(38,[1,2,8,19,20,...|normal.|\n",
            "|(38,[1,2,8,19,20,...|normal.|\n",
            "|(38,[1,2,8,19,20,...|normal.|\n",
            "|(38,[1,2,8,19,20,...|normal.|\n",
            "|(38,[1,2,8,19,20,...|normal.|\n",
            "|(38,[1,2,8,19,20,...|normal.|\n",
            "|(38,[1,2,6,8,19,2...|normal.|\n",
            "|(38,[1,2,8,19,20,...|normal.|\n",
            "|(38,[1,2,8,19,20,...|normal.|\n",
            "|(38,[1,2,8,19,20,...|normal.|\n",
            "|(38,[1,2,8,19,20,...|normal.|\n",
            "|(38,[1,2,8,19,20,...|normal.|\n",
            "|(38,[1,2,8,19,20,...|normal.|\n",
            "|(38,[1,2,8,19,20,...|normal.|\n",
            "|(38,[1,2,8,19,20,...|normal.|\n",
            "|(38,[1,2,8,19,20,...|normal.|\n",
            "|(38,[1,2,8,19,20,...|normal.|\n",
            "+--------------------+-------+\n",
            "only showing top 20 rows\n",
            "\n"
          ]
        }
      ]
    },
    {
      "cell_type": "code",
      "source": [
        "from pyspark.ml.feature import StandardScaler\n",
        "scaler = StandardScaler(inputCol=\"featureVector\",outputCol=\"scaledFeatures\",withStd=True,withMean=True)\n",
        "scaler_model = scaler.fit(data)\n",
        "data = scaler_model.transform(data)\n",
        "data.select('featureVector','scaledFeatures').show()"
      ],
      "metadata": {
        "colab": {
          "base_uri": "https://localhost:8080/"
        },
        "id": "sdkxqJQhuijF",
        "outputId": "9e87c30d-bb56-4880-dd4a-758c31c929c4"
      },
      "execution_count": 30,
      "outputs": [
        {
          "output_type": "stream",
          "name": "stdout",
          "text": [
            "+--------------------+--------------------+\n",
            "|       featureVector|      scaledFeatures|\n",
            "+--------------------+--------------------+\n",
            "|(38,[1,2,8,19,20,...|[-0.0677916519216...|\n",
            "|(38,[1,2,8,19,20,...|[-0.0677916519216...|\n",
            "|(38,[1,2,8,19,20,...|[-0.0677916519216...|\n",
            "|(38,[1,2,8,19,20,...|[-0.0677916519216...|\n",
            "|(38,[1,2,8,19,20,...|[-0.0677916519216...|\n",
            "|(38,[1,2,8,19,20,...|[-0.0677916519216...|\n",
            "|(38,[1,2,8,19,20,...|[-0.0677916519216...|\n",
            "|(38,[1,2,8,19,20,...|[-0.0677916519216...|\n",
            "|(38,[1,2,8,19,20,...|[-0.0677916519216...|\n",
            "|(38,[1,2,6,8,19,2...|[-0.0677916519216...|\n",
            "|(38,[1,2,8,19,20,...|[-0.0677916519216...|\n",
            "|(38,[1,2,8,19,20,...|[-0.0677916519216...|\n",
            "|(38,[1,2,8,19,20,...|[-0.0677916519216...|\n",
            "|(38,[1,2,8,19,20,...|[-0.0677916519216...|\n",
            "|(38,[1,2,8,19,20,...|[-0.0677916519216...|\n",
            "|(38,[1,2,8,19,20,...|[-0.0677916519216...|\n",
            "|(38,[1,2,8,19,20,...|[-0.0677916519216...|\n",
            "|(38,[1,2,8,19,20,...|[-0.0677916519216...|\n",
            "|(38,[1,2,8,19,20,...|[-0.0677916519216...|\n",
            "|(38,[1,2,8,19,20,...|[-0.0677916519216...|\n",
            "+--------------------+--------------------+\n",
            "only showing top 20 rows\n",
            "\n"
          ]
        }
      ]
    },
    {
      "cell_type": "code",
      "source": [
        "df=data.drop(\"protocol_type\", \"service\", \"flag\")"
      ],
      "metadata": {
        "id": "hfZH9Ro7wDZl"
      },
      "execution_count": 33,
      "outputs": []
    },
    {
      "cell_type": "markdown",
      "source": [
        "### 2. Develop a PySpark script that uses the K-means algorithm to cluster data points."
      ],
      "metadata": {
        "id": "6klmpnnfiqEi"
      }
    },
    {
      "cell_type": "code",
      "source": [
        "from pyspark.ml.clustering import KMeans, KMeansModel\n",
        "trainErr=[]\n",
        "for k in list(range(60, 271, 30)):\n",
        "  kmeans = KMeans().setK(k).setPredictionCol(\"cluster\").setFeaturesCol(\"featureVector\")\n",
        "  model=kmeans.fit(df)\n",
        "  trainErr.append(model.summary.trainingCost)"
      ],
      "metadata": {
        "id": "aNebvwgG23sB"
      },
      "execution_count": 57,
      "outputs": []
    },
    {
      "cell_type": "code",
      "source": [
        "j=0\n",
        "dictErr={}\n",
        "for k in list(range(60, 271, 30)):\n",
        "  print(k,trainErr[j])\n",
        "  dictErr[trainErr[j]]=k\n",
        "  j+=1"
      ],
      "metadata": {
        "colab": {
          "base_uri": "https://localhost:8080/"
        },
        "id": "UOos8G0-36to",
        "outputId": "b79ce1fc-63b4-42ef-bbcf-10b071c5b01d"
      },
      "execution_count": 60,
      "outputs": [
        {
          "output_type": "stream",
          "name": "stdout",
          "text": [
            "60 7751541631484.611\n",
            "90 2388235091217.2354\n",
            "120 1436504486348.055\n",
            "150 1046375201472.1158\n",
            "180 256531168364.16345\n",
            "210 250114380913.06305\n",
            "240 247015879019.6136\n",
            "270 242244023270.63904\n"
          ]
        }
      ]
    },
    {
      "cell_type": "code",
      "source": [
        "print(f\"best k={dictErr[min(trainErr)]} with error={min(trainErr)}\")"
      ],
      "metadata": {
        "colab": {
          "base_uri": "https://localhost:8080/"
        },
        "id": "yAEjKg8d4He1",
        "outputId": "b6bcca7c-742c-4793-cd2d-5fa62c11ad70"
      },
      "execution_count": 62,
      "outputs": [
        {
          "output_type": "stream",
          "name": "stdout",
          "text": [
            "best k=270 with error=242244023270.63904\n"
          ]
        }
      ]
    },
    {
      "cell_type": "code",
      "source": [
        "k = 270\n",
        "# Define KMeans model\n",
        "kmeans = KMeans().setK(k).setPredictionCol(\"cluster\").setFeaturesCol(\"featureVector\")\n",
        "# Fit KMeans model to data\n",
        "model = kmeans.fit(df)\n",
        "# Transform data using the pipeline model and select relevant columns\n",
        "transformed_data = model.transform(df).select(\"cluster\", \"label\")\n",
        "# Group by cluster and label, count occurrences, and order by cluster and label\n",
        "count_by_cluster_label = transformed_data.groupBy(\"cluster\", \"label\").count().orderBy(\"cluster\", \"label\")\n",
        "# Show the counts for the specified k value\n",
        "count_by_cluster_label.show()"
      ],
      "metadata": {
        "colab": {
          "base_uri": "https://localhost:8080/"
        },
        "id": "coSMgu_c5Kph",
        "outputId": "ba5c0269-0c44-48e9-e3f8-a388ebac206e"
      },
      "execution_count": 67,
      "outputs": [
        {
          "output_type": "stream",
          "name": "stdout",
          "text": [
            "+-------+-------------+------+\n",
            "|cluster|        label| count|\n",
            "+-------+-------------+------+\n",
            "|      0|   ftp_write.|     6|\n",
            "|      0|guess_passwd.|    52|\n",
            "|      0|        imap.|     9|\n",
            "|      0|     ipsweep.|  1247|\n",
            "|      0|        land.|    21|\n",
            "|      0|    multihop.|     2|\n",
            "|      0|     neptune.|107201|\n",
            "|      0|        nmap.|   231|\n",
            "|      0|      normal.| 41389|\n",
            "|      0|         pod.|     5|\n",
            "|      0|   portsweep.|   964|\n",
            "|      0|     rootkit.|     6|\n",
            "|      0|       satan.|  1588|\n",
            "|      0|       smurf.|    24|\n",
            "|      0|    teardrop.|   979|\n",
            "|      0| warezclient.|   590|\n",
            "|      0| warezmaster.|     1|\n",
            "|      1|   portsweep.|     1|\n",
            "|      2|      normal.|     1|\n",
            "|      2| warezmaster.|    15|\n",
            "+-------+-------------+------+\n",
            "only showing top 20 rows\n",
            "\n"
          ]
        }
      ]
    }
  ]
}