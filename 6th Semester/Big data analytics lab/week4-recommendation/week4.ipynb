{
  "nbformat": 4,
  "nbformat_minor": 0,
  "metadata": {
    "colab": {
      "provenance": []
    },
    "kernelspec": {
      "name": "python3",
      "display_name": "Python 3"
    },
    "language_info": {
      "name": "python"
    }
  },
  "cells": [
    {
      "cell_type": "markdown",
      "source": [
        "### BELOW CODE IS TO WORK WITH SPARK IN COLAB, IGNORE IF NOT USING COLAB"
      ],
      "metadata": {
        "id": "zeyMy91d84ZU"
      }
    },
    {
      "cell_type": "code",
      "execution_count": 2,
      "metadata": {
        "colab": {
          "base_uri": "https://localhost:8080/"
        },
        "id": "1ZNRlpvO8hn5",
        "outputId": "cee43f33-d3a3-4b93-fb32-125537380dd5"
      },
      "outputs": [
        {
          "output_type": "stream",
          "name": "stdout",
          "text": [
            "\r0% [Working]\r            \rGet:1 https://cloud.r-project.org/bin/linux/ubuntu jammy-cran40/ InRelease [3,626 B]\n",
            "\r0% [Waiting for headers] [Connecting to security.ubuntu.com] [1 InRelease 0 B/3,626 B 0%] [Connectin\r0% [Waiting for headers] [Connecting to security.ubuntu.com] [Connecting to ppa.launchpadcontent.net\r                                                                                                    \rHit:2 https://developer.download.nvidia.com/compute/cuda/repos/ubuntu2204/x86_64  InRelease\n",
            "\r0% [Waiting for headers] [Connecting to security.ubuntu.com] [Connecting to ppa.launchpadcontent.net\r                                                                                                    \rHit:3 http://archive.ubuntu.com/ubuntu jammy InRelease\n",
            "Get:4 http://archive.ubuntu.com/ubuntu jammy-updates InRelease [119 kB]\n",
            "Get:5 http://security.ubuntu.com/ubuntu jammy-security InRelease [110 kB]\n",
            "Hit:6 http://archive.ubuntu.com/ubuntu jammy-backports InRelease\n",
            "Get:7 http://archive.ubuntu.com/ubuntu jammy-updates/restricted amd64 Packages [2,174 kB]\n",
            "Hit:8 https://ppa.launchpadcontent.net/c2d4u.team/c2d4u4.0+/ubuntu jammy InRelease\n",
            "Hit:9 https://ppa.launchpadcontent.net/deadsnakes/ppa/ubuntu jammy InRelease\n",
            "Get:10 http://security.ubuntu.com/ubuntu jammy-security/universe amd64 Packages [1,081 kB]\n",
            "Hit:11 https://ppa.launchpadcontent.net/graphics-drivers/ppa/ubuntu jammy InRelease\n",
            "Get:12 http://archive.ubuntu.com/ubuntu jammy-updates/universe amd64 Packages [1,374 kB]\n",
            "Get:13 http://archive.ubuntu.com/ubuntu jammy-updates/main amd64 Packages [1,974 kB]\n",
            "Hit:14 https://ppa.launchpadcontent.net/ubuntugis/ppa/ubuntu jammy InRelease\n",
            "Get:15 http://security.ubuntu.com/ubuntu jammy-security/main amd64 Packages [1,691 kB]\n",
            "Fetched 8,527 kB in 2s (4,419 kB/s)\n",
            "Reading package lists... Done\n",
            "'movies 1.json'   sample_data   spark-3.1.1-bin-hadoop3.2   spark-3.1.1-bin-hadoop3.2.tgz\n"
          ]
        }
      ],
      "source": [
        "!apt-get update # Update apt-get repository.\n",
        "!apt-get install openjdk-8-jdk-headless -qq > /dev/null # Install Java.\n",
        "!wget -q http://archive.apache.org/dist/spark/spark-3.1.1/spark-3.1.1-bin-hadoop3.2.tgz # Download Apache Sparks.\n",
        "!tar xf spark-3.1.1-bin-hadoop3.2.tgz # Unzip the tgz file.\n",
        "!pip install -q findspark # Install findspark. Adds PySpark to the System path during runtime.\n",
        "\n",
        "# Set environment variables\n",
        "import os\n",
        "os.environ[\"JAVA_HOME\"] = \"/usr/lib/jvm/java-8-openjdk-amd64\"\n",
        "os.environ[\"SPARK_HOME\"] = \"/content/spark-3.1.1-bin-hadoop3.2\"\n",
        "\n",
        "!ls\n",
        "\n",
        "# Initialize findspark\n",
        "import findspark\n",
        "findspark.init()"
      ]
    },
    {
      "cell_type": "code",
      "source": [
        "import pyspark\n",
        "import os\n",
        "import sys\n",
        "from pyspark import SparkContext\n",
        "from pyspark import SparkConf\n",
        "os.environ['PYSPARK_PYTHON']=sys.executable\n",
        "os.environ['PYSPARK_DRIVER_PYTHON']=sys.executable"
      ],
      "metadata": {
        "id": "8hV-V_3t82c3"
      },
      "execution_count": 3,
      "outputs": []
    },
    {
      "cell_type": "code",
      "source": [
        "from pyspark.sql import SparkSession\n",
        "spark=SparkSession.builder.appName('week4').getOrCreate()\n",
        "spark"
      ],
      "metadata": {
        "colab": {
          "base_uri": "https://localhost:8080/",
          "height": 222
        },
        "id": "ar4wSDjq82Pg",
        "outputId": "282d0a2c-f48b-4e71-d9c2-c4cb7c572ccd"
      },
      "execution_count": 4,
      "outputs": [
        {
          "output_type": "execute_result",
          "data": {
            "text/plain": [
              "<pyspark.sql.session.SparkSession at 0x7a305c17e9b0>"
            ],
            "text/html": [
              "\n",
              "            <div>\n",
              "                <p><b>SparkSession - in-memory</b></p>\n",
              "                \n",
              "        <div>\n",
              "            <p><b>SparkContext</b></p>\n",
              "\n",
              "            <p><a href=\"http://c23a387d8aca:4040\">Spark UI</a></p>\n",
              "\n",
              "            <dl>\n",
              "              <dt>Version</dt>\n",
              "                <dd><code>v3.1.1</code></dd>\n",
              "              <dt>Master</dt>\n",
              "                <dd><code>local[*]</code></dd>\n",
              "              <dt>AppName</dt>\n",
              "                <dd><code>week4</code></dd>\n",
              "            </dl>\n",
              "        </div>\n",
              "        \n",
              "            </div>\n",
              "        "
            ]
          },
          "metadata": {},
          "execution_count": 4
        }
      ]
    },
    {
      "cell_type": "markdown",
      "source": [
        "### 1) Demonstrate how to load a dataset suitable for recommendation systems into a PySpark DataFrame.\n",
        "\n",
        "\n",
        "\n"
      ],
      "metadata": {
        "id": "cqv3Q0-N9cRy"
      }
    },
    {
      "cell_type": "code",
      "source": [
        "path='/content/movies 1.json'\n",
        "data=spark.read.json(path)\n",
        "data.show()"
      ],
      "metadata": {
        "colab": {
          "base_uri": "https://localhost:8080/"
        },
        "id": "JxCeVCNQ_2QQ",
        "outputId": "d2f0e107-ea37-4db8-8b39-de87a218ef26"
      },
      "execution_count": 5,
      "outputs": [
        {
          "output_type": "stream",
          "name": "stdout",
          "text": [
            "+-----------+----------+--------------------+--------------------+-----+--------------------+----------+--------------+\n",
            "|helpfulness|product_id|        profile_name|              review|score|             summary|      time|       user_id|\n",
            "+-----------+----------+--------------------+--------------------+-----+--------------------+----------+--------------+\n",
            "|        7/7|B003AI2VGA|Brian E. Erland \"...|Synopsis: On the ...|  3.0|\"There Is So Much...|1182729600|A141HP4LYPWMSR|\n",
            "|        4/4|B003AI2VGA|          Grady Harp|THE VIRGIN OF JUA...|  3.0|Worthwhile and Im...|1181952000|A328S9RN3U5M68|\n",
            "|       8/10|B003AI2VGA|Chrissy K. McVay ...|The scenes in thi...|  5.0|This movie needed...|1164844800|A1I7QGUDP043DG|\n",
            "|        1/1|B003AI2VGA|        golgotha.gov|THE VIRGIN OF JUA...|  3.0|distantly based o...|1197158400|A1M5405JH9THP9|\n",
            "|        1/1|B003AI2VGA|KerrLines \"&#34;M...|Informationally, ...|  3.0|\"What's going on ...|1188345600| ATXL536YX71TR|\n",
            "|        0/0|B003AI2VGA|abra \"a devoted r...|The murders in Ju...|  2.0|Pretty pointless ...|1229040000|A3QYDL5CDNYN66|\n",
            "|       3/11|B003AI2VGA| Charles R. Williams|Mexican men are m...|  1.0|This is junk, sta...|1164153600| AQJVNDW6YZFQS|\n",
            "|      64/65|B00006HAXW|   Anthony Accordino|Over the past few...|  5.0|A  Rock N Roll Hi...|1060473600| AD4CDZK7D31XP|\n",
            "|      26/26|B00006HAXW|    Joseph P. Aiello|I recvd this vide...|  5.0|A  MUST-HAVE  vid...|1041292800|A3Q4S5DFVPB70D|\n",
            "|      24/24|B00006HAXW|     \"bruce_from_la\"|Wow! When I saw t...|  5.0|If You Like DooWo...|1061164800|A2P7UB02HAVEPB|\n",
            "|      22/23|B00006HAXW|    Henrique Peirano|I have the Doo Wo...|  4.0|    I expected more.|1039564800|A2TX99AZKDK0V7|\n",
            "|      14/14|B00006HAXW|      Richard Albero|Having worked in ...|  5.0|Professional Exce...|1045526400| AFC8IKR407HSK|\n",
            "|        9/9|B00006HAXW|                 Les|The people who ha...|  5.0|Marvelous, just M...|1062979200|A1FRPGQYQTAOR1|\n",
            "|        9/9|B00006HAXW|     Joseph M. Kotow|I have all of the...|  5.0|Pittsburgh - Home...|1042502400|A1RSDE90N6RSZF|\n",
            "|        7/7|B00006HAXW|      \"fellafromnyc\"|The performance o...|  4.0|They sang in the ...|1049846400|A1OUBOGB5970AO|\n",
            "|        7/7|B00006HAXW|           S. Dorman|Get it, also get ...|  5.0|DOO WOP RECORDED ...|1047945600|A3NPHQVIY59Y0Y|\n",
            "|        7/7|B00006HAXW|                 RFP|Excellent, excell...|  5.0|ROCK RYTHM AND DO...|1038787200| AFKMBAY28XO8A|\n",
            "|        4/4|B00006HAXW|           C. Thomas|This video is awe...|  5.0|Unbelievable Best...|1177804800| A66KMXH9V7OGU|\n",
            "|        3/3|B00006HAXW|   Michael A. Martin|As I stated in my...|  5.0|Another outstandi...|1200096000| AFJ27ZV9183B8|\n",
            "|        5/6|B00006HAXW|C. W. Emblom \"Bil...|I own both the VH...|  5.0|Outstanding Wheth...|1082592000| AXMKAXC0TR9AW|\n",
            "+-----------+----------+--------------------+--------------------+-----+--------------------+----------+--------------+\n",
            "only showing top 20 rows\n",
            "\n"
          ]
        }
      ]
    },
    {
      "cell_type": "markdown",
      "source": [
        "out of all the columns in dataset, only userid, movieid and score contribute to giving information about what the users like. so we discaard everything and consider only those."
      ],
      "metadata": {
        "id": "wSAaqGaBkjTR"
      }
    },
    {
      "cell_type": "code",
      "source": [
        "df=data.select(\"user_id\",\"product_id\",\"score\")\n",
        "df.show(5)"
      ],
      "metadata": {
        "colab": {
          "base_uri": "https://localhost:8080/"
        },
        "id": "c6-W-QMskc2P",
        "outputId": "82d13243-5a68-4532-99e3-ef906bc2427f"
      },
      "execution_count": 17,
      "outputs": [
        {
          "output_type": "stream",
          "name": "stdout",
          "text": [
            "+--------------+----------+-----+\n",
            "|       user_id|product_id|score|\n",
            "+--------------+----------+-----+\n",
            "|A141HP4LYPWMSR|B003AI2VGA|  3.0|\n",
            "|A328S9RN3U5M68|B003AI2VGA|  3.0|\n",
            "|A1I7QGUDP043DG|B003AI2VGA|  5.0|\n",
            "|A1M5405JH9THP9|B003AI2VGA|  3.0|\n",
            "| ATXL536YX71TR|B003AI2VGA|  3.0|\n",
            "+--------------+----------+-----+\n",
            "only showing top 5 rows\n",
            "\n"
          ]
        }
      ]
    },
    {
      "cell_type": "markdown",
      "source": [
        "to fit to model,we need numerical values. so we convert categorical values of user and product IDs to numerical values using indexer."
      ],
      "metadata": {
        "id": "3VeWiW4Hk5FF"
      }
    },
    {
      "cell_type": "code",
      "source": [
        "from pyspark.ml.feature import StringIndexer\n",
        "from pyspark.ml import Pipeline\n",
        "user_indexer=StringIndexer(inputCol='user_id',outputCol='user_id_indexed')\n",
        "product_indexer=StringIndexer(inputCol='product_id',outputCol='prod_id_indexed')\n",
        "indexing=Pipeline(stages=[user_indexer,product_indexer])\n",
        "df_indexed=indexing.fit(df).transform(df)\n",
        "df_indexed.show(5)"
      ],
      "metadata": {
        "colab": {
          "base_uri": "https://localhost:8080/"
        },
        "id": "K2aLXzEuk4BD",
        "outputId": "9b3bcdb6-591a-4fe1-be15-b51bb72e3605"
      },
      "execution_count": 20,
      "outputs": [
        {
          "output_type": "stream",
          "name": "stdout",
          "text": [
            "+--------------+----------+-----+---------------+---------------+\n",
            "|       user_id|product_id|score|user_id_indexed|prod_id_indexed|\n",
            "+--------------+----------+-----+---------------+---------------+\n",
            "|A141HP4LYPWMSR|B003AI2VGA|  3.0|           32.0|          731.0|\n",
            "|A328S9RN3U5M68|B003AI2VGA|  3.0|            3.0|          731.0|\n",
            "|A1I7QGUDP043DG|B003AI2VGA|  5.0|          312.0|          731.0|\n",
            "|A1M5405JH9THP9|B003AI2VGA|  3.0|        10917.0|          731.0|\n",
            "| ATXL536YX71TR|B003AI2VGA|  3.0|          173.0|          731.0|\n",
            "+--------------+----------+-----+---------------+---------------+\n",
            "only showing top 5 rows\n",
            "\n"
          ]
        }
      ]
    },
    {
      "cell_type": "markdown",
      "source": [
        "### 2) Implement a PySpark script that splits the data and trains a recommendation model. and 3) Implement a PySpark script using the ALS algorithm for collaborative filtering."
      ],
      "metadata": {
        "id": "HycRe9_o9j7U"
      }
    },
    {
      "cell_type": "code",
      "source": [
        "from pyspark.ml.recommendation import ALS\n",
        "train,test=df_indexed.randomSplit([0.8,0.2])\n",
        "als=ALS(\n",
        "    userCol='user_id_indexed',\n",
        "    itemCol='prod_id_indexed',\n",
        "    ratingCol='score',\n",
        "    rank=10,\n",
        "    regParam=0.01,\n",
        "    coldStartStrategy='drop'\n",
        ")\n",
        "model=als.fit(train)"
      ],
      "metadata": {
        "id": "ReSb3aA-l5J8"
      },
      "execution_count": 22,
      "outputs": []
    },
    {
      "cell_type": "code",
      "source": [
        "predictions=model.transform(test)\n",
        "predictions.show(5)"
      ],
      "metadata": {
        "colab": {
          "base_uri": "https://localhost:8080/"
        },
        "id": "f4lm5kCeqwRp",
        "outputId": "0d0dfa75-fa31-46b0-f0e3-b13452c0d574"
      },
      "execution_count": 23,
      "outputs": [
        {
          "output_type": "stream",
          "name": "stdout",
          "text": [
            "+--------------+----------+-----+---------------+---------------+----------+\n",
            "|       user_id|product_id|score|user_id_indexed|prod_id_indexed|prediction|\n",
            "+--------------+----------+-----+---------------+---------------+----------+\n",
            "| AF61MRUO1WLFN|B003U6SJXQ|  2.0|         5338.0|          148.0|0.45314217|\n",
            "|  AIMR915K4YCN|B003U6SJXQ|  4.0|           15.0|          148.0|  2.509585|\n",
            "|A27H9DOUGY9FOS|B003U6SJXQ|  4.0|           59.0|          148.0|  3.929099|\n",
            "|A3M6RVUVZOQZLB|B003U6SJXQ|  5.0|         1000.0|          148.0|  3.291792|\n",
            "|A1UOTG037037XY|B003U6SJXQ|  2.0|          181.0|          148.0|  8.228476|\n",
            "+--------------+----------+-----+---------------+---------------+----------+\n",
            "only showing top 5 rows\n",
            "\n"
          ]
        }
      ]
    },
    {
      "cell_type": "markdown",
      "source": [
        "### 4) Implement code to evaluate the performance of the recommendation model using appropriate metrics."
      ],
      "metadata": {
        "id": "yVUFVkjb9lBK"
      }
    },
    {
      "cell_type": "code",
      "source": [
        "from pyspark.ml.evaluation import RegressionEvaluator\n",
        "evaluator=RegressionEvaluator(predictionCol=\"prediction\",labelCol=\"score\",metricName='rmse')\n",
        "loss=evaluator.evaluate(predictions)\n",
        "print(f\"loss={loss}\")"
      ],
      "metadata": {
        "colab": {
          "base_uri": "https://localhost:8080/"
        },
        "id": "s1KjlsKhrFDJ",
        "outputId": "eb3673e0-ef83-4e12-8f80-0602a8d01304"
      },
      "execution_count": 24,
      "outputs": [
        {
          "output_type": "stream",
          "name": "stdout",
          "text": [
            "loss=3.887200062195211\n"
          ]
        }
      ]
    },
    {
      "cell_type": "markdown",
      "source": [
        "users and movies recommended for them"
      ],
      "metadata": {
        "id": "dtTINzKNsa6S"
      }
    },
    {
      "cell_type": "code",
      "source": [
        "userRecs = model.recommendForAllUsers(5)\n",
        "userRecs.show()"
      ],
      "metadata": {
        "colab": {
          "base_uri": "https://localhost:8080/"
        },
        "id": "fmoBTUpesdJE",
        "outputId": "9593f593-6408-4df9-cd12-9106d2617cf5"
      },
      "execution_count": 25,
      "outputs": [
        {
          "output_type": "stream",
          "name": "stdout",
          "text": [
            "+---------------+--------------------+\n",
            "|user_id_indexed|     recommendations|\n",
            "+---------------+--------------------+\n",
            "|            148|[{541, 21.881218}...|\n",
            "|            463|[{491, 17.087206}...|\n",
            "|            471|[{577, 33.52524},...|\n",
            "|            496|[{770, 21.761837}...|\n",
            "|            833|[{587, 20.524448}...|\n",
            "|           1088|[{774, 8.919004},...|\n",
            "|           1238|[{554, 6.2746067}...|\n",
            "|           1342|[{394, 14.19214},...|\n",
            "|           1580|[{540, 16.189127}...|\n",
            "|           1591|[{661, 14.073083}...|\n",
            "|           1645|[{700, 2.716014},...|\n",
            "|           1829|[{547, 5.6317167}...|\n",
            "|           1959|[{506, 10.049072}...|\n",
            "|           2122|[{665, 6.8981977}...|\n",
            "|           2142|[{255, 4.9989877}...|\n",
            "|           2366|[{427, 12.485628}...|\n",
            "|           2659|[{733, 10.706466}...|\n",
            "|           2866|[{656, 15.0777445...|\n",
            "|           3175|[{770, 14.365597}...|\n",
            "|           3749|[{427, 10.162886}...|\n",
            "+---------------+--------------------+\n",
            "only showing top 20 rows\n",
            "\n"
          ]
        }
      ]
    },
    {
      "cell_type": "markdown",
      "source": [
        "movies and users that might like the movies"
      ],
      "metadata": {
        "id": "wakj35-5uAcK"
      }
    },
    {
      "cell_type": "code",
      "source": [
        "itemRecs = model.recommendForAllItems(5)\n",
        "itemRecs.show()"
      ],
      "metadata": {
        "colab": {
          "base_uri": "https://localhost:8080/"
        },
        "id": "5tfUcsInssiG",
        "outputId": "cb24bca0-d571-483d-b8e1-3343a7236983"
      },
      "execution_count": 26,
      "outputs": [
        {
          "output_type": "stream",
          "name": "stdout",
          "text": [
            "+---------------+--------------------+\n",
            "|prod_id_indexed|     recommendations|\n",
            "+---------------+--------------------+\n",
            "|            471|[{102, 21.59742},...|\n",
            "|           1342|[{152, 3.9051003}...|\n",
            "|            463|[{67, 24.56299}, ...|\n",
            "|            833|[{119, 29.114319}...|\n",
            "|            496|[{270, 27.600008}...|\n",
            "|            148|[{498, 12.221058}...|\n",
            "|           1088|[{86, 5.74053}, {...|\n",
            "|           1238|[{328, 13.444728}...|\n",
            "|            540|[{164, 45.41156},...|\n",
            "|           1460|[{350, 7.7674236}...|\n",
            "|            392|[{77, 35.093914},...|\n",
            "|           1522|[{106, 4.5277824}...|\n",
            "|            243|[{164, 19.136005}...|\n",
            "|            623|[{86, 28.25417}, ...|\n",
            "|           1483|[{156, 19.715994}...|\n",
            "|           1084|[{99, 12.665609},...|\n",
            "|           1025|[{86, 37.33557}, ...|\n",
            "|           1395|[{124, 11.546415}...|\n",
            "|            737|[{454, 22.694351}...|\n",
            "|            897|[{46, 19.376152},...|\n",
            "+---------------+--------------------+\n",
            "only showing top 20 rows\n",
            "\n"
          ]
        }
      ]
    }
  ]
}