{
  "nbformat": 4,
  "nbformat_minor": 0,
  "metadata": {
    "colab": {
      "provenance": []
    },
    "kernelspec": {
      "name": "python3",
      "display_name": "Python 3"
    },
    "language_info": {
      "name": "python"
    }
  },
  "cells": [
    {
      "cell_type": "markdown",
      "source": [
        "### BELOW CODE IS TO WORK WITH SPARK IN COLAB, IGNORE IF NOT USING COLAB"
      ],
      "metadata": {
        "id": "IaSeKemENfl0"
      }
    },
    {
      "cell_type": "code",
      "execution_count": 1,
      "metadata": {
        "colab": {
          "base_uri": "https://localhost:8080/"
        },
        "id": "UZr0He4Y7_sD",
        "outputId": "1dea52dd-d971-4474-f45b-50b435ab4b5d"
      },
      "outputs": [
        {
          "output_type": "stream",
          "name": "stdout",
          "text": [
            "\r0% [Working]\r            \rGet:1 https://cloud.r-project.org/bin/linux/ubuntu jammy-cran40/ InRelease [3,626 B]\n",
            "Hit:2 https://developer.download.nvidia.com/compute/cuda/repos/ubuntu2204/x86_64  InRelease\n",
            "Get:3 http://security.ubuntu.com/ubuntu jammy-security InRelease [110 kB]\n",
            "Hit:4 http://archive.ubuntu.com/ubuntu jammy InRelease\n",
            "Get:5 http://archive.ubuntu.com/ubuntu jammy-updates InRelease [119 kB]\n",
            "Hit:6 https://ppa.launchpadcontent.net/c2d4u.team/c2d4u4.0+/ubuntu jammy InRelease\n",
            "Hit:7 https://ppa.launchpadcontent.net/deadsnakes/ppa/ubuntu jammy InRelease\n",
            "Hit:8 http://archive.ubuntu.com/ubuntu jammy-backports InRelease\n",
            "Hit:9 https://ppa.launchpadcontent.net/graphics-drivers/ppa/ubuntu jammy InRelease\n",
            "Hit:10 https://ppa.launchpadcontent.net/ubuntugis/ppa/ubuntu jammy InRelease\n",
            "Get:11 http://security.ubuntu.com/ubuntu jammy-security/main amd64 Packages [1,691 kB]\n",
            "Get:12 http://security.ubuntu.com/ubuntu jammy-security/universe amd64 Packages [1,081 kB]\n",
            "Get:13 http://archive.ubuntu.com/ubuntu jammy-updates/restricted amd64 Packages [2,174 kB]\n",
            "Get:14 http://archive.ubuntu.com/ubuntu jammy-updates/main amd64 Packages [1,974 kB]\n",
            "Get:15 http://archive.ubuntu.com/ubuntu jammy-updates/universe amd64 Packages [1,357 kB]\n",
            "Fetched 8,510 kB in 3s (3,299 kB/s)\n",
            "Reading package lists... Done\n",
            "sample_data  spark-3.1.1-bin-hadoop3.2\tspark-3.1.1-bin-hadoop3.2.tgz\n"
          ]
        }
      ],
      "source": [
        "!apt-get update # Update apt-get repository.\n",
        "!apt-get install openjdk-8-jdk-headless -qq > /dev/null # Install Java.\n",
        "!wget -q http://archive.apache.org/dist/spark/spark-3.1.1/spark-3.1.1-bin-hadoop3.2.tgz # Download Apache Sparks.\n",
        "!tar xf spark-3.1.1-bin-hadoop3.2.tgz # Unzip the tgz file.\n",
        "!pip install -q findspark # Install findspark. Adds PySpark to the System path during runtime.\n",
        "\n",
        "# Set environment variables\n",
        "import os\n",
        "os.environ[\"JAVA_HOME\"] = \"/usr/lib/jvm/java-8-openjdk-amd64\"\n",
        "os.environ[\"SPARK_HOME\"] = \"/content/spark-3.1.1-bin-hadoop3.2\"\n",
        "\n",
        "!ls\n",
        "\n",
        "# Initialize findspark\n",
        "import findspark\n",
        "findspark.init()"
      ]
    },
    {
      "cell_type": "code",
      "source": [
        "import pyspark\n",
        "import os\n",
        "import sys\n",
        "from pyspark import SparkContext\n",
        "from pyspark import SparkConf\n",
        "os.environ['PYSPARK_PYTHON']=sys.executable\n",
        "os.environ['PYSPARK_DRIVER_PYTHON']=sys.executable"
      ],
      "metadata": {
        "id": "7I3pP8TeBd0L"
      },
      "execution_count": 2,
      "outputs": []
    },
    {
      "cell_type": "code",
      "source": [
        "from pyspark.sql import SparkSession\n",
        "spark=SparkSession.builder.appName('week1').getOrCreate()\n",
        "spark"
      ],
      "metadata": {
        "colab": {
          "base_uri": "https://localhost:8080/",
          "height": 222
        },
        "id": "Z5xcDdcy_0Kf",
        "outputId": "fbf3808a-502c-4598-bf43-cd482b93be99"
      },
      "execution_count": 3,
      "outputs": [
        {
          "output_type": "execute_result",
          "data": {
            "text/plain": [
              "<pyspark.sql.session.SparkSession at 0x7b252978c700>"
            ],
            "text/html": [
              "\n",
              "            <div>\n",
              "                <p><b>SparkSession - in-memory</b></p>\n",
              "                \n",
              "        <div>\n",
              "            <p><b>SparkContext</b></p>\n",
              "\n",
              "            <p><a href=\"http://169793742fef:4040\">Spark UI</a></p>\n",
              "\n",
              "            <dl>\n",
              "              <dt>Version</dt>\n",
              "                <dd><code>v3.1.1</code></dd>\n",
              "              <dt>Master</dt>\n",
              "                <dd><code>local[*]</code></dd>\n",
              "              <dt>AppName</dt>\n",
              "                <dd><code>week1</code></dd>\n",
              "            </dl>\n",
              "        </div>\n",
              "        \n",
              "            </div>\n",
              "        "
            ]
          },
          "metadata": {},
          "execution_count": 3
        }
      ]
    },
    {
      "cell_type": "markdown",
      "source": [
        "1. Write a PySpark program to square set of integers."
      ],
      "metadata": {
        "id": "LskwQyR0BkC6"
      }
    },
    {
      "cell_type": "code",
      "source": [
        "from pyspark.sql import Row\n",
        "df=spark.createDataFrame([\n",
        "    Row(integer=1),\n",
        "    Row(integer=2),\n",
        "    Row(integer=3),\n",
        "])\n",
        "df.show()"
      ],
      "metadata": {
        "colab": {
          "base_uri": "https://localhost:8080/"
        },
        "id": "8ygyXCFn_2cN",
        "outputId": "20e129d7-2f31-4614-af21-6d259501f2fa"
      },
      "execution_count": 4,
      "outputs": [
        {
          "output_type": "stream",
          "name": "stdout",
          "text": [
            "+-------+\n",
            "|integer|\n",
            "+-------+\n",
            "|      1|\n",
            "|      2|\n",
            "|      3|\n",
            "+-------+\n",
            "\n"
          ]
        }
      ]
    },
    {
      "cell_type": "code",
      "source": [
        "from pyspark.sql.functions import udf\n",
        "@udf\n",
        "def squarethatshit(shit):\n",
        "  return shit**2"
      ],
      "metadata": {
        "id": "sKM61nv3BufB"
      },
      "execution_count": 5,
      "outputs": []
    },
    {
      "cell_type": "code",
      "source": [
        "df.select('integer',squarethatshit('integer').alias('squared shit')).show()"
      ],
      "metadata": {
        "colab": {
          "base_uri": "https://localhost:8080/"
        },
        "id": "PdeEntEkFBvG",
        "outputId": "08176605-89ab-4048-b750-b2f460b6e9db"
      },
      "execution_count": 6,
      "outputs": [
        {
          "output_type": "stream",
          "name": "stdout",
          "text": [
            "+-------+------------+\n",
            "|integer|squared shit|\n",
            "+-------+------------+\n",
            "|      1|           1|\n",
            "|      2|           4|\n",
            "|      3|           9|\n",
            "+-------+------------+\n",
            "\n"
          ]
        }
      ]
    },
    {
      "cell_type": "markdown",
      "source": [
        "2. Write a PySpark program to find the maximum of given set of numbers"
      ],
      "metadata": {
        "id": "vuv5fMVoGNDs"
      }
    },
    {
      "cell_type": "code",
      "source": [
        "df.select('integer').rdd.max()[0]"
      ],
      "metadata": {
        "colab": {
          "base_uri": "https://localhost:8080/"
        },
        "id": "c5J3S1jrGOqz",
        "outputId": "0c7e9739-7076-4d8f-c60d-332254a80b63"
      },
      "execution_count": 7,
      "outputs": [
        {
          "output_type": "execute_result",
          "data": {
            "text/plain": [
              "3"
            ]
          },
          "metadata": {},
          "execution_count": 7
        }
      ]
    },
    {
      "cell_type": "markdown",
      "source": [
        "3. Write a PySpark program to find average of N numbers."
      ],
      "metadata": {
        "id": "ejh594w4GfLY"
      }
    },
    {
      "cell_type": "code",
      "source": [
        "from pyspark.sql import functions as f\n",
        "df.agg(f.avg(df['integer'])).show()"
      ],
      "metadata": {
        "colab": {
          "base_uri": "https://localhost:8080/"
        },
        "id": "t0lOhQcoGYeu",
        "outputId": "d414b6e4-a469-4f5e-8884-1b51fd0fb96d"
      },
      "execution_count": 10,
      "outputs": [
        {
          "output_type": "stream",
          "name": "stdout",
          "text": [
            "+------------+\n",
            "|avg(integer)|\n",
            "+------------+\n",
            "|         2.0|\n",
            "+------------+\n",
            "\n"
          ]
        }
      ]
    },
    {
      "cell_type": "markdown",
      "source": [
        "4. Demonstrate how to read a CSV file into a PySpark DataFrame"
      ],
      "metadata": {
        "id": "rFZV9JS1K99T"
      }
    },
    {
      "cell_type": "code",
      "source": [
        "path='/content/week1data.csv'\n",
        "dataframe=spark.read.csv(path,header=True,inferSchema=True)"
      ],
      "metadata": {
        "id": "1UOtXJcWK6JG"
      },
      "execution_count": 14,
      "outputs": []
    },
    {
      "cell_type": "code",
      "source": [
        "dataframe.show()"
      ],
      "metadata": {
        "colab": {
          "base_uri": "https://localhost:8080/"
        },
        "id": "noFADuzjLvdc",
        "outputId": "32e1a273-b49a-4e25-86b8-da73053664d2"
      },
      "execution_count": 15,
      "outputs": [
        {
          "output_type": "stream",
          "name": "stdout",
          "text": [
            "+----+----+----+\n",
            "|col1|col2|col3|\n",
            "+----+----+----+\n",
            "|   1|   2|   3|\n",
            "|   2|   4|   6|\n",
            "|   3|   6|   9|\n",
            "|   4|   8|  12|\n",
            "|   5|  10|  15|\n",
            "|   6|  12|  18|\n",
            "|   7|  14|  21|\n",
            "|   8|  16|  24|\n",
            "|   9|  18|  27|\n",
            "|  10|  20|  30|\n",
            "|  11|  22|  33|\n",
            "|  12|  24|  36|\n",
            "|  13|  26|  39|\n",
            "|  14|  28|  42|\n",
            "+----+----+----+\n",
            "\n"
          ]
        }
      ]
    },
    {
      "cell_type": "markdown",
      "source": [
        "5. Use PySpark commands to display the first few rows and schema of a DataFrame."
      ],
      "metadata": {
        "id": "7yWkGdRjM5eX"
      }
    },
    {
      "cell_type": "code",
      "source": [
        "dataframe.show(5)"
      ],
      "metadata": {
        "colab": {
          "base_uri": "https://localhost:8080/"
        },
        "id": "amKSjn8sLyZg",
        "outputId": "3a30f73f-d165-4959-dd32-71df1c8d34df"
      },
      "execution_count": 16,
      "outputs": [
        {
          "output_type": "stream",
          "name": "stdout",
          "text": [
            "+----+----+----+\n",
            "|col1|col2|col3|\n",
            "+----+----+----+\n",
            "|   1|   2|   3|\n",
            "|   2|   4|   6|\n",
            "|   3|   6|   9|\n",
            "|   4|   8|  12|\n",
            "|   5|  10|  15|\n",
            "+----+----+----+\n",
            "only showing top 5 rows\n",
            "\n"
          ]
        }
      ]
    },
    {
      "cell_type": "markdown",
      "source": [
        "6. Calculate basic summary statistics for a specific column in the DataFrame.\n"
      ],
      "metadata": {
        "id": "sZpvZKxKNA6A"
      }
    },
    {
      "cell_type": "code",
      "source": [
        "dataframe.summary().show()"
      ],
      "metadata": {
        "colab": {
          "base_uri": "https://localhost:8080/"
        },
        "id": "oOwVn3lKM-n8",
        "outputId": "b723615b-0772-4afd-c238-007eec0c7d8f"
      },
      "execution_count": 18,
      "outputs": [
        {
          "output_type": "stream",
          "name": "stdout",
          "text": [
            "+-------+-----------------+-----------------+------------------+\n",
            "|summary|             col1|             col2|              col3|\n",
            "+-------+-----------------+-----------------+------------------+\n",
            "|  count|               14|               14|                14|\n",
            "|   mean|              7.5|             15.0|              22.5|\n",
            "| stddev|4.183300132670378|8.366600265340756|12.549900398011133|\n",
            "|    min|                1|                2|                 3|\n",
            "|    25%|                4|                8|                12|\n",
            "|    50%|                7|               14|                21|\n",
            "|    75%|               11|               22|                33|\n",
            "|    max|               14|               28|                42|\n",
            "+-------+-----------------+-----------------+------------------+\n",
            "\n"
          ]
        }
      ]
    }
  ]
}