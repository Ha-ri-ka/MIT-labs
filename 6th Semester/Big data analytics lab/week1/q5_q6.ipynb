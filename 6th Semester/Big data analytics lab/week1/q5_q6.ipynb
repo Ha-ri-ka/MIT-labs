{
 "cells": [
  {
   "cell_type": "code",
   "execution_count": 1,
   "metadata": {},
   "outputs": [
    {
     "name": "stderr",
     "output_type": "stream",
     "text": [
      "Setting default log level to \"WARN\".\n",
      "To adjust logging level use sc.setLogLevel(newLevel). For SparkR, use setLogLevel(newLevel).\n",
      "24/01/12 15:09:33 WARN NativeCodeLoader: Unable to load native-hadoop library for your platform... using builtin-java classes where applicable\n",
      "24/01/12 15:09:34 WARN Utils: Service 'SparkUI' could not bind on port 4040. Attempting port 4041.\n",
      "24/01/12 15:09:34 WARN Utils: Service 'SparkUI' could not bind on port 4041. Attempting port 4042.\n"
     ]
    }
   ],
   "source": [
    "import pyspark\n",
    "import os\n",
    "import sys\n",
    "os.environ['PYSPARK_PYTHON'] = sys.executable\n",
    "os.environ['PYSPARK_DRIVER_PYTHON'] = sys.executable\n",
    "from pyspark.sql import SparkSession\n",
    "spark = SparkSession.builder.config('spark.driver.memory', '4g').appName('q5_q6').getOrCreate()"
   ]
  },
  {
   "cell_type": "code",
   "execution_count": 2,
   "metadata": {},
   "outputs": [
    {
     "name": "stdout",
     "output_type": "stream",
     "text": [
      "+-----------+\n",
      "|      names|\n",
      "+-----------+\n",
      "|    murugan|\n",
      "|karthikeyan|\n",
      "|  gopireddy|\n",
      "|      reddy|\n",
      "|    karthik|\n",
      "|    kartits|\n",
      "|      bakki|\n",
      "|   kannayya|\n",
      "+-----------+\n",
      "\n"
     ]
    }
   ],
   "source": [
    "import pandas as pd\n",
    "data={'names':['murugan','karthikeyan','gopireddy','reddy','karthik','kartits','bakki','kannayya']}\n",
    "df_pd=pd.DataFrame(data)\n",
    "df=spark.createDataFrame(df_pd)\n",
    "df.show()"
   ]
  },
  {
   "cell_type": "code",
   "execution_count": 18,
   "metadata": {},
   "outputs": [
    {
     "name": "stdout",
     "output_type": "stream",
     "text": [
      "murugan\n",
      "karthikeyan\n",
      "gopireddy\n",
      "reddy\n",
      "karthik\n"
     ]
    }
   ],
   "source": [
    "ops=df.head(5)\n",
    "for r in ops:\n",
    "    print(r[0])"
   ]
  },
  {
   "cell_type": "code",
   "execution_count": 20,
   "metadata": {},
   "outputs": [
    {
     "name": "stdout",
     "output_type": "stream",
     "text": [
      "+-------+-----+\n",
      "|summary|names|\n",
      "+-------+-----+\n",
      "|  count|    8|\n",
      "|   mean| NULL|\n",
      "| stddev| NULL|\n",
      "|    min|bakki|\n",
      "|    25%| NULL|\n",
      "|    50%| NULL|\n",
      "|    75%| NULL|\n",
      "|    max|reddy|\n",
      "+-------+-----+\n",
      "\n"
     ]
    }
   ],
   "source": [
    "df.select('names').summary().show()"
   ]
  }
 ],
 "metadata": {
  "kernelspec": {
   "display_name": "Python 3",
   "language": "python",
   "name": "python3"
  },
  "language_info": {
   "codemirror_mode": {
    "name": "ipython",
    "version": 3
   },
   "file_extension": ".py",
   "mimetype": "text/x-python",
   "name": "python",
   "nbconvert_exporter": "python",
   "pygments_lexer": "ipython3",
   "version": "3.10.12"
  }
 },
 "nbformat": 4,
 "nbformat_minor": 2
}
