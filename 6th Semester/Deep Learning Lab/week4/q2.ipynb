{
 "cells": [
  {
   "cell_type": "code",
   "execution_count": 18,
   "metadata": {},
   "outputs": [],
   "source": [
    "import torch\n",
    "import torch.nn as nn\n",
    "from torch.utils.data import Dataset,DataLoader"
   ]
  },
  {
   "cell_type": "code",
   "execution_count": 19,
   "metadata": {},
   "outputs": [],
   "source": [
    "x=torch.tensor([[0,0],[0,1],[1,0],[1,1]],dtype=torch.float32)\n",
    "y=torch.tensor([0,1,1,0],dtype=torch.float32)"
   ]
  },
  {
   "cell_type": "code",
   "execution_count": 20,
   "metadata": {},
   "outputs": [],
   "source": [
    "class XorModelRelu(nn.Module):\n",
    "    def __init__(self):\n",
    "        super(XorModelRelu,self).__init__()\n",
    "        self.layer1=nn.Linear(2,2,bias=True)\n",
    "        self.layer2=nn.Linear(2,1,bias=True)\n",
    "        self.activation=nn.ReLU()\n",
    "    def forward(self,x):\n",
    "        x=self.layer1(x)\n",
    "        x=self.activation(x)\n",
    "        x=self.layer2(x)\n",
    "        return x\n"
   ]
  },
  {
   "cell_type": "code",
   "execution_count": 21,
   "metadata": {},
   "outputs": [],
   "source": [
    "class MyDataset(Dataset):\n",
    "    def __init__(self,X,Y):\n",
    "        self.x=X\n",
    "        self.y=Y\n",
    "    def __len__(self):\n",
    "        return len(self.x)\n",
    "    def __getitem__(self, index):\n",
    "        return self.x[index],self.y[index]"
   ]
  },
  {
   "cell_type": "code",
   "execution_count": 22,
   "metadata": {},
   "outputs": [],
   "source": [
    "fulldata=MyDataset(x,y)\n",
    "bsize=1\n",
    "data=DataLoader(dataset=fulldata,batch_size=bsize,shuffle=True)"
   ]
  },
  {
   "cell_type": "code",
   "execution_count": 23,
   "metadata": {},
   "outputs": [],
   "source": [
    "model=XorModelRelu()\n",
    "lossfn=nn.MSELoss()\n",
    "losslist=[]\n",
    "optimizer=torch.optim.SGD(model.parameters(),lr=0.03)"
   ]
  },
  {
   "cell_type": "code",
   "execution_count": 25,
   "metadata": {},
   "outputs": [
    {
     "name": "stdout",
     "output_type": "stream",
     "text": [
      "0-->1.3616885397027545e-13\n",
      "1000-->1.3500311979441904e-13\n",
      "2000-->1.5068502001724937e-13\n",
      "3000-->1.268013472000007e-13\n",
      "4000-->1.0527689831008047e-13\n",
      "5000-->1.1669831767591177e-13\n",
      "6000-->1.0787204463014177e-13\n",
      "7000-->1.288136264321338e-13\n",
      "8000-->1.0975942377200454e-13\n",
      "9000-->1.2004286453759505e-13\n",
      "9999-->1.190297860276246e-13\n"
     ]
    }
   ],
   "source": [
    "epochs=10000\n",
    "for epoch in range(epochs):\n",
    "    model.train(True)\n",
    "    totalloss=0.0\n",
    "    for i,d in enumerate(data):\n",
    "        ip,op=d\n",
    "        optimizer.zero_grad()\n",
    "        pred=model(ip)\n",
    "        loss=lossfn(pred,op)\n",
    "        loss.backward()\n",
    "        optimizer.step()\n",
    "        totalloss+=loss.item()\n",
    "    avgLoss=totalloss/fulldata.__len__()*bsize\n",
    "    losslist.append(avgLoss)\n",
    "    if(epoch%1000==0 or epoch==epochs-1):\n",
    "        print(f\"{epoch}-->{avgLoss}\")"
   ]
  },
  {
   "cell_type": "code",
   "execution_count": 26,
   "metadata": {},
   "outputs": [
    {
     "name": "stdout",
     "output_type": "stream",
     "text": [
      "for input tensor([1., 1.])-->tensor([6.7055e-08], grad_fn=<ViewBackward0>)\n"
     ]
    }
   ],
   "source": [
    "test=torch.tensor([1,1],dtype=torch.float32)\n",
    "model.eval()\n",
    "res=model(test)\n",
    "print(f\"for input {test}-->{res}\")"
   ]
  },
  {
   "cell_type": "code",
   "execution_count": 27,
   "metadata": {},
   "outputs": [
    {
     "data": {
      "text/plain": [
       "Text(0, 0.5, 'loss')"
      ]
     },
     "execution_count": 27,
     "metadata": {},
     "output_type": "execute_result"
    },
    {
     "data": {
      "image/png": "[encoded data removed]",
      "text/plain": [
       "<Figure size 640x480 with 1 Axes>"
      ]
     },
     "metadata": {},
     "output_type": "display_data"
    }
   ],
   "source": [
    "import matplotlib.pyplot as plt\n",
    "plt.plot(losslist)\n",
    "plt.xlabel('epochs')\n",
    "plt.ylabel('loss')"
   ]
  }
 ],
 "metadata": {
  "language_info": {
   "name": "python"
  }
 },
 "nbformat": 4,
 "nbformat_minor": 2
}
