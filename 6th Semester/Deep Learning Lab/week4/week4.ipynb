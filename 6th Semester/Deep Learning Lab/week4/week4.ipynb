{
 "cells": [
  {
   "cell_type": "code",
   "execution_count": 1,
   "metadata": {},
   "outputs": [
    {
     "name": "stdout",
     "output_type": "stream",
     "text": [
      "epoch 0/5000 loss=0.20889460444450378\n",
      "epoch 1000/5000 loss=0.20033637285232545\n",
      "epoch 2000/5000 loss=0.20033327639102935\n",
      "epoch 3000/5000 loss=0.20032915771007537\n",
      "epoch 4000/5000 loss=0.20032459795475005\n",
      "('linear1.weight', Parameter containing:\n",
      "tensor([[-0.0792, -0.4078],\n",
      "        [ 0.1391, -0.5447]], requires_grad=True))\n",
      "('linear1.bias', Parameter containing:\n",
      "tensor([ 0.1649, -0.2699], requires_grad=True))\n",
      "('linear2.weight', Parameter containing:\n",
      "tensor([[-0.3095,  0.1456]], requires_grad=True))\n",
      "('linear2.bias', Parameter containing:\n",
      "tensor([0.0933], requires_grad=True))\n",
      "---------------------------\n",
      "output for tensor([1., 0.])=tensor([0.5000], grad_fn=<SigmoidBackward0>)\n"
     ]
    },
    {
     "data": {
      "image/png": "[encoded data removed]",
      "text/plain": [
       "<Figure size 432x288 with 1 Axes>"
      ]
     },
     "metadata": {
      "needs_background": "light"
     },
     "output_type": "display_data"
    }
   ],
   "source": [
    "import torch\n",
    "import torch.nn as nn\n",
    "from torch.utils.data import DataLoader,Dataset\n",
    "inputData=torch.tensor([[0,0],[0,1],[1,0],[1,1]],dtype=torch.float32)\n",
    "outputData=torch.tensor([0,1,1,0],dtype=torch.float32)\n",
    "class XORModel(nn.Module):\n",
    "    def __init__(self):\n",
    "        super(XORModel,self).__init__()\n",
    "        self.linear1=nn.Linear(in_features=2,out_features=2,bias=True)\n",
    "        self.activation1=nn.Sigmoid()\n",
    "        self.linear2=nn.Linear(in_features=2,out_features=1,bias=True)\n",
    "        self.activation2=nn.Sigmoid()\n",
    "    def forward(self,x):\n",
    "        x=self.linear1(x)\n",
    "        x=self.activation1(x)\n",
    "        x=self.linear2(x)\n",
    "        x=self.activation2(x)\n",
    "        return x\n",
    "\n",
    "class myDataset(Dataset):\n",
    "    def __init__(self,ips,ops):\n",
    "        self.ips=ips\n",
    "        self.ops=ops\n",
    "    def __len__(self):\n",
    "        return len(self.ips)\n",
    "    def __getitem__(self, index):\n",
    "        return self.ips[index],self.ops[index]\n",
    "batchSize=1\n",
    "alpha=0.01\n",
    "data=myDataset(inputData,outputData)\n",
    "train=DataLoader(data,batch_size=batchSize,shuffle=True)\n",
    "model=XORModel()\n",
    "loss_fn=nn.MSELoss()\n",
    "optimizer=torch.optim.SGD(model.parameters(),lr=alpha)\n",
    "epochs=5000\n",
    "lossList=[]\n",
    "for epoch in range(epochs):\n",
    "    model.train(True)\n",
    "    totalloss=0\n",
    "    for i,data in enumerate(train):\n",
    "        ip,op=data\n",
    "        optimizer.zero_grad()\n",
    "        outputs=model(ip)\n",
    "        loss=loss_fn(outputs.flatten(),op)\n",
    "        loss.backward()\n",
    "        optimizer.step()\n",
    "        totalloss+=loss.item()\n",
    "    avg=totalloss/(len(train)+batchSize)\n",
    "    lossList.append(avg)\n",
    "    if(epoch%1000==0):\n",
    "        print(f\"epoch {epoch}/{epochs} loss={avg}\")\n",
    "\n",
    "for param in model.named_parameters():\n",
    "    print(param)\n",
    "import matplotlib.pyplot as plt\n",
    "plt.plot(lossList)\n",
    "test=torch.tensor([1,0],dtype=torch.float32)\n",
    "model.eval()\n",
    "testop=model(test)\n",
    "print(\"---------------------------\")\n",
    "print(f\"output for {test}={testop}\")"
   ]
  },
  {
   "cell_type": "code",
   "execution_count": 2,
   "metadata": {},
   "outputs": [
    {
     "name": "stdout",
     "output_type": "stream",
     "text": [
      "epoch 0/5000 loss=0.3473120857961476\n",
      "epoch 1000/5000 loss=2.3504929049522617e-05\n",
      "epoch 2000/5000 loss=2.6080471116074477e-11\n",
      "epoch 3000/5000 loss=6.021849685566849e-12\n",
      "epoch 4000/5000 loss=5.495337518368615e-12\n",
      "('linear1.weight', Parameter containing:\n",
      "tensor([[-0.8302,  0.8302],\n",
      "        [-1.2069,  1.2069]], requires_grad=True))\n",
      "('linear1.bias', Parameter containing:\n",
      "tensor([8.3024e-01, 9.1065e-09], requires_grad=True))\n",
      "('linear2.weight', Parameter containing:\n",
      "tensor([[-1.2045,  1.6571]], requires_grad=True))\n",
      "('linear2.bias', Parameter containing:\n",
      "tensor([1.0000], requires_grad=True))\n",
      "---------------------------\n",
      "output for tensor([1., 0.])=tensor([1.0000], grad_fn=<ReluBackward0>)\n"
     ]
    },
    {
     "data": {
      "image/png": "[encoded data removed]",
      "text/plain": [
       "<Figure size 432x288 with 1 Axes>"
      ]
     },
     "metadata": {
      "needs_background": "light"
     },
     "output_type": "display_data"
    }
   ],
   "source": [
    "import torch\n",
    "import torch.nn as nn\n",
    "from torch.utils.data import DataLoader,Dataset\n",
    "inputData=torch.tensor([[0,0],[0,1],[1,0],[1,1]],dtype=torch.float32)\n",
    "outputData=torch.tensor([0,1,1,0],dtype=torch.float32)\n",
    "class XORModel(nn.Module):\n",
    "    def __init__(self):\n",
    "        super(XORModel,self).__init__()\n",
    "        self.linear1=nn.Linear(in_features=2,out_features=2,bias=True)\n",
    "        self.activation1=nn.ReLU()\n",
    "        self.linear2=nn.Linear(in_features=2,out_features=1,bias=True)\n",
    "        self.activation2=nn.ReLU()\n",
    "    def forward(self,x):\n",
    "        x=self.linear1(x)\n",
    "        x=self.activation1(x)\n",
    "        x=self.linear2(x)\n",
    "        x=self.activation2(x)\n",
    "        return x\n",
    "\n",
    "class myDataset(Dataset):\n",
    "    def __init__(self,ips,ops):\n",
    "        self.ips=ips\n",
    "        self.ops=ops\n",
    "    def __len__(self):\n",
    "        return len(self.ips)\n",
    "    def __getitem__(self, index):\n",
    "        return self.ips[index],self.ops[index]\n",
    "batchSize=1\n",
    "alpha=0.01\n",
    "data=myDataset(inputData,outputData)\n",
    "train=DataLoader(data,batch_size=batchSize,shuffle=True)\n",
    "model=XORModel()\n",
    "loss_fn=nn.MSELoss()\n",
    "optimizer=torch.optim.SGD(model.parameters(),lr=alpha)\n",
    "epochs=5000\n",
    "lossList=[]\n",
    "for epoch in range(epochs):\n",
    "    model.train(True)\n",
    "    totalloss=0\n",
    "    for i,data in enumerate(train):\n",
    "        ip,op=data\n",
    "        optimizer.zero_grad()\n",
    "        outputs=model(ip)\n",
    "        loss=loss_fn(outputs.flatten(),op)\n",
    "        loss.backward()\n",
    "        optimizer.step()\n",
    "        totalloss+=loss.item()\n",
    "    avg=totalloss/(len(train)+batchSize)\n",
    "    lossList.append(avg)\n",
    "    if(epoch%1000==0):\n",
    "        print(f\"epoch {epoch}/{epochs} loss={avg}\")\n",
    "\n",
    "for param in model.named_parameters():\n",
    "    print(param)\n",
    "import matplotlib.pyplot as plt\n",
    "plt.plot(lossList)\n",
    "test=torch.tensor([1,0],dtype=torch.float32)\n",
    "model.eval()\n",
    "testop=model(test)\n",
    "print(\"---------------------------\")\n",
    "print(f\"output for {test}={testop}\")"
   ]
  },
  {
   "cell_type": "code",
   "execution_count": null,
   "metadata": {},
   "outputs": [],
   "source": []
  }
 ],
 "metadata": {
  "kernelspec": {
   "display_name": "Python 3",
   "language": "python",
   "name": "python3"
  },
  "language_info": {
   "codemirror_mode": {
    "name": "ipython",
    "version": 3
   },
   "file_extension": ".py",
   "mimetype": "text/x-python",
   "name": "python",
   "nbconvert_exporter": "python",
   "pygments_lexer": "ipython3",
   "version": "3.10.12"
  }
 },
 "nbformat": 4,
 "nbformat_minor": 2
}
