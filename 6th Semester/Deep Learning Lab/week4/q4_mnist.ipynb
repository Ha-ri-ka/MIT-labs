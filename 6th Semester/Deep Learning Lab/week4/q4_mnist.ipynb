{
 "cells": [
  {
   "cell_type": "code",
   "execution_count": 2,
   "metadata": {},
   "outputs": [],
   "source": [
    "import torch\n",
    "import torch.nn as nn \n",
    "from torch.utils.data import DataLoader\n",
    "import torchvision.datasets as datasets\n",
    "from torchvision.transforms import ToTensor"
   ]
  },
  {
   "cell_type": "code",
   "execution_count": 3,
   "metadata": {},
   "outputs": [
    {
     "name": "stdout",
     "output_type": "stream",
     "text": [
      "Downloading http://yann.lecun.com/exdb/mnist/train-images-idx3-ubyte.gz\n",
      "Downloading http://yann.lecun.com/exdb/mnist/train-images-idx3-ubyte.gz to ./data_again\\MNIST\\raw\\train-images-idx3-ubyte.gz\n"
     ]
    },
    {
     "name": "stderr",
     "output_type": "stream",
     "text": [
      "100%|██████████| 9912422/9912422 [00:04<00:00, 2030744.74it/s]\n"
     ]
    },
    {
     "name": "stdout",
     "output_type": "stream",
     "text": [
      "Extracting ./data_again\\MNIST\\raw\\train-images-idx3-ubyte.gz to ./data_again\\MNIST\\raw\n",
      "\n",
      "Downloading http://yann.lecun.com/exdb/mnist/train-labels-idx1-ubyte.gz\n",
      "Downloading http://yann.lecun.com/exdb/mnist/train-labels-idx1-ubyte.gz to ./data_again\\MNIST\\raw\\train-labels-idx1-ubyte.gz\n"
     ]
    },
    {
     "name": "stderr",
     "output_type": "stream",
     "text": [
      "100%|██████████| 28881/28881 [00:00<00:00, 12683037.78it/s]\n"
     ]
    },
    {
     "name": "stdout",
     "output_type": "stream",
     "text": [
      "Extracting ./data_again\\MNIST\\raw\\train-labels-idx1-ubyte.gz to ./data_again\\MNIST\\raw\n",
      "\n",
      "Downloading http://yann.lecun.com/exdb/mnist/t10k-images-idx3-ubyte.gz\n",
      "Downloading http://yann.lecun.com/exdb/mnist/t10k-images-idx3-ubyte.gz to ./data_again\\MNIST\\raw\\t10k-images-idx3-ubyte.gz\n"
     ]
    },
    {
     "name": "stderr",
     "output_type": "stream",
     "text": [
      "100%|██████████| 1648877/1648877 [00:02<00:00, 817665.18it/s] \n"
     ]
    },
    {
     "name": "stdout",
     "output_type": "stream",
     "text": [
      "Extracting ./data_again\\MNIST\\raw\\t10k-images-idx3-ubyte.gz to ./data_again\\MNIST\\raw\n",
      "\n",
      "Downloading http://yann.lecun.com/exdb/mnist/t10k-labels-idx1-ubyte.gz\n",
      "Downloading http://yann.lecun.com/exdb/mnist/t10k-labels-idx1-ubyte.gz to ./data_again\\MNIST\\raw\\t10k-labels-idx1-ubyte.gz\n"
     ]
    },
    {
     "name": "stderr",
     "output_type": "stream",
     "text": [
      "100%|██████████| 4542/4542 [00:00<?, ?it/s]"
     ]
    },
    {
     "name": "stdout",
     "output_type": "stream",
     "text": [
      "Extracting ./data_again\\MNIST\\raw\\t10k-labels-idx1-ubyte.gz to ./data_again\\MNIST\\raw\n",
      "\n"
     ]
    },
    {
     "name": "stderr",
     "output_type": "stream",
     "text": [
      "\n"
     ]
    }
   ],
   "source": [
    "mnist_train=datasets.MNIST(root=\"./data_again\",train=True,transform=ToTensor(),download=True)\n",
    "mnist_test=datasets.MNIST(root=\"./data_again\",train=False,transform=ToTensor(),download=True)"
   ]
  },
  {
   "cell_type": "code",
   "execution_count": 4,
   "metadata": {},
   "outputs": [],
   "source": [
    "batchSize=4\n",
    "train_data=DataLoader(mnist_train,batch_size=batchSize,shuffle=True)\n",
    "test_data=DataLoader(mnist_test,batch_size=batchSize,shuffle=True)"
   ]
  },
  {
   "cell_type": "code",
   "execution_count": 7,
   "metadata": {},
   "outputs": [],
   "source": [
    "class digitClassification(nn.Module):\n",
    "    def __init__(self):\n",
    "        super().__init__()\n",
    "        self.net=nn.Sequential(nn.Linear(784,100,bias=True),\n",
    "                               nn.ReLU(),\n",
    "                               nn.Linear(100,100,bias=True),\n",
    "                               nn.ReLU(),\n",
    "                               nn.Linear(100,10,bias=True))\n",
    "    def forward(self,x):\n",
    "        return self.net(x)"
   ]
  },
  {
   "cell_type": "code",
   "execution_count": 9,
   "metadata": {},
   "outputs": [],
   "source": [
    "model=digitClassification()\n",
    "lossfn=nn.CrossEntropyLoss()\n",
    "optimizer=torch.optim.SGD(model.parameters(),lr=0.001)"
   ]
  },
  {
   "cell_type": "code",
   "execution_count": 10,
   "metadata": {},
   "outputs": [
    {
     "name": "stdout",
     "output_type": "stream",
     "text": [
      "epoch 0--->loss 0.0002460310141245524\n",
      "epoch 1--->loss 2.8206332524617512e-05\n",
      "epoch 2--->loss 0.00051276642481486\n",
      "epoch 3--->loss 7.662545839945475e-05\n",
      "epoch 4--->loss 6.613690853118897e-05\n"
     ]
    }
   ],
   "source": [
    "epochs=5\n",
    "for epoch in range(epochs):\n",
    "    model.train(True)\n",
    "    totalloss=0.0\n",
    "    for i,img in enumerate(train_data):\n",
    "        optimizer.zero_grad()\n",
    "        Ip,label=img\n",
    "        predicted=model(Ip.view(batchSize,-1))\n",
    "        loss=lossfn(predicted,label)\n",
    "        loss.backward()\n",
    "        optimizer.step()\n",
    "    totalloss+=loss.item()\n",
    "    avgLoss=(totalloss/len(train_data))*batchSize\n",
    "    print(f\"epoch {epoch}--->loss {avgLoss}\")"
   ]
  },
  {
   "cell_type": "code",
   "execution_count": 11,
   "metadata": {},
   "outputs": [
    {
     "name": "stdout",
     "output_type": "stream",
     "text": [
      "actual label=tensor([8, 0, 4, 3])\n",
      "predicted label=tensor([8, 0, 4, 3])\n"
     ]
    }
   ],
   "source": [
    "model.eval()\n",
    "\n",
    "count=0\n",
    "for _,testimage in enumerate(train_data):\n",
    "    ip,op=testimage\n",
    "    count+=1\n",
    "    if count==1: break\n",
    "\n",
    "with torch.no_grad():\n",
    "    predicted=model(ip.view(batchSize,-1))\n",
    "    _,predictedOutput=torch.max(predicted,dim=1)\n",
    "    \n",
    "#each number in the tensor (op/predictedOutput) correspinds to the class associated with the input image. \n",
    "print(f\"actual label={op}\") \n",
    "print(f\"predicted label={predictedOutput}\")"
   ]
  },
  {
   "cell_type": "code",
   "execution_count": 19,
   "metadata": {},
   "outputs": [
    {
     "name": "stdout",
     "output_type": "stream",
     "text": [
      "accuracy=92.86000061035156\n"
     ]
    }
   ],
   "source": [
    "correct=0\n",
    "total=len(test_data)*batchSize\n",
    "count=0\n",
    "for _,vdata in enumerate(test_data):\n",
    "    vip,vop=vdata\n",
    "    vpred=model(vip.view(batchSize,-1))\n",
    "    _,vclass=torch.max(vpred,dim=1)\n",
    "    correct+=(vclass==vop).sum()\n",
    "accuracy=(correct/total)*100\n",
    "print(f\"accuracy={accuracy}\")   "
   ]
  }
 ],
 "metadata": {
  "kernelspec": {
   "display_name": "Python 3",
   "language": "python",
   "name": "python3"
  },
  "language_info": {
   "codemirror_mode": {
    "name": "ipython",
    "version": 3
   },
   "file_extension": ".py",
   "mimetype": "text/x-python",
   "name": "python",
   "nbconvert_exporter": "python",
   "pygments_lexer": "ipython3",
   "version": "3.10.5"
  }
 },
 "nbformat": 4,
 "nbformat_minor": 2
}
