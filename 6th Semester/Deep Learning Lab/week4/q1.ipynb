{
 "cells": [
  {
   "cell_type": "markdown",
   "metadata": {},
   "source": [
    "Implement two layer Feed Forward Neural Network for XOR Logic Gate with 2-bit Binary \n",
    "Input using Sigmoid activation. Verify the number of learnable parameters in the model. "
   ]
  },
  {
   "cell_type": "code",
   "execution_count": 1,
   "metadata": {},
   "outputs": [],
   "source": [
    "import torch\n",
    "import torch.nn as nn\n",
    "from torch.utils.data import Dataset,DataLoader"
   ]
  },
  {
   "cell_type": "code",
   "execution_count": 2,
   "metadata": {},
   "outputs": [],
   "source": [
    "x=torch.tensor([[0,0],[0,1],[1,0],[1,1]],dtype=torch.float32)\n",
    "y=torch.tensor([0,1,1,0],dtype=torch.float32)"
   ]
  },
  {
   "cell_type": "code",
   "execution_count": 3,
   "metadata": {},
   "outputs": [],
   "source": [
    "class XORModel(nn.Module):\n",
    "    def __init__(self):\n",
    "        super(XORModel,self).__init__()\n",
    "        self.layer1=nn.Linear(2,2,bias=True)\n",
    "        self.layer2=nn.Linear(2,1,bias=True)\n",
    "        self.activation=nn.Sigmoid()\n",
    "    def forward(self,x):\n",
    "        x=self.layer1(x)\n",
    "        x=self.activation(x)\n",
    "        x=self.layer2(x)\n",
    "        return x\n"
   ]
  },
  {
   "cell_type": "code",
   "execution_count": 4,
   "metadata": {},
   "outputs": [],
   "source": [
    "class MyDataset(Dataset):\n",
    "    def __init__(self,X,Y):\n",
    "        self.x=X\n",
    "        self.y=Y\n",
    "    def __len__(self):\n",
    "        return len(self.x)\n",
    "    def __getitem__(self,idx):\n",
    "        return self.x[idx],self.y[idx]"
   ]
  },
  {
   "cell_type": "code",
   "execution_count": 5,
   "metadata": {},
   "outputs": [],
   "source": [
    "epochs=10000\n",
    "model=XORModel()"
   ]
  },
  {
   "cell_type": "code",
   "execution_count": 6,
   "metadata": {},
   "outputs": [
    {
     "name": "stderr",
     "output_type": "stream",
     "text": [
      "c:\\Dell\\Python310\\lib\\site-packages\\tqdm\\auto.py:21: TqdmWarning: IProgress not found. Please update jupyter and ipywidgets. See https://ipywidgets.readthedocs.io/en/stable/user_install.html\n",
      "  from .autonotebook import tqdm as notebook_tqdm\n"
     ]
    }
   ],
   "source": [
    "dataset=MyDataset(x,y)\n",
    "bsize=1\n",
    "trainData=DataLoader(dataset,batch_size=bsize,shuffle=True)\n",
    "lossfn=nn.MSELoss()\n",
    "lossList=[]\n",
    "optimizer=torch.optim.SGD(model.parameters(),lr=0.03)"
   ]
  },
  {
   "cell_type": "code",
   "execution_count": 7,
   "metadata": {},
   "outputs": [
    {
     "name": "stderr",
     "output_type": "stream",
     "text": [
      "c:\\Dell\\Python310\\lib\\site-packages\\torch\\nn\\modules\\loss.py:535: UserWarning: Using a target size (torch.Size([1])) that is different to the input size (torch.Size([1, 1])). This will likely lead to incorrect results due to broadcasting. Please ensure they have the same size.\n",
      "  return F.mse_loss(input, target, reduction=self.reduction)\n"
     ]
    },
    {
     "name": "stdout",
     "output_type": "stream",
     "text": [
      "0-->0.2745182514190674\n",
      "1000-->0.26756130903959274\n",
      "2000-->0.10749923903495073\n",
      "3000-->5.585552543152517e-06\n",
      "4000-->3.5641711804146325e-11\n",
      "5000-->7.502443111206958e-12\n",
      "6000-->6.899369964230573e-12\n",
      "7000-->7.72892860823049e-12\n",
      "8000-->7.315925643069932e-12\n",
      "9000-->6.746603276042151e-12\n",
      "9999-->6.758149595498253e-12\n"
     ]
    }
   ],
   "source": [
    "for epoch in range(epochs):\n",
    "    model.train(True)\n",
    "    totalloss=0.0\n",
    "    for i,data in enumerate(trainData):\n",
    "        ip,op=data\n",
    "        optimizer.zero_grad()\n",
    "        ypred=model(ip)\n",
    "        loss=lossfn(ypred,op)\n",
    "        loss.backward()\n",
    "        optimizer.step()\n",
    "        totalloss+=loss.item()\n",
    "    avgloss=totalloss/dataset.__len__()*bsize\n",
    "    lossList.append(avgloss)\n",
    "    if(epoch%1000==0 or epoch==epochs-1):\n",
    "        print(f\"{epoch}-->{avgloss}\")"
   ]
  },
  {
   "cell_type": "code",
   "execution_count": 8,
   "metadata": {},
   "outputs": [
    {
     "name": "stdout",
     "output_type": "stream",
     "text": [
      "tensor([1., 1.])-->0.0\n",
      "tensor([1., 1.])-->3.3974647521972656e-06\n"
     ]
    }
   ],
   "source": [
    "test=torch.tensor([1,1],dtype=torch.float32)\n",
    "model.eval()\n",
    "res=model(test)\n",
    "print(f\"{test}-->{torch.round(res[0])}\")\n",
    "print(f\"{test}-->{res[0]}\")"
   ]
  },
  {
   "cell_type": "code",
   "execution_count": 9,
   "metadata": {},
   "outputs": [
    {
     "data": {
      "text/plain": [
       "Text(0, 0.5, 'loss')"
      ]
     },
     "execution_count": 9,
     "metadata": {},
     "output_type": "execute_result"
    },
    {
     "data": {
      "image/png": "[encoded data removed]",
      "text/plain": [
       "<Figure size 640x480 with 1 Axes>"
      ]
     },
     "metadata": {},
     "output_type": "display_data"
    }
   ],
   "source": [
    "import matplotlib.pyplot as plt\n",
    "plt.plot(lossList)\n",
    "plt.xlabel('epochs')\n",
    "plt.ylabel('loss')"
   ]
  }
 ],
 "metadata": {
  "kernelspec": {
   "display_name": "Python 3",
   "language": "python",
   "name": "python3"
  },
  "language_info": {
   "codemirror_mode": {
    "name": "ipython",
    "version": 3
   },
   "file_extension": ".py",
   "mimetype": "text/x-python",
   "name": "python",
   "nbconvert_exporter": "python",
   "pygments_lexer": "ipython3",
   "version": "3.10.5"
  }
 },
 "nbformat": 4,
 "nbformat_minor": 2
}
