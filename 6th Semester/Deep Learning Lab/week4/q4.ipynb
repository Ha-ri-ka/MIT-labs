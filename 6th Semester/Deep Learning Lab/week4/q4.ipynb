{
 "cells": [
  {
   "cell_type": "markdown",
   "metadata": {},
   "source": [
    "Implement Feed Forward Neural Network with two hidden layers for classifying \n",
    "handwritten digits using MNIST dataset. Display the classification accuracy in the form \n",
    "of a Confusion matrix. Verify the number of learnable parameters in the model. \n"
   ]
  },
  {
   "cell_type": "markdown",
   "metadata": {},
   "source": []
  }
 ],
 "metadata": {
  "language_info": {
   "name": "python"
  }
 },
 "nbformat": 4,
 "nbformat_minor": 2
}
