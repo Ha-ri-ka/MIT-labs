{
  "cells": [
    {
      "cell_type": "markdown",
      "metadata": {
        "id": "-4zNVw50CVZC"
      },
      "source": [
        "Implement CNN for classifying digits in MNIST dataset using PyTorch. Display the classification accuracy in the form of a Confusion matrix. Verify the number of learnable parameters in the model."
      ]
    },
    {
      "cell_type": "code",
      "execution_count": 1,
      "metadata": {
        "id": "8TKOja5aCVZE"
      },
      "outputs": [],
      "source": [
        "import torch\n",
        "import torch.nn as nn\n",
        "import torchvision.datasets as datasets\n",
        "from torchvision.transforms import ToTensor\n",
        "from torch.utils.data import DataLoader"
      ]
    },
    {
      "cell_type": "code",
      "execution_count": 2,
      "metadata": {
        "colab": {
          "base_uri": "https://localhost:8080/"
        },
        "id": "ZN7U8wbDCVZF",
        "outputId": "ba6188ad-3a85-4617-dce7-c1ecdb274925"
      },
      "outputs": [
        {
          "output_type": "stream",
          "name": "stdout",
          "text": [
            "Downloading http://yann.lecun.com/exdb/mnist/train-images-idx3-ubyte.gz\n",
            "Downloading http://yann.lecun.com/exdb/mnist/train-images-idx3-ubyte.gz to ./data/MNIST/raw/train-images-idx3-ubyte.gz\n"
          ]
        },
        {
          "output_type": "stream",
          "name": "stderr",
          "text": [
            "100%|██████████| 9912422/9912422 [00:00<00:00, 215490767.59it/s]\n"
          ]
        },
        {
          "output_type": "stream",
          "name": "stdout",
          "text": [
            "Extracting ./data/MNIST/raw/train-images-idx3-ubyte.gz to ./data/MNIST/raw\n",
            "\n",
            "Downloading http://yann.lecun.com/exdb/mnist/train-labels-idx1-ubyte.gz\n",
            "Downloading http://yann.lecun.com/exdb/mnist/train-labels-idx1-ubyte.gz to ./data/MNIST/raw/train-labels-idx1-ubyte.gz\n"
          ]
        },
        {
          "output_type": "stream",
          "name": "stderr",
          "text": [
            "100%|██████████| 28881/28881 [00:00<00:00, 76668160.65it/s]\n"
          ]
        },
        {
          "output_type": "stream",
          "name": "stdout",
          "text": [
            "Extracting ./data/MNIST/raw/train-labels-idx1-ubyte.gz to ./data/MNIST/raw\n",
            "\n",
            "Downloading http://yann.lecun.com/exdb/mnist/t10k-images-idx3-ubyte.gz\n",
            "Downloading http://yann.lecun.com/exdb/mnist/t10k-images-idx3-ubyte.gz to ./data/MNIST/raw/t10k-images-idx3-ubyte.gz\n"
          ]
        },
        {
          "output_type": "stream",
          "name": "stderr",
          "text": [
            "100%|██████████| 1648877/1648877 [00:00<00:00, 145840269.01it/s]"
          ]
        },
        {
          "output_type": "stream",
          "name": "stdout",
          "text": [
            "Extracting ./data/MNIST/raw/t10k-images-idx3-ubyte.gz to ./data/MNIST/raw\n"
          ]
        },
        {
          "output_type": "stream",
          "name": "stderr",
          "text": [
            "\n"
          ]
        },
        {
          "output_type": "stream",
          "name": "stdout",
          "text": [
            "\n",
            "Downloading http://yann.lecun.com/exdb/mnist/t10k-labels-idx1-ubyte.gz\n",
            "Downloading http://yann.lecun.com/exdb/mnist/t10k-labels-idx1-ubyte.gz to ./data/MNIST/raw/t10k-labels-idx1-ubyte.gz\n"
          ]
        },
        {
          "output_type": "stream",
          "name": "stderr",
          "text": [
            "100%|██████████| 4542/4542 [00:00<00:00, 15191809.22it/s]"
          ]
        },
        {
          "output_type": "stream",
          "name": "stdout",
          "text": [
            "Extracting ./data/MNIST/raw/t10k-labels-idx1-ubyte.gz to ./data/MNIST/raw\n",
            "\n"
          ]
        },
        {
          "output_type": "stream",
          "name": "stderr",
          "text": [
            "\n"
          ]
        }
      ],
      "source": [
        "mnist_train=datasets.MNIST(root='./data',download=True,train=True,transform=ToTensor())\n",
        "mnist_test=datasets.MNIST(root='./data',download=True,train=False,transform=ToTensor())"
      ]
    },
    {
      "cell_type": "code",
      "execution_count": 3,
      "metadata": {
        "id": "tftBo1POCVZF"
      },
      "outputs": [],
      "source": [
        "bsize=4\n",
        "train=DataLoader(mnist_train,batch_size=bsize,shuffle=True)\n",
        "test=DataLoader(mnist_test,batch_size=bsize,shuffle=True)"
      ]
    },
    {
      "cell_type": "code",
      "execution_count": 4,
      "metadata": {
        "id": "QPILNdPICVZF"
      },
      "outputs": [],
      "source": [
        "class CNNClassifier(nn.Module):\n",
        "    def __init__(self):\n",
        "        super().__init__()\n",
        "        self.convLayer=nn.Sequential(nn.Conv2d(1,64,kernel_size=3),\n",
        "                               nn.ReLU(),\n",
        "                               nn.MaxPool2d((2,2),stride=2),\n",
        "                               nn.Conv2d(64,128,kernel_size=3),\n",
        "                               nn.ReLU(),\n",
        "                               nn.MaxPool2d((2,2),stride=2),\n",
        "                               nn.Conv2d(128,64,3),\n",
        "                               nn.ReLU(),\n",
        "                               nn.MaxPool2d((2,2),stride=2))\n",
        "        self.classfn=nn.Sequential(nn.Linear(64,20,bias=True),\n",
        "                                   nn.ReLU(),\n",
        "                                   nn.Linear(20,10,bias=True))\n",
        "    def forward(self,x):\n",
        "        features=self.convLayer(x)\n",
        "        return self.classfn(features.view(bsize,-1))"
      ]
    },
    {
      "cell_type": "code",
      "execution_count": 5,
      "metadata": {
        "id": "ZvFIsDPACVZG"
      },
      "outputs": [],
      "source": [
        "device=torch.device(\"cuda\" if torch.cuda.is_available() else \"cpu\")"
      ]
    },
    {
      "cell_type": "code",
      "execution_count": 6,
      "metadata": {
        "id": "ocR6YSfQCVZG"
      },
      "outputs": [],
      "source": [
        "model=CNNClassifier().to(device)\n",
        "lossfn=nn.CrossEntropyLoss()\n",
        "losslist=[]\n",
        "optimizer=torch.optim.SGD(model.parameters(),lr=0.01)"
      ]
    },
    {
      "cell_type": "code",
      "execution_count": 7,
      "metadata": {
        "colab": {
          "base_uri": "https://localhost:8080/"
        },
        "id": "_0yYbCTmCVZG",
        "outputId": "6e895747-cb18-44c0-9a2c-864956a24fd6"
      },
      "outputs": [
        {
          "output_type": "stream",
          "name": "stdout",
          "text": [
            "CNNClassifier(\n",
            "  (convLayer): Sequential(\n",
            "    (0): Conv2d(1, 64, kernel_size=(3, 3), stride=(1, 1))\n",
            "    (1): ReLU()\n",
            "    (2): MaxPool2d(kernel_size=(2, 2), stride=2, padding=0, dilation=1, ceil_mode=False)\n",
            "    (3): Conv2d(64, 128, kernel_size=(3, 3), stride=(1, 1))\n",
            "    (4): ReLU()\n",
            "    (5): MaxPool2d(kernel_size=(2, 2), stride=2, padding=0, dilation=1, ceil_mode=False)\n",
            "    (6): Conv2d(128, 64, kernel_size=(3, 3), stride=(1, 1))\n",
            "    (7): ReLU()\n",
            "    (8): MaxPool2d(kernel_size=(2, 2), stride=2, padding=0, dilation=1, ceil_mode=False)\n",
            "  )\n",
            "  (classfn): Sequential(\n",
            "    (0): Linear(in_features=64, out_features=20, bias=True)\n",
            "    (1): ReLU()\n",
            "    (2): Linear(in_features=20, out_features=10, bias=True)\n",
            "  )\n",
            ")\n",
            "149798\n"
          ]
        }
      ],
      "source": [
        "print(model)\n",
        "totalparams=0\n",
        "for name,param in model.named_parameters():\n",
        "    count=param.numel()\n",
        "    totalparams+=count\n",
        "print(totalparams)"
      ]
    },
    {
      "cell_type": "code",
      "execution_count": null,
      "metadata": {
        "colab": {
          "base_uri": "https://localhost:8080/"
        },
        "id": "kwO40fNlCVZG",
        "outputId": "72be3c62-525c-4a88-d150-9c6a407e23db"
      },
      "outputs": [
        {
          "output_type": "stream",
          "name": "stdout",
          "text": [
            "epoch=0, loss=1.8287496081486732\n",
            "epoch=1, loss=0.3632481613320119\n",
            "epoch=2, loss=0.24788857465341893\n",
            "epoch=3, loss=0.1869555517185256\n"
          ]
        }
      ],
      "source": [
        "epochs=5\n",
        "for epoch in range(epochs):\n",
        "    model.train(True)\n",
        "    totalloss=0.0\n",
        "    for i,data in enumerate(train):\n",
        "        ip,op=data[0].to(device),data[1].to(device)\n",
        "        optimizer.zero_grad()\n",
        "        pred=model(ip)\n",
        "        # _,predClass=torch.max(pred,dim=1)\n",
        "        loss=lossfn(pred,op)\n",
        "        loss.backward()\n",
        "        optimizer.step()\n",
        "        totalloss+=loss.item()\n",
        "    avgLoss=totalloss/len(train)*bsize\n",
        "    print(f\"epoch={epoch}, loss={avgLoss}\")"
      ]
    },
    {
      "cell_type": "code",
      "execution_count": 12,
      "metadata": {
        "colab": {
          "base_uri": "https://localhost:8080/"
        },
        "id": "mPqjWLLKCVZH",
        "outputId": "c646b792-428c-4a6e-80a3-75ed973f7bf3"
      },
      "outputs": [
        {
          "output_type": "stream",
          "name": "stdout",
          "text": [
            "actual label=tensor([2, 6, 7, 6])\n",
            "predicted label=tensor([2, 6, 7, 6])\n"
          ]
        }
      ],
      "source": [
        "model.eval()\n",
        "\n",
        "count=0\n",
        "for _,testimage in enumerate(test):\n",
        "    ip,op=testimage[0].to(device),testimage[1].to(device)\n",
        "    count+=1\n",
        "    if count==1: break\n",
        "\n",
        "with torch.no_grad():\n",
        "    predicted=model(ip)\n",
        "    _,predictedOutput=torch.max(predicted,dim=1)\n",
        "\n",
        "print(f\"actual label={op}\")\n",
        "print(f\"predicted label={predictedOutput}\")"
      ]
    },
    {
      "cell_type": "code",
      "execution_count": 11,
      "metadata": {
        "colab": {
          "base_uri": "https://localhost:8080/"
        },
        "id": "cO2MrSrjCVZH",
        "outputId": "79d1d156-9ed0-4cc4-dc02-352535617c69"
      },
      "outputs": [
        {
          "output_type": "stream",
          "name": "stdout",
          "text": [
            "accuracy=98.43999481201172\n"
          ]
        }
      ],
      "source": [
        "correct=0\n",
        "total=len(test)*bsize\n",
        "count=0\n",
        "for _,vdata in enumerate(test):\n",
        "    vip,vop=vdata[0].to(device),vdata[1].to(device)\n",
        "    vpred=model(vip)\n",
        "    _,vclass=torch.max(vpred,dim=1)\n",
        "    correct+=(vclass==vop).sum()\n",
        "accuracy=(correct/total)*100\n",
        "print(f\"accuracy={accuracy}\")"
      ]
    }
  ],
  "metadata": {
    "kernelspec": {
      "display_name": "Python 3",
      "language": "python",
      "name": "python3"
    },
    "language_info": {
      "codemirror_mode": {
        "name": "ipython",
        "version": 3
      },
      "file_extension": ".py",
      "mimetype": "text/x-python",
      "name": "python",
      "nbconvert_exporter": "python",
      "pygments_lexer": "ipython3",
      "version": "3.10.5"
    },
    "colab": {
      "provenance": []
    }
  },
  "nbformat": 4,
  "nbformat_minor": 0
}