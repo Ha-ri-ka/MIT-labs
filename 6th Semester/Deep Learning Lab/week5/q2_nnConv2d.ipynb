{
 "cells": [
  {
   "cell_type": "code",
   "execution_count": 1,
   "metadata": {},
   "outputs": [],
   "source": [
    "import torch \n",
    "import torch.nn.functional as F "
   ]
  },
  {
   "cell_type": "code",
   "execution_count": 2,
   "metadata": {},
   "outputs": [],
   "source": [
    "h,w=6,6\n",
    "ksize=3\n",
    "torch.manual_seed(1)\n",
    "image=torch.rand(1,1,h,w)"
   ]
  },
  {
   "cell_type": "code",
   "execution_count": 3,
   "metadata": {},
   "outputs": [
    {
     "name": "stdout",
     "output_type": "stream",
     "text": [
      "input image-->torch.Size([1, 1, 6, 6])\n",
      "tensor([[[[0.7576, 0.2793, 0.4031, 0.7347, 0.0293, 0.7999],\n",
      "          [0.3971, 0.7544, 0.5695, 0.4388, 0.6387, 0.5247],\n",
      "          [0.6826, 0.3051, 0.4635, 0.4550, 0.5725, 0.4980],\n",
      "          [0.9371, 0.6556, 0.3138, 0.1980, 0.4162, 0.2843],\n",
      "          [0.3398, 0.5239, 0.7981, 0.7718, 0.0112, 0.8100],\n",
      "          [0.6397, 0.9743, 0.8300, 0.0444, 0.0246, 0.2588]]]])\n"
     ]
    }
   ],
   "source": [
    "print(f\"input image-->{image.shape}\\n{image}\")"
   ]
  },
  {
   "cell_type": "code",
   "execution_count": 4,
   "metadata": {},
   "outputs": [],
   "source": [
    "\n",
    "conv_layer=torch.nn.Conv2d(in_channels=1, out_channels=3, kernel_size=ksize, stride=1, padding=0)\n",
    "t_op=conv_layer(image)\n",
    "krnl=conv_layer.weight\n",
    "biases=conv_layer.bias"
   ]
  },
  {
   "cell_type": "code",
   "execution_count": 5,
   "metadata": {},
   "outputs": [],
   "source": [
    "Func_op=F.conv2d(image,krnl,bias=biases,stride=1,padding=0)"
   ]
  },
  {
   "cell_type": "code",
   "execution_count": 6,
   "metadata": {},
   "outputs": [
    {
     "name": "stdout",
     "output_type": "stream",
     "text": [
      "\n",
      "Output image using torch-->torch.Size([1, 3, 4, 4])\n",
      "tensor([[[[ 0.7547,  0.4656,  0.3594,  0.7186],\n",
      "          [ 0.5617,  0.7179,  0.5315,  0.5112],\n",
      "          [ 0.5165,  0.3959,  0.6457,  0.5841],\n",
      "          [ 0.6025,  0.8084,  0.7664,  0.1067]],\n",
      "\n",
      "         [[-0.4061, -0.3738, -0.5582, -0.2306],\n",
      "          [-0.4776, -0.3709, -0.3968, -0.3768],\n",
      "          [-0.3171, -0.3115, -0.2908, -0.4730],\n",
      "          [-0.4118, -0.4459, -0.3618, -0.5565]],\n",
      "\n",
      "         [[ 0.4015,  0.2539,  0.4177,  0.3974],\n",
      "          [ 0.2312,  0.3809,  0.3494,  0.4248],\n",
      "          [ 0.4048,  0.3176,  0.2225,  0.3113],\n",
      "          [ 0.7809,  0.3476, -0.0883,  0.0801]]]],\n",
      "       grad_fn=<ConvolutionBackward0>)\n",
      "\n",
      "Output image using functional module-->torch.Size([1, 3, 4, 4])\n",
      "tensor([[[[ 0.7547,  0.4656,  0.3594,  0.7186],\n",
      "          [ 0.5617,  0.7179,  0.5315,  0.5112],\n",
      "          [ 0.5165,  0.3959,  0.6457,  0.5841],\n",
      "          [ 0.6025,  0.8084,  0.7664,  0.1067]],\n",
      "\n",
      "         [[-0.4061, -0.3738, -0.5582, -0.2306],\n",
      "          [-0.4776, -0.3709, -0.3968, -0.3768],\n",
      "          [-0.3171, -0.3115, -0.2908, -0.4730],\n",
      "          [-0.4118, -0.4459, -0.3618, -0.5565]],\n",
      "\n",
      "         [[ 0.4015,  0.2539,  0.4177,  0.3974],\n",
      "          [ 0.2312,  0.3809,  0.3494,  0.4248],\n",
      "          [ 0.4048,  0.3176,  0.2225,  0.3113],\n",
      "          [ 0.7809,  0.3476, -0.0883,  0.0801]]]],\n",
      "       grad_fn=<ConvolutionBackward0>)\n"
     ]
    }
   ],
   "source": [
    "print(f\"\\nOutput image using torch-->{t_op.shape}\\n{t_op}\")\n",
    "print(f\"\\nOutput image using functional module-->{Func_op.shape}\\n{Func_op}\")"
   ]
  }
 ],
 "metadata": {
  "kernelspec": {
   "display_name": "Python 3",
   "language": "python",
   "name": "python3"
  },
  "language_info": {
   "codemirror_mode": {
    "name": "ipython",
    "version": 3
   },
   "file_extension": ".py",
   "mimetype": "text/x-python",
   "name": "python",
   "nbconvert_exporter": "python",
   "pygments_lexer": "ipython3",
   "version": "3.10.5"
  }
 },
 "nbformat": 4,
 "nbformat_minor": 2
}
