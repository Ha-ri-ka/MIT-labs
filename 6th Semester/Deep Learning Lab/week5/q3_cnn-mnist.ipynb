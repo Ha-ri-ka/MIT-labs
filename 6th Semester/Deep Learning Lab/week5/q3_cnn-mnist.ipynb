{
 "cells": [
  {
   "cell_type": "markdown",
   "metadata": {},
   "source": [
    "Implement CNN for classifying digits in MNIST dataset using PyTorch. Display the classification accuracy in the form of a Confusion matrix. Verify the number of learnable parameters in the model."
   ]
  },
  {
   "cell_type": "code",
   "execution_count": 32,
   "metadata": {},
   "outputs": [],
   "source": [
    "import torch\n",
    "import torch.nn as nn\n",
    "import torchvision.datasets as datasets\n",
    "from torchvision.transforms import ToTensor\n",
    "from torch.utils.data import DataLoader"
   ]
  },
  {
   "cell_type": "code",
   "execution_count": 33,
   "metadata": {},
   "outputs": [],
   "source": [
    "mnist_train=datasets.MNIST(root='./data',download=True,train=True,transform=ToTensor())\n",
    "mnist_test=datasets.MNIST(root='./data',download=True,train=False,transform=ToTensor())"
   ]
  },
  {
   "cell_type": "code",
   "execution_count": 34,
   "metadata": {},
   "outputs": [],
   "source": [
    "bsize=4\n",
    "train=DataLoader(mnist_train,batch_size=bsize,shuffle=True)\n",
    "test=DataLoader(mnist_test,batch_size=bsize,shuffle=True)"
   ]
  },
  {
   "cell_type": "code",
   "execution_count": 41,
   "metadata": {},
   "outputs": [],
   "source": [
    "class CNNClassifier(nn.Module):\n",
    "    def __init__(self):\n",
    "        super().__init__()\n",
    "        self.convLayer=nn.Sequential(nn.Conv2d(1,64,kernel_size=3),\n",
    "                               nn.ReLU(),\n",
    "                               nn.MaxPool2d((2,2),stride=2),\n",
    "                               nn.Conv2d(64,128,kernel_size=3),\n",
    "                               nn.ReLU(),\n",
    "                               nn.MaxPool2d((2,2),stride=2),\n",
    "                               nn.Conv2d(128,64,3),\n",
    "                               nn.ReLU(),\n",
    "                               nn.MaxPool2d((2,2),stride=2))\n",
    "        self.classfn=nn.Sequential(nn.Linear(64,20,bias=True),\n",
    "                                   nn.ReLU(),\n",
    "                                   nn.Linear(20,10,bias=True))\n",
    "    def forward(self,x):\n",
    "        features=self.convLayer(x)\n",
    "        return self.classfn(features.view(bsize,-1))  "
   ]
  },
  {
   "cell_type": "code",
   "execution_count": 42,
   "metadata": {},
   "outputs": [],
   "source": [
    "model=CNNClassifier()\n",
    "lossfn=nn.CrossEntropyLoss()\n",
    "losslist=[]\n",
    "optimizer=torch.optim.SGD(model.parameters(),lr=0.01)"
   ]
  },
  {
   "cell_type": "code",
   "execution_count": 43,
   "metadata": {},
   "outputs": [
    {
     "name": "stdout",
     "output_type": "stream",
     "text": [
      "CNNClassifier(\n",
      "  (convLayer): Sequential(\n",
      "    (0): Conv2d(1, 64, kernel_size=(3, 3), stride=(1, 1))\n",
      "    (1): ReLU()\n",
      "    (2): MaxPool2d(kernel_size=(2, 2), stride=2, padding=0, dilation=1, ceil_mode=False)\n",
      "    (3): Conv2d(64, 128, kernel_size=(3, 3), stride=(1, 1))\n",
      "    (4): ReLU()\n",
      "    (5): MaxPool2d(kernel_size=(2, 2), stride=2, padding=0, dilation=1, ceil_mode=False)\n",
      "    (6): Conv2d(128, 64, kernel_size=(3, 3), stride=(1, 1))\n",
      "    (7): ReLU()\n",
      "    (8): MaxPool2d(kernel_size=(2, 2), stride=2, padding=0, dilation=1, ceil_mode=False)\n",
      "  )\n",
      "  (classfn): Sequential(\n",
      "    (0): Linear(in_features=64, out_features=20, bias=True)\n",
      "    (1): ReLU()\n",
      "    (2): Linear(in_features=20, out_features=10, bias=True)\n",
      "  )\n",
      ")\n",
      "149798\n"
     ]
    }
   ],
   "source": [
    "print(model)\n",
    "totalparams=0\n",
    "for name,param in model.named_parameters():\n",
    "    count=param.numel()\n",
    "    totalparams+=count\n",
    "print(totalparams)"
   ]
  },
  {
   "cell_type": "code",
   "execution_count": 44,
   "metadata": {},
   "outputs": [
    {
     "name": "stdout",
     "output_type": "stream",
     "text": [
      "epoch=0, loss=1.5433769939439526\n",
      "epoch=1, loss=0.33611870650990217\n",
      "epoch=2, loss=0.23081829278538146\n",
      "epoch=3, loss=0.17560569329785541\n",
      "epoch=4, loss=0.1407180438906741\n"
     ]
    }
   ],
   "source": [
    "epochs=5\n",
    "for epoch in range(epochs):\n",
    "    model.train(True)\n",
    "    totalloss=0.0    \n",
    "    for i,data in enumerate(train):\n",
    "        ip,op=data[0].to(device),data[1].to(device)\n",
    "        optimizer.zero_grad()\n",
    "        pred=model(ip)\n",
    "        # _,predClass=torch.max(pred,dim=1)\n",
    "        loss=lossfn(pred,op)\n",
    "        loss.backward()\n",
    "        optimizer.step()\n",
    "        totalloss+=loss.item()\n",
    "    avgLoss=totalloss/len(train)*bsize\n",
    "    print(f\"epoch={epoch}, loss={avgLoss}\")    "
   ]
  },
  {
   "cell_type": "code",
   "execution_count": 47,
   "metadata": {},
   "outputs": [
    {
     "name": "stdout",
     "output_type": "stream",
     "text": [
      "actual label=tensor([1, 7, 1, 8])\n",
      "predicted label=tensor([1, 7, 1, 8])\n"
     ]
    }
   ],
   "source": [
    "model.eval()\n",
    "\n",
    "count=0\n",
    "for _,testimage in enumerate(test):\n",
    "    ip,op=testimage[0],testimage[1]\n",
    "    count+=1\n",
    "    if count==1: break\n",
    "\n",
    "with torch.no_grad():\n",
    "    predicted=model(ip)\n",
    "    _,predictedOutput=torch.max(predicted,dim=1)\n",
    "    \n",
    "print(f\"actual label={op}\") \n",
    "print(f\"predicted label={predictedOutput}\")"
   ]
  },
  {
   "cell_type": "code",
   "execution_count": 50,
   "metadata": {},
   "outputs": [
    {
     "name": "stdout",
     "output_type": "stream",
     "text": [
      "accuracy=98.11000061035156\n"
     ]
    }
   ],
   "source": [
    "correct=0\n",
    "total=len(test)*bsize\n",
    "count=0\n",
    "for _,vdata in enumerate(test):\n",
    "    vip,vop=vdata\n",
    "    vpred=model(vip)\n",
    "    _,vclass=torch.max(vpred,dim=1)\n",
    "    correct+=(vclass==vop).sum()\n",
    "accuracy=(correct/total)*100\n",
    "print(f\"accuracy={accuracy}\")   "
   ]
  }
 ],
 "metadata": {
  "kernelspec": {
   "display_name": "Python 3",
   "language": "python",
   "name": "python3"
  },
  "language_info": {
   "codemirror_mode": {
    "name": "ipython",
    "version": 3
   },
   "file_extension": ".py",
   "mimetype": "text/x-python",
   "name": "python",
   "nbconvert_exporter": "python",
   "pygments_lexer": "ipython3",
   "version": "3.10.5"
  }
 },
 "nbformat": 4,
 "nbformat_minor": 2
}
