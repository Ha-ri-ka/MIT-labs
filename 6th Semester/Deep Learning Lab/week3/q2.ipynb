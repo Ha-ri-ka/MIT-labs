{
 "cells": [
  {
   "cell_type": "code",
   "execution_count": 1,
   "id": "8da86f6e-6730-44c7-9658-2956d79f1fa9",
   "metadata": {},
   "outputs": [],
   "source": [
    "import torch\n",
    "import matplotlib.pyplot as plt"
   ]
  },
  {
   "cell_type": "code",
   "execution_count": 2,
   "id": "bdaceb74-3a52-4c02-8eaf-fa3eab2decba",
   "metadata": {},
   "outputs": [
    {
     "name": "stdout",
     "output_type": "stream",
     "text": [
      "The inital params are:\n",
      "w=1.0\n",
      "b=1.0\n",
      "learning rate=0.0010000000474974513\n"
     ]
    }
   ],
   "source": [
    "x=torch.tensor([2,4])\n",
    "y=torch.tensor([20,40])\n",
    "w=torch.tensor([1.0],requires_grad=True)\n",
    "b=torch.tensor([1.0],requires_grad=True)\n",
    "alpha=torch.tensor(0.001)\n",
    "print(f\"The inital params are:\\nw={w.item()}\\nb={b.item()}\\nlearning rate={alpha.item()}\")"
   ]
  },
  {
   "cell_type": "code",
   "execution_count": 3,
   "id": "4f05e168-c7b0-4568-8d98-0a7779e03030",
   "metadata": {},
   "outputs": [
    {
     "name": "stdout",
     "output_type": "stream",
     "text": [
      "At the end of 2 epochs:\n",
      "w=1.344208002090454\n",
      "b=1.1028521060943604\n"
     ]
    }
   ],
   "source": [
    "epochNum=2\n",
    "for epoch in range(epochNum):\n",
    "    loss=0.0\n",
    "    for j in range(len(x)):\n",
    "        y_p=w*x[j]+b\n",
    "        error=y_p-y[j]\n",
    "        loss+=(error)**2\n",
    "    loss=loss/len(x)\n",
    "    loss.backward()\n",
    "    with torch.no_grad():\n",
    "        w-=alpha*w.grad\n",
    "        b-=alpha*b.grad\n",
    "    w.grad.zero_()\n",
    "    b.grad.zero_()\n",
    "print(f\"At the end of {epochNum} epochs:\\nw={w.item()}\\nb={b.item()}\")"
   ]
  },
  {
   "cell_type": "code",
   "execution_count": 13,
   "id": "34e38395-c79b-4c68-a37e-cdc0a85b1cac",
   "metadata": {},
   "outputs": [
    {
     "data": {
      "text/plain": [
       "[tensor([3.7913], grad_fn=<AddBackward0>),\n",
       " tensor([6.4797], grad_fn=<AddBackward0>)]"
      ]
     },
     "execution_count": 13,
     "metadata": {},
     "output_type": "execute_result"
    }
   ],
   "source": [
    "y_pred=[w*xval+b for xval in x]\n",
    "y_pred"
   ]
  }
 ],
 "metadata": {
  "kernelspec": {
   "display_name": "Python 3 (ipykernel)",
   "language": "python",
   "name": "python3"
  },
  "language_info": {
   "codemirror_mode": {
    "name": "ipython",
    "version": 3
   },
   "file_extension": ".py",
   "mimetype": "text/x-python",
   "name": "python",
   "nbconvert_exporter": "python",
   "pygments_lexer": "ipython3",
   "version": "3.11.7"
  }
 },
 "nbformat": 4,
 "nbformat_minor": 5
}
