{
 "cells": [
  {
   "cell_type": "markdown",
   "id": "64c23159-aafe-4ed3-850f-f51524564e59",
   "metadata": {},
   "source": [
    "Implement two layer feed forward neural network for XOR logic gate"
   ]
  },
  {
   "cell_type": "code",
   "execution_count": 1,
   "id": "65fe266a-7d71-4571-8a3e-b57eb515158f",
   "metadata": {},
   "outputs": [],
   "source": [
    "import torch\n",
    "from matplotlib import pyplot as plt\n",
    "from torch.utils.data import Dataset, DataLoader\n",
    "import torch.nn as nn\n",
    "import numpy as np"
   ]
  },
  {
   "cell_type": "code",
   "execution_count": 2,
   "id": "2b5a3690-1400-4368-904a-4d06b8f04878",
   "metadata": {},
   "outputs": [
    {
     "data": {
      "text/plain": [
       "<torch._C.Generator at 0x7f5cb2b920f0>"
      ]
     },
     "execution_count": 2,
     "metadata": {},
     "output_type": "execute_result"
    }
   ],
   "source": [
    "loss_list = []\n",
    "torch.manual_seed(42)"
   ]
  },
  {
   "cell_type": "code",
   "execution_count": 3,
   "id": "06888486-78ea-405e-b3a4-5814bbca4934",
   "metadata": {},
   "outputs": [],
   "source": [
    "X = torch.tensor([[0,0], [0,1], [1,0], [1,1]], dtype = torch.float32)\n",
    "Y = torch.tensor([0,1,1,0], dtype = torch.float32)"
   ]
  },
  {
   "cell_type": "code",
   "execution_count": 4,
   "id": "9ee2974d-ea69-4011-baa6-13a6f1d5b9fe",
   "metadata": {},
   "outputs": [],
   "source": [
    "class XORModel(nn.Module):\n",
    "    def __init__(self):\n",
    "        super(XORModel, self).__init__()\n",
    "        self.w = torch.nn.Parameter(torch.rand([1]))\n",
    "        self.b = torch.nn.Parameter(torch.rand([1]))\n",
    "        self.linear1 = nn.Linear(2, 2, bias=True)\n",
    "        self.activation1 = nn.Sigmoid()\n",
    "        self.linear2 = nn.Linear(2, 1, bias=True)\n",
    "        self.activation2 = nn.ReLU()\n",
    "        \n",
    "    def forward(self, x):\n",
    "        x = self.linear1(x)\n",
    "        x = self.activation1(x)\n",
    "        x = self.linear2(x)\n",
    "        x = self.activation2(x)\n",
    "        return x\n"
   ]
  },
  {
   "cell_type": "code",
   "execution_count": 5,
   "id": "5c2f83c6-44a8-49b2-a682-deb5e2f566c6",
   "metadata": {},
   "outputs": [],
   "source": [
    "class MyDataset(Dataset):\n",
    "    def __init__(self, X,Y):\n",
    "        self.X = X\n",
    "        self.Y = Y\n",
    "    def __len__(self):\n",
    "        return len(self.X)\n",
    "    def __getitem__(self, idx):\n",
    "        return self.X[idx].to(device), self.Y[idx].to(device)"
   ]
  },
  {
   "cell_type": "code",
   "execution_count": 6,
   "id": "98ebfb4a-8088-44ac-bd5f-8f44ed187209",
   "metadata": {},
   "outputs": [
    {
     "name": "stdout",
     "output_type": "stream",
     "text": [
      "cuda\n",
      "XORModel(\n",
      "  (linear1): Linear(in_features=2, out_features=2, bias=True)\n",
      "  (activation1): Sigmoid()\n",
      "  (linear2): Linear(in_features=2, out_features=1, bias=True)\n",
      "  (activation2): ReLU()\n",
      ")\n"
     ]
    }
   ],
   "source": [
    "full_dataset = MyDataset(X,Y)\n",
    "batch_size = 1\n",
    "train_data_loader = DataLoader(full_dataset, batch_size=batch_size, shuffle=True)\n",
    "\n",
    "device = torch.device(\"cuda\" if torch.cuda.is_available() else \"cpu\")\n",
    "print(device)\n",
    "model = XORModel().to(device)\n",
    "print(model)"
   ]
  },
  {
   "cell_type": "code",
   "execution_count": 7,
   "id": "77406abe-fab8-4118-9968-ac4b9b0730f1",
   "metadata": {},
   "outputs": [],
   "source": [
    "loss_fn = torch.nn.MSELoss()\n",
    "optimizer = torch.optim.SGD(model.parameters(), lr = 0.03)"
   ]
  },
  {
   "cell_type": "code",
   "execution_count": 8,
   "id": "b8cbfdee-1b41-4d68-afc7-72b68b351e1f",
   "metadata": {},
   "outputs": [],
   "source": [
    "def train_one_epoch(epoch_index):\n",
    "    totalloss = 0\n",
    "    for i,data in enumerate(train_data_loader):\n",
    "        inputs, labels = data\n",
    "        optimizer.zero_grad()\n",
    "        outputs = model(inputs)\n",
    "        loss = loss_fn(outputs.flatten(), labels)\n",
    "        loss.backward()\n",
    "        optimizer.step()\n",
    "        totalloss += loss.item()\n",
    "    return totalloss/(len(train_data_loader) * batch_size)"
   ]
  },
  {
   "cell_type": "code",
   "execution_count": 9,
   "id": "370f6300-dc78-4bef-89d4-c0b0abd6a692",
   "metadata": {},
   "outputs": [
    {
     "name": "stdout",
     "output_type": "stream",
     "text": [
      "Epoch 0/10000, loss: 0.28455115109682083\n",
      "Epoch 1000/10000, loss: 0.25913458690047264\n",
      "Epoch 2000/10000, loss: 0.0001244628529093461\n",
      "Epoch 3000/10000, loss: 9.543477119677846e-12\n",
      "Epoch 4000/10000, loss: 1.595168441781425e-12\n",
      "Epoch 5000/10000, loss: 1.595168441781425e-12\n",
      "Epoch 6000/10000, loss: 1.595168441781425e-12\n",
      "Epoch 7000/10000, loss: 1.595168441781425e-12\n",
      "Epoch 8000/10000, loss: 1.63069557856943e-12\n",
      "Epoch 9000/10000, loss: 1.63069557856943e-12\n"
     ]
    }
   ],
   "source": [
    "epochs = 10000\n",
    "for epoch in range(epochs):\n",
    "    model.train(True)\n",
    "    avg_loss = train_one_epoch(epoch)\n",
    "    loss_list.append(avg_loss)\n",
    "    if epoch%1000 == 0:\n",
    "        print(f'Epoch {epoch}/{epochs}, loss: {avg_loss}')"
   ]
  },
  {
   "cell_type": "code",
   "execution_count": 10,
   "id": "761393bf-7deb-46b8-b444-b9e3d6df63a3",
   "metadata": {},
   "outputs": [
    {
     "name": "stdout",
     "output_type": "stream",
     "text": [
      "('w', Parameter containing:\n",
      "tensor([0.8823], device='cuda:0', requires_grad=True))\n",
      "('b', Parameter containing:\n",
      "tensor([0.9150], device='cuda:0', requires_grad=True))\n",
      "('linear1.weight', Parameter containing:\n",
      "tensor([[-2.6233,  2.5992],\n",
      "        [-2.3309,  2.3133]], device='cuda:0', requires_grad=True))\n",
      "('linear1.bias', Parameter containing:\n",
      "tensor([-1.8279,  1.2729], device='cuda:0', requires_grad=True))\n",
      "('linear2.weight', Parameter containing:\n",
      "tensor([[ 2.7392, -2.5743]], device='cuda:0', requires_grad=True))\n",
      "('linear2.bias', Parameter containing:\n",
      "tensor([1.6318], device='cuda:0', requires_grad=True))\n"
     ]
    }
   ],
   "source": [
    "for param in model.named_parameters():\n",
    "    print(param)"
   ]
  },
  {
   "cell_type": "code",
   "execution_count": 11,
   "id": "4562ad01-dad6-496d-9bd5-102653e0b647",
   "metadata": {},
   "outputs": [
    {
     "name": "stdout",
     "output_type": "stream",
     "text": [
      "The input is tensor([0., 1.], device='cuda:0')\n",
      "output y predicted =tensor([1.0000], device='cuda:0', grad_fn=<ReluBackward0>)\n"
     ]
    }
   ],
   "source": [
    "input = torch.tensor([0,1], dtype = torch.float32).to(device)\n",
    "model.eval()\n",
    "print('The input is {}'.format(input))\n",
    "print('output y predicted ={}'.format(model(input)))"
   ]
  },
  {
   "cell_type": "code",
   "execution_count": 12,
   "id": "d3d804e9-04a0-471e-827e-6dc001d41cdf",
   "metadata": {},
   "outputs": [
    {
     "data": {
      "image/png": "[encoded data removed]",
      "text/plain": [
       "<Figure size 640x480 with 1 Axes>"
      ]
     },
     "metadata": {},
     "output_type": "display_data"
    }
   ],
   "source": [
    "plt.plot(loss_list)\n",
    "plt.show()"
   ]
  },
  {
   "cell_type": "code",
   "execution_count": null,
   "id": "8996a116-08ce-453b-9f0b-8fe403cf375e",
   "metadata": {},
   "outputs": [],
   "source": []
  }
 ],
 "metadata": {
  "kernelspec": {
   "display_name": "Python 3 (ipykernel)",
   "language": "python",
   "name": "python3"
  },
  "language_info": {
   "codemirror_mode": {
    "name": "ipython",
    "version": 3
   },
   "file_extension": ".py",
   "mimetype": "text/x-python",
   "name": "python",
   "nbconvert_exporter": "python",
   "pygments_lexer": "ipython3",
   "version": "3.11.7"
  }
 },
 "nbformat": 4,
 "nbformat_minor": 5
}
