{
 "cells": [
  {
   "cell_type": "markdown",
   "id": "7fbb2716-1813-4bff-b9ac-12a173afa251",
   "metadata": {},
   "source": [
    "EXAMPLE QUESTIONS"
   ]
  },
  {
   "cell_type": "code",
   "execution_count": 4,
   "id": "49ef8e87-7670-41d9-85e9-03fe9a50ee3e",
   "metadata": {},
   "outputs": [],
   "source": [
    "import torch"
   ]
  },
  {
   "cell_type": "code",
   "execution_count": 5,
   "id": "0b8d5c99-91d1-454d-b9c0-6ff23058d0d5",
   "metadata": {},
   "outputs": [
    {
     "data": {
      "text/plain": [
       "tensor([0.1029, 0.8181, 0.8870], requires_grad=True)"
      ]
     },
     "execution_count": 5,
     "metadata": {},
     "output_type": "execute_result"
    }
   ],
   "source": [
    "x=torch.rand(3,requires_grad=True)\n",
    "x"
   ]
  },
  {
   "cell_type": "markdown",
   "id": "e9896bf8-0183-4edc-a4aa-4e73bbe6c0d7",
   "metadata": {},
   "source": [
    "EXAMPLE 1"
   ]
  },
  {
   "cell_type": "code",
   "execution_count": 16,
   "id": "376d2f3d-0e12-41b2-a3ad-b89d0899cd1d",
   "metadata": {},
   "outputs": [
    {
     "name": "stdout",
     "output_type": "stream",
     "text": [
      "x=3.5\n",
      "y=12.25\n",
      "z=27.5\n",
      "gradient dz/dx(x=3.5) is 14.0\n"
     ]
    }
   ],
   "source": [
    "x=torch.tensor(3.5,requires_grad=True)\n",
    "y=x*x\n",
    "z=2*y+3\n",
    "print(f'x={x}\\ny={y}\\nz={z}')\n",
    "z.backward()\n",
    "print(f'gradient dz/dx(x=3.5) is {x.grad}')"
   ]
  },
  {
   "cell_type": "markdown",
   "id": "16090684-20e2-46ec-a426-43a34b28696c",
   "metadata": {},
   "source": [
    "EXAMPLE 2"
   ]
  },
  {
   "cell_type": "code",
   "execution_count": 19,
   "id": "2a74c473-e79d-403e-971b-c5888b72da88",
   "metadata": {},
   "outputs": [
    {
     "name": "stdout",
     "output_type": "stream",
     "text": [
      "df/dx(x=1) using torch: tensor([-2.])\n",
      "df/dx(x=1) using analytical function: tensor([-2.], grad_fn=<MulBackward0>)\n"
     ]
    }
   ],
   "source": [
    "def f(x):\n",
    "    return (x-2)**2\n",
    "def df(x):\n",
    "    return 2*(x-2)\n",
    "\n",
    "x=torch.tensor([1.0],requires_grad=True)\n",
    "y=f(x)\n",
    "y.backward()\n",
    "print(f'df/dx(x=1) using torch: {x.grad}')\n",
    "print(f'df/dx(x=1) using analytical function: {df(x)}')"
   ]
  },
  {
   "cell_type": "markdown",
   "id": "cc83a47a-6754-4382-aa78-c9001fd5dda3",
   "metadata": {},
   "source": [
    "EXAMPLE 3"
   ]
  },
  {
   "cell_type": "code",
   "execution_count": 26,
   "id": "1755fb82-53ec-436e-b9d7-12918c4063a3",
   "metadata": {},
   "outputs": [
    {
     "name": "stdout",
     "output_type": "stream",
     "text": [
      "dy/dx(x=2) using torch: tensor([4.])\n",
      "dy/dx(x=2) using analytical function: tensor([4.])\n"
     ]
    }
   ],
   "source": [
    "x=torch.tensor([2.0],requires_grad=True)\n",
    "y=x**2+5\n",
    "#evaluating dy/dx using torch\n",
    "y.backward()\n",
    "print(f'dy/dx(x=2) using torch: {x.grad}')\n",
    "#evaluating dy/dx without torch\n",
    "with torch.no_grad():    \n",
    "    dy=2*x\n",
    "print(f'dy/dx(x=2) using analytical function: {dy}')"
   ]
  },
  {
   "cell_type": "markdown",
   "id": "02aff965-6ffa-40b2-8d6e-aad937752abd",
   "metadata": {},
   "source": [
    "EXAMPLE 4"
   ]
  },
  {
   "cell_type": "code",
   "execution_count": 32,
   "id": "52e650bc-4d36-438c-9322-abb77ec54a9d",
   "metadata": {},
   "outputs": [
    {
     "name": "stdout",
     "output_type": "stream",
     "text": [
      "ds/dx(x=2.0) using torch: 0.10499356687068939\n",
      "ds/dx(x=2.0) using analytical function: 0.1049935854035065\n"
     ]
    }
   ],
   "source": [
    "#analytical calculation\n",
    "import numpy as np\n",
    "def grad(x):\n",
    "    a=-x\n",
    "    b=np.exp(a)\n",
    "    c=1+b\n",
    "    s=1/c\n",
    "    \n",
    "    dsdc=-1*(1/c**2)\n",
    "    dsdb=dsdc*1\n",
    "    dsda=dsdb*np.exp(a)\n",
    "    dsdx=-1 * dsda\n",
    "    return dsdx\n",
    "#using torch\n",
    "def sigmoid(x):\n",
    "    y=1.0/(1.0+torch.exp(-x))\n",
    "    return y    \n",
    "inputX=2.0\n",
    "x=torch.tensor(inputX,requires_grad=True)\n",
    "y=sigmoid(x)\n",
    "y.backward()\n",
    "\n",
    "print(f'ds/dx(x={inputX}) using torch: {x.grad}')\n",
    "print(f'ds/dx(x={inputX}) using analytical function: {grad(inputX)}')"
   ]
  },
  {
   "cell_type": "markdown",
   "id": "3794376a-0d9d-4112-891e-1a76e0af70b5",
   "metadata": {},
   "source": [
    "---------------------------------------------------------------------------------------------------"
   ]
  },
  {
   "cell_type": "markdown",
   "id": "ae2d5983-f0bf-4374-8253-e6ed5d24fc33",
   "metadata": {},
   "source": [
    "QUESTION 1"
   ]
  },
  {
   "cell_type": "code",
   "execution_count": 39,
   "id": "4637ccd4-49e5-4492-811b-1916f18f1b26",
   "metadata": {},
   "outputs": [
    {
     "name": "stdout",
     "output_type": "stream",
     "text": [
      "dz/da(a=1.0) using torch: 34.0\n",
      "dz/da(a=1.0) using analytical function: 34.0\n"
     ]
    }
   ],
   "source": [
    "import torch\n",
    "def grad(a,b):\n",
    "    #intermediate variables\n",
    "    x1=2*a\n",
    "    x2=3*b\n",
    "    x=x1+x2\n",
    "    c=2*x\n",
    "    y1=a*a\n",
    "    y4=3*b\n",
    "    y3=b*b\n",
    "    y2=5*y1\n",
    "    y5=y4*y3\n",
    "    y=y2+y5\n",
    "    d=3*y\n",
    "    z=c+d\n",
    "    #calculating gradient\n",
    "    dzdc=1\n",
    "    dcdx=2\n",
    "    dxdx1=1\n",
    "    dx1da=2\n",
    "    dzdd=1\n",
    "    dddy=3\n",
    "    dydy2=1\n",
    "    dy2dy1=5\n",
    "    dy1da=2*a\n",
    "    dzda=(dzdc*dcdx*dxdx1*dx1da)+(dzdd*dddy*dydy2*dy2dy1*dy1da)\n",
    "    return dzda\n",
    "\n",
    "ipA=1.0\n",
    "ipB=2.0\n",
    "a=torch.tensor(ipA,requires_grad=True)\n",
    "b=torch.tensor(ipB,requires_grad=True)\n",
    "x1=2*a\n",
    "x2=3*b\n",
    "x=x1+x2\n",
    "c=2*x\n",
    "y1=a*a\n",
    "y4=3*b\n",
    "y3=b*b\n",
    "y2=5*y1\n",
    "y5=y4*y3\n",
    "y=y2+y5\n",
    "d=3*y\n",
    "z=c+d\n",
    "z.backward()\n",
    "print(f'dz/da(a={ipA}) using torch: {a.grad}')\n",
    "print(f'dz/da(a={ipA}) using analytical function: {grad(ipA,ipB)}')"
   ]
  },
  {
   "cell_type": "markdown",
   "id": "0a56c04e-95d1-492e-ae23-e9804b90d10f",
   "metadata": {},
   "source": [
    "QUESTION 2"
   ]
  },
  {
   "cell_type": "code",
   "execution_count": null,
   "id": "eeb82ed8-4fab-4980-8929-e5aef4a081e7",
   "metadata": {},
   "outputs": [],
   "source": []
  }
 ],
 "metadata": {
  "kernelspec": {
   "display_name": "Python 3 (ipykernel)",
   "language": "python",
   "name": "python3"
  },
  "language_info": {
   "codemirror_mode": {
    "name": "ipython",
    "version": 3
   },
   "file_extension": ".py",
   "mimetype": "text/x-python",
   "name": "python",
   "nbconvert_exporter": "python",
   "pygments_lexer": "ipython3",
   "version": "3.11.7"
  }
 },
 "nbformat": 4,
 "nbformat_minor": 5
}
