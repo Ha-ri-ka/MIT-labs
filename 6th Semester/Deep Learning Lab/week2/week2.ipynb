{
 "cells": [
  {
   "cell_type": "markdown",
   "id": "7fbb2716-1813-4bff-b9ac-12a173afa251",
   "metadata": {},
   "source": [
    "EXAMPLE QUESTIONS"
   ]
  },
  {
   "cell_type": "code",
   "execution_count": 34,
   "id": "49ef8e87-7670-41d9-85e9-03fe9a50ee3e",
   "metadata": {},
   "outputs": [],
   "source": [
    "import torch"
   ]
  },
  {
   "cell_type": "code",
   "execution_count": 35,
   "id": "0b8d5c99-91d1-454d-b9c0-6ff23058d0d5",
   "metadata": {},
   "outputs": [
    {
     "data": {
      "text/plain": [
       "tensor([0.8374, 0.8251, 0.5206], requires_grad=True)"
      ]
     },
     "execution_count": 35,
     "metadata": {},
     "output_type": "execute_result"
    }
   ],
   "source": [
    "x=torch.rand(3,requires_grad=True)\n",
    "x"
   ]
  },
  {
   "cell_type": "markdown",
   "id": "e9896bf8-0183-4edc-a4aa-4e73bbe6c0d7",
   "metadata": {},
   "source": [
    "EXAMPLE 1"
   ]
  },
  {
   "cell_type": "code",
   "execution_count": 36,
   "id": "376d2f3d-0e12-41b2-a3ad-b89d0899cd1d",
   "metadata": {},
   "outputs": [
    {
     "name": "stdout",
     "output_type": "stream",
     "text": [
      "x=3.5\n",
      "y=12.25\n",
      "z=27.5\n",
      "gradient dz/dx(x=3.5) is 14.0\n"
     ]
    }
   ],
   "source": [
    "x=torch.tensor(3.5,requires_grad=True)\n",
    "y=x*x\n",
    "z=2*y+3\n",
    "print(f'x={x}\\ny={y}\\nz={z}')\n",
    "z.backward()\n",
    "print(f'gradient dz/dx(x=3.5) is {x.grad}')"
   ]
  },
  {
   "cell_type": "markdown",
   "id": "16090684-20e2-46ec-a426-43a34b28696c",
   "metadata": {},
   "source": [
    "EXAMPLE 2"
   ]
  },
  {
   "cell_type": "code",
   "execution_count": 37,
   "id": "2a74c473-e79d-403e-971b-c5888b72da88",
   "metadata": {},
   "outputs": [
    {
     "name": "stdout",
     "output_type": "stream",
     "text": [
      "df/dx(x=1) using torch: tensor([-2.])\n",
      "df/dx(x=1) using analytical function: tensor([-2.], grad_fn=<MulBackward0>)\n"
     ]
    }
   ],
   "source": [
    "def f(x):\n",
    "    return (x-2)**2\n",
    "def df(x):\n",
    "    return 2*(x-2)\n",
    "\n",
    "x=torch.tensor([1.0],requires_grad=True)\n",
    "y=f(x)\n",
    "y.backward()\n",
    "print(f'df/dx(x=1) using torch: {x.grad}')\n",
    "print(f'df/dx(x=1) using analytical function: {df(x)}')"
   ]
  },
  {
   "cell_type": "markdown",
   "id": "cc83a47a-6754-4382-aa78-c9001fd5dda3",
   "metadata": {},
   "source": [
    "EXAMPLE 3"
   ]
  },
  {
   "cell_type": "code",
   "execution_count": 38,
   "id": "1755fb82-53ec-436e-b9d7-12918c4063a3",
   "metadata": {},
   "outputs": [
    {
     "name": "stdout",
     "output_type": "stream",
     "text": [
      "dy/dx(x=2) using torch: tensor([4.])\n",
      "dy/dx(x=2) using analytical function: tensor([4.])\n"
     ]
    }
   ],
   "source": [
    "x=torch.tensor([2.0],requires_grad=True)\n",
    "y=x**2+5\n",
    "#evaluating dy/dx using torch\n",
    "y.backward()\n",
    "print(f'dy/dx(x=2) using torch: {x.grad}')\n",
    "#evaluating dy/dx without torch\n",
    "with torch.no_grad():    \n",
    "    dy=2*x\n",
    "print(f'dy/dx(x=2) using analytical function: {dy}')"
   ]
  },
  {
   "cell_type": "markdown",
   "id": "02aff965-6ffa-40b2-8d6e-aad937752abd",
   "metadata": {},
   "source": [
    "EXAMPLE 4"
   ]
  },
  {
   "cell_type": "code",
   "execution_count": 39,
   "id": "52e650bc-4d36-438c-9322-abb77ec54a9d",
   "metadata": {},
   "outputs": [
    {
     "name": "stdout",
     "output_type": "stream",
     "text": [
      "ds/dx(x=2.0) using torch: 0.10499356687068939\n",
      "ds/dx(x=2.0) using analytical function: 0.1049935854035065\n"
     ]
    }
   ],
   "source": [
    "#analytical calculation\n",
    "import numpy as np\n",
    "def grad(x):\n",
    "    a=-x\n",
    "    b=np.exp(a)\n",
    "    c=1+b\n",
    "    s=1/c\n",
    "    \n",
    "    dsdc=-1*(1/c**2)\n",
    "    dsdb=dsdc*1\n",
    "    dsda=dsdb*np.exp(a)\n",
    "    dsdx=-1 * dsda\n",
    "    return dsdx\n",
    "#using torch\n",
    "def sigmoid(x):\n",
    "    y=1.0/(1.0+torch.exp(-x))\n",
    "    return y    \n",
    "inputX=2.0\n",
    "x=torch.tensor(inputX,requires_grad=True)\n",
    "y=sigmoid(x)\n",
    "y.backward()\n",
    "\n",
    "print(f'ds/dx(x={inputX}) using torch: {x.grad}')\n",
    "print(f'ds/dx(x={inputX}) using analytical function: {grad(inputX)}')"
   ]
  },
  {
   "cell_type": "markdown",
   "id": "3794376a-0d9d-4112-891e-1a76e0af70b5",
   "metadata": {},
   "source": [
    "---------------------------------------------------------------------------------------------------"
   ]
  },
  {
   "cell_type": "markdown",
   "id": "ae2d5983-f0bf-4374-8253-e6ed5d24fc33",
   "metadata": {},
   "source": [
    "QUESTION 1"
   ]
  },
  {
   "cell_type": "code",
   "execution_count": 40,
   "id": "4637ccd4-49e5-4492-811b-1916f18f1b26",
   "metadata": {},
   "outputs": [
    {
     "name": "stdout",
     "output_type": "stream",
     "text": [
      "dz/da(a=1.0) using torch: 34.0\n",
      "dz/da(a=1.0) using analytical function: 34.0\n"
     ]
    }
   ],
   "source": [
    "import torch\n",
    "def grad(a,b):\n",
    "    #intermediate variables\n",
    "    x1=2*a\n",
    "    x2=3*b\n",
    "    x=x1+x2\n",
    "    c=2*x\n",
    "    y1=a*a\n",
    "    y4=3*b\n",
    "    y3=b*b\n",
    "    y2=5*y1\n",
    "    y5=y4*y3\n",
    "    y=y2+y5\n",
    "    d=3*y\n",
    "    z=c+d\n",
    "    #calculating gradient\n",
    "    dzdc=1\n",
    "    dcdx=2\n",
    "    dxdx1=1\n",
    "    dx1da=2\n",
    "    dzdd=1\n",
    "    dddy=3\n",
    "    dydy2=1\n",
    "    dy2dy1=5\n",
    "    dy1da=2*a\n",
    "    dzda=(dzdc*dcdx*dxdx1*dx1da)+(dzdd*dddy*dydy2*dy2dy1*dy1da)\n",
    "    return dzda\n",
    "\n",
    "ipA=1.0\n",
    "ipB=2.0\n",
    "a=torch.tensor(ipA,requires_grad=True)\n",
    "b=torch.tensor(ipB,requires_grad=True)\n",
    "x1=2*a\n",
    "x2=3*b\n",
    "x=x1+x2\n",
    "c=2*x\n",
    "y1=a*a\n",
    "y4=3*b\n",
    "y3=b*b\n",
    "y2=5*y1\n",
    "y5=y4*y3\n",
    "y=y2+y5\n",
    "d=3*y\n",
    "z=c+d\n",
    "z.backward()\n",
    "print(f'dz/da(a={ipA}) using torch: {a.grad}')\n",
    "print(f'dz/da(a={ipA}) using analytical function: {grad(ipA,ipB)}')"
   ]
  },
  {
   "cell_type": "markdown",
   "id": "0a56c04e-95d1-492e-ae23-e9804b90d10f",
   "metadata": {},
   "source": [
    "QUESTION 2"
   ]
  },
  {
   "cell_type": "code",
   "execution_count": 41,
   "id": "eeb82ed8-4fab-4980-8929-e5aef4a081e7",
   "metadata": {},
   "outputs": [
    {
     "name": "stdout",
     "output_type": "stream",
     "text": [
      "da/dw(w=3.0) using torch: 1.0\n",
      "da/dw(w=3.0) using analytical function: 1.0\n"
     ]
    }
   ],
   "source": [
    "import torch\n",
    "#analytical solution\n",
    "def getGrad(w,x,b):\n",
    "    u=w*x\n",
    "    v=u+b\n",
    "    if(v>0): a=v\n",
    "    else: a=0\n",
    "    if(a==0): return 0\n",
    "    dadv= 1\n",
    "    dvdu=1\n",
    "    dudw=x\n",
    "    dadw=dadv*dvdu*dudw\n",
    "    return dadw\n",
    "#using torch\n",
    "inputX=1.0\n",
    "inputB=2.0\n",
    "inputW=3.0\n",
    "x=torch.tensor(inputX,requires_grad=True)\n",
    "b=torch.tensor(inputB,requires_grad=True)\n",
    "w=torch.tensor(inputW,requires_grad=True)\n",
    "u=w*x\n",
    "v=u+b\n",
    "if(v>0): a=v\n",
    "else: a=0\n",
    "a.backward()\n",
    "print(f'da/dw(w={inputW}) using torch: {w.grad}')\n",
    "print(f'da/dw(w={inputW}) using analytical function: {getGrad(inputW,inputX,inputB)}')"
   ]
  },
  {
   "cell_type": "markdown",
   "id": "b8cc7f19",
   "metadata": {},
   "source": [
    "QUESTION 3"
   ]
  },
  {
   "cell_type": "code",
   "execution_count": 42,
   "id": "fe017f6c",
   "metadata": {},
   "outputs": [
    {
     "name": "stdout",
     "output_type": "stream",
     "text": [
      "using torch: da/dw(w=1.0)=0.012332547456026077\n",
      "using analytical function: da/dw(w=1.0)  0.012332546456800243\n"
     ]
    }
   ],
   "source": [
    "import torch\n",
    "import numpy as np\n",
    "#analytical solution\n",
    "import numpy as np\n",
    "def diffSigmoid(v):\n",
    "    a=-v\n",
    "    b=np.exp(a)\n",
    "    c=1+b\n",
    "    s=1/c\n",
    "    #to find ds/dv\n",
    "    dsdc=-1/(c**2)\n",
    "    dsdb=dsdc*1\n",
    "    dsda=dsdb*np.exp(a)\n",
    "    dsdv=dsda*(-1)\n",
    "    return dsdv\n",
    "def compGrad(w,x,b):\n",
    "    u=w*x\n",
    "    v=u+b\n",
    "    a=1/(1+np.exp(-v))\n",
    "    if(a==0): return 0\n",
    "    dadv=diffSigmoid(v)\n",
    "    dadu=dadv*1\n",
    "    dadw=dadu*x\n",
    "    return dadw\n",
    "#using torch\n",
    "inputX=5.0\n",
    "inputB=1.0\n",
    "inputW=1.0\n",
    "x=torch.tensor(inputX,requires_grad=True)\n",
    "b=torch.tensor(inputB,requires_grad=True)\n",
    "w=torch.tensor(inputW,requires_grad=True)\n",
    "u=w*x\n",
    "v=u+b\n",
    "a=1/(1+torch.exp(-1*v))\n",
    "a.backward()\n",
    "print(f'using torch: da/dw(w={inputW})={w.grad}')\n",
    "print(f'using analytical function: da/dw(w={inputW})  {compGrad(inputW,inputX,inputB)}')"
   ]
  },
  {
   "cell_type": "markdown",
   "id": "2b09c546",
   "metadata": {},
   "source": [
    "QUESTION 4"
   ]
  },
  {
   "cell_type": "code",
   "execution_count": 43,
   "id": "05550180",
   "metadata": {},
   "outputs": [
    {
     "name": "stdout",
     "output_type": "stream",
     "text": [
      "using analytical func: df/dx(x=5.0)=-2.0205821812141855e-14\n",
      "using torch: df/dx(x=5.0)=tensor([-2.0206e-14])\n"
     ]
    }
   ],
   "source": [
    "import torch\n",
    "import numpy as np\n",
    "def f(x):\n",
    "    return np.exp(-(x**2)-(2*x)-(np.sin(x)))\n",
    "def df(x):\n",
    "    return -1*f(x)*(np.cos(x)+(2*x)+2)\n",
    "def torchf(x):\n",
    "    return torch.exp(-(x**2)-(2*x)-(torch.sin(x)))\n",
    "ipx=5.0\n",
    "x=torch.tensor([ipx],requires_grad=True)\n",
    "func=f(ipx)\n",
    "Torchfunc=torchf(x)\n",
    "Torchfunc.backward()\n",
    "print(f'using analytical func: df/dx(x={ipx})={df(ipx)}')\n",
    "print(f'using torch: df/dx(x={ipx})={x.grad}')"
   ]
  },
  {
   "cell_type": "markdown",
   "id": "e7fd266a",
   "metadata": {},
   "source": [
    "QUESTION 5"
   ]
  },
  {
   "cell_type": "code",
   "execution_count": 44,
   "id": "e19c2164",
   "metadata": {},
   "outputs": [
    {
     "name": "stdout",
     "output_type": "stream",
     "text": [
      "df/dx(x=2.0) using torch: 326.0\n",
      "df/dx(x=2.0) using analytical function: 326.0\n"
     ]
    }
   ],
   "source": [
    "import torch\n",
    "import numpy as np\n",
    "def f(x):\n",
    "    return 8*x**4+3*x**3+7*x**2+6*x+3\n",
    "def computeGrad(x):\n",
    "    grad=32*x**3+9*x**2+14*x+6\n",
    "    return grad\n",
    "\n",
    "inputX=2.0\n",
    "x=torch.tensor(inputX,requires_grad=True)\n",
    "y=f(x)\n",
    "y.backward()\n",
    "print(f'df/dx(x={inputX}) using torch: {x.grad}')\n",
    "print(f'df/dx(x={inputX}) using analytical function: {computeGrad(inputX)}')"
   ]
  },
  {
   "cell_type": "markdown",
   "id": "e1d0e840",
   "metadata": {},
   "source": [
    "QUESTION 6"
   ]
  },
  {
   "cell_type": "code",
   "execution_count": 45,
   "id": "f57431de",
   "metadata": {},
   "outputs": [
    {
     "name": "stdout",
     "output_type": "stream",
     "text": [
      "usinf analytical function:\n",
      "df/dx=0.0581308218679247  df/dy=0.02660400976902784  df/dz=0.019376940622641566\n",
      "using torch:\n",
      "df/dx=tensor([0.0581])  df/dy=tensor([0.0266])  df/dz=tensor([0.0194])\n"
     ]
    }
   ],
   "source": [
    "import torch\n",
    "import numpy as np\n",
    "def f(x,y,z):\n",
    "    a=2*x\n",
    "    b=np.sin(y)\n",
    "    c=a/b\n",
    "    d=c*z\n",
    "    e=np.log(d+1)\n",
    "    f=np.tanh(e)\n",
    "\n",
    "    dfde=1-f**2\n",
    "    dfdd=dfde*(1/(d+1))\n",
    "    dfdz=dfdd*c#\n",
    "    dfdc=dfdd*z\n",
    "    dfdb=dfdc*(-a/b**2)\n",
    "    dfdy=dfdb*np.cos(y)#\n",
    "    dfda=dfdc*(1/b)\n",
    "    dfdx=dfda*2#\n",
    "    return dfdx,dfdy,dfdz\n",
    "def TorchFunc(x,y,z):\n",
    "    return torch.tanh(torch.log(1+(z*((2*x)/torch.sin(y)))))\n",
    "ipx=1.0\n",
    "ipy=2.0\n",
    "ipz=3.0\n",
    "x=torch.tensor([ipx],requires_grad=True)\n",
    "y=torch.tensor([ipy],requires_grad=True)\n",
    "z=torch.tensor([ipz],requires_grad=True)\n",
    "func=TorchFunc(x,y,z)\n",
    "func.backward()\n",
    "df=f(ipx,ipy,ipz)\n",
    "print(\"usinf analytical function:\")\n",
    "print(f'df/dx={df[0]}  df/dy={df[1]}  df/dz={df[2]}')\n",
    "print(\"using torch:\")\n",
    "print(f'df/dx={x.grad}  df/dy={y.grad}  df/dz={z.grad}')"
   ]
  }
 ],
 "metadata": {
  "kernelspec": {
   "display_name": "Python 3 (ipykernel)",
   "language": "python",
   "name": "python3"
  },
  "language_info": {
   "codemirror_mode": {
    "name": "ipython",
    "version": 3
   },
   "file_extension": ".py",
   "mimetype": "text/x-python",
   "name": "python",
   "nbconvert_exporter": "python",
   "pygments_lexer": "ipython3",
   "version": "3.10.5"
  }
 },
 "nbformat": 4,
 "nbformat_minor": 5
}
