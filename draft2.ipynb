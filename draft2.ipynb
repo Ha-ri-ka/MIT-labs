{
  "nbformat": 4,
  "nbformat_minor": 0,
  "metadata": {
    "colab": {
      "provenance": [],
      "authorship_tag": "ABX9TyOJ+f5EKAZp4/+2Mvuf22Xk",
      "include_colab_link": true
    },
    "kernelspec": {
      "name": "python3",
      "display_name": "Python 3"
    },
    "language_info": {
      "name": "python"
    }
  },
  "cells": [
    {
      "cell_type": "markdown",
      "metadata": {
        "id": "view-in-github",
        "colab_type": "text"
      },
      "source": [
        "<a href=\"https://colab.research.google.com/github/Ha-ri-ka/MIT-labs-ai-ml/blob/main/draft2.ipynb\" target=\"_parent\"><img src=\"https://colab.research.google.com/assets/colab-badge.svg\" alt=\"Open In Colab\"/></a>"
      ]
    },
    {
      "cell_type": "code",
      "execution_count": null,
      "metadata": {
        "id": "c09B-amhgydj"
      },
      "outputs": [],
      "source": [
        "!apt-get update # Update apt-get repository.\n",
        "!apt-get install openjdk-8-jdk-headless -qq > /dev/null # Install Java.\n",
        "!wget -q http://archive.apache.org/dist/spark/spark-3.1.1/spark-3.1.1-bin-hadoop3.2.tgz # Download Apache Sparks.\n",
        "!tar xf spark-3.1.1-bin-hadoop3.2.tgz # Unzip the tgz file.\n",
        "!pip install -q findspark # Install findspark. Adds PySpark to the System path during runtime.\n",
        "\n",
        "# Set environment variables\n",
        "import os\n",
        "os.environ[\"JAVA_HOME\"] = \"/usr/lib/jvm/java-8-openjdk-amd64\"\n",
        "os.environ[\"SPARK_HOME\"] = \"/content/spark-3.1.1-bin-hadoop3.2\"\n",
        "\n",
        "!ls\n",
        "\n",
        "# Initialize findspark\n",
        "import findspark\n",
        "findspark.init()\n",
        "\n",
        "# Create a PySpark session\n",
        "from pyspark.sql import SparkSession\n",
        "spark = SparkSession.builder.master(\"local[*]\").getOrCreate()\n",
        "spark"
      ]
    },
    {
      "cell_type": "code",
      "source": [
        "test_path=\"/content/test.csv\"\n",
        "train_path=\"/content/train.csv\""
      ],
      "metadata": {
        "id": "RBvx0FnEhv4r"
      },
      "execution_count": 92,
      "outputs": []
    },
    {
      "cell_type": "code",
      "source": [
        "data=spark.read.option(\"header\", True).csv(train_path)\n",
        "test_data=spark.read.option(\"header\", True).csv(test_path)"
      ],
      "metadata": {
        "id": "jZSDA9xxhv1R"
      },
      "execution_count": 93,
      "outputs": []
    },
    {
      "cell_type": "code",
      "source": [
        "test_data = test_data.withColumnRenamed(\"text\", 'selected_text')"
      ],
      "metadata": {
        "id": "ZhW-b1lymq86"
      },
      "execution_count": 94,
      "outputs": []
    },
    {
      "cell_type": "code",
      "source": [
        "data.printSchema()"
      ],
      "metadata": {
        "colab": {
          "base_uri": "https://localhost:8080/"
        },
        "id": "8r5moByXhvyv",
        "outputId": "f591b4be-9eb4-4481-c4c0-7cde647ba241"
      },
      "execution_count": 95,
      "outputs": [
        {
          "output_type": "stream",
          "name": "stdout",
          "text": [
            "root\n",
            " |-- textID: string (nullable = true)\n",
            " |-- text: string (nullable = true)\n",
            " |-- selected_text: string (nullable = true)\n",
            " |-- sentiment: string (nullable = true)\n",
            " |-- Time of Tweet: string (nullable = true)\n",
            " |-- Age of User: string (nullable = true)\n",
            " |-- Country: string (nullable = true)\n",
            " |-- Population -2020: string (nullable = true)\n",
            " |-- Land Area (Km�): string (nullable = true)\n",
            " |-- Density (P/Km�): string (nullable = true)\n",
            "\n"
          ]
        }
      ]
    },
    {
      "cell_type": "code",
      "source": [
        "test_data.printSchema()"
      ],
      "metadata": {
        "colab": {
          "base_uri": "https://localhost:8080/"
        },
        "id": "NDqXt-qHlhOl",
        "outputId": "f87792a5-aa47-46a1-a757-516f858c6f44"
      },
      "execution_count": 96,
      "outputs": [
        {
          "output_type": "stream",
          "name": "stdout",
          "text": [
            "root\n",
            " |-- textID: string (nullable = true)\n",
            " |-- selected_text: string (nullable = true)\n",
            " |-- sentiment: string (nullable = true)\n",
            " |-- Time of Tweet: string (nullable = true)\n",
            " |-- Age of User: string (nullable = true)\n",
            " |-- Country: string (nullable = true)\n",
            " |-- Population -2020: string (nullable = true)\n",
            " |-- Land Area (Km�): string (nullable = true)\n",
            " |-- Density (P/Km�): string (nullable = true)\n",
            "\n"
          ]
        }
      ]
    },
    {
      "cell_type": "code",
      "source": [
        "data=data.select([\"selected_text\",\"sentiment\"])"
      ],
      "metadata": {
        "id": "jGFO_rTshvtK"
      },
      "execution_count": 97,
      "outputs": []
    },
    {
      "cell_type": "code",
      "source": [
        "from pyspark.sql.functions import when, col\n",
        "data = data.withColumn(\"sentiment\",when(col(\"sentiment\") == \"positive\", 1).when(col(\"sentiment\") == \"negative\", -1).otherwise(0).cast(\"int\"))"
      ],
      "metadata": {
        "id": "BFCGtgf7s8BS"
      },
      "execution_count": 98,
      "outputs": []
    },
    {
      "cell_type": "code",
      "source": [
        "test_data=test_data.select([\"selected_text\",\"sentiment\"])"
      ],
      "metadata": {
        "id": "FUeytGiZk8sz"
      },
      "execution_count": 99,
      "outputs": []
    },
    {
      "cell_type": "code",
      "source": [
        "test_data = test_data.withColumn(\"sentiment\",when(col(\"sentiment\") == \"positive\", 1).when(col(\"sentiment\") == \"negative\", -1).otherwise(0).cast(\"int\"))"
      ],
      "metadata": {
        "id": "Nev98G_Ks-op"
      },
      "execution_count": 100,
      "outputs": []
    },
    {
      "cell_type": "code",
      "source": [
        "data.show()\n",
        "data.count()"
      ],
      "metadata": {
        "colab": {
          "base_uri": "https://localhost:8080/"
        },
        "id": "eePSZdVZhvqg",
        "outputId": "ed422ba5-eb38-4d7a-be94-4a5c341056a0"
      },
      "execution_count": 101,
      "outputs": [
        {
          "output_type": "stream",
          "name": "stdout",
          "text": [
            "+--------------------+---------+\n",
            "|       selected_text|sentiment|\n",
            "+--------------------+---------+\n",
            "|I`d have responde...|        0|\n",
            "|            Sooo SAD|       -1|\n",
            "|         bullying me|       -1|\n",
            "|      leave me alone|       -1|\n",
            "|       Sons of ****,|       -1|\n",
            "|http://www.dotheb...|        0|\n",
            "|                 fun|        1|\n",
            "|          Soooo high|        0|\n",
            "|         Both of you|        0|\n",
            "|Wow... u just bec...|        1|\n",
            "|as much as i love...|        0|\n",
            "|                like|        1|\n",
            "|         DANGERously|       -1|\n",
            "|                lost|       -1|\n",
            "|test test from th...|        0|\n",
            "|Uh oh, I am sunbu...|       -1|\n",
            "|              *sigh*|       -1|\n",
            "|                sick|       -1|\n",
            "|                onna|       -1|\n",
            "|Hes just not that...|        0|\n",
            "+--------------------+---------+\n",
            "only showing top 20 rows\n",
            "\n"
          ]
        },
        {
          "output_type": "execute_result",
          "data": {
            "text/plain": [
              "27481"
            ]
          },
          "metadata": {},
          "execution_count": 101
        }
      ]
    },
    {
      "cell_type": "code",
      "source": [
        "data=data.na.drop()\n",
        "data.count()"
      ],
      "metadata": {
        "colab": {
          "base_uri": "https://localhost:8080/"
        },
        "id": "EtD0B1HKhvn2",
        "outputId": "6cbdfeea-dcff-4341-a9da-2d08b23bb33c"
      },
      "execution_count": 102,
      "outputs": [
        {
          "output_type": "execute_result",
          "data": {
            "text/plain": [
              "27478"
            ]
          },
          "metadata": {},
          "execution_count": 102
        }
      ]
    },
    {
      "cell_type": "code",
      "source": [
        "test_data.show()\n",
        "test_data.count()"
      ],
      "metadata": {
        "colab": {
          "base_uri": "https://localhost:8080/"
        },
        "id": "ESSiqY_ghvlG",
        "outputId": "21a70b4c-1840-4d79-c2c0-81a0861c080f"
      },
      "execution_count": 103,
      "outputs": [
        {
          "output_type": "stream",
          "name": "stdout",
          "text": [
            "+--------------------+---------+\n",
            "|       selected_text|sentiment|\n",
            "+--------------------+---------+\n",
            "|Last session of t...|        0|\n",
            "| Shanghai is also...|        1|\n",
            "|Recession hit Ver...|       -1|\n",
            "|         happy bday!|        1|\n",
            "| http://twitpic.c...|        1|\n",
            "| that`s great!! w...|        1|\n",
            "|I THINK EVERYONE ...|       -1|\n",
            "| soooooo wish i c...|       -1|\n",
            "| and within a sho...|        0|\n",
            "| What did you get...|        0|\n",
            "|My bike was put o...|       -1|\n",
            "| I checked.  We d...|        0|\n",
            "| .. and you`re on...|        0|\n",
            "|I`m in VA for the...|       -1|\n",
            "|Its coming out th...|       -1|\n",
            "|So hot today =_= ...|       -1|\n",
            "|            Miss you|       -1|\n",
            "|        Cramps . . .|       -1|\n",
            "| you guys didn`t ...|        1|\n",
            "|I`m going into a ...|        0|\n",
            "+--------------------+---------+\n",
            "only showing top 20 rows\n",
            "\n"
          ]
        },
        {
          "output_type": "execute_result",
          "data": {
            "text/plain": [
              "4815"
            ]
          },
          "metadata": {},
          "execution_count": 103
        }
      ]
    },
    {
      "cell_type": "code",
      "source": [
        "test_data=test_data.na.drop()\n",
        "test_data.count()"
      ],
      "metadata": {
        "colab": {
          "base_uri": "https://localhost:8080/"
        },
        "id": "QmozAMwdlUXF",
        "outputId": "28e3ca8f-53ad-4bcd-d557-17f8e77f281a"
      },
      "execution_count": 104,
      "outputs": [
        {
          "output_type": "execute_result",
          "data": {
            "text/plain": [
              "3534"
            ]
          },
          "metadata": {},
          "execution_count": 104
        }
      ]
    },
    {
      "cell_type": "markdown",
      "source": [
        "### NLP + ML"
      ],
      "metadata": {
        "id": "QZ0w0rKEi8Fq"
      }
    },
    {
      "cell_type": "code",
      "source": [
        "from pyspark.ml.feature import Tokenizer, StopWordsRemover, HashingTF, IDF, StringIndexer\n",
        "from pyspark.ml.pipeline import Pipeline\n",
        "from pyspark.ml.classification import LogisticRegression\n",
        "from pyspark.ml.evaluation import MulticlassClassificationEvaluator"
      ],
      "metadata": {
        "id": "D5ZEVRFohvic"
      },
      "execution_count": 105,
      "outputs": []
    },
    {
      "cell_type": "code",
      "source": [
        "# Tokenize text data\n",
        "tokenizer = Tokenizer(inputCol=\"selected_text\", outputCol=\"words\")\n",
        "# Remove stopwords\n",
        "stopwords_remover = StopWordsRemover(inputCol=tokenizer.getOutputCol(), outputCol=\"filtered_words\")\n",
        "# Convert sentiment labels into numerical labels\n",
        "indexer = StringIndexer(inputCol=\"sentiment\", outputCol=\"label\", handleInvalid=\"skip\")"
      ],
      "metadata": {
        "id": "lqMUSu9Mhvfx"
      },
      "execution_count": 119,
      "outputs": []
    },
    {
      "cell_type": "markdown",
      "source": [
        "## hasingtf,idf,logistic regression"
      ],
      "metadata": {
        "id": "YUMKEXXPjEN7"
      }
    },
    {
      "cell_type": "code",
      "source": [
        "# Convert words to numerical features using HashingTF\n",
        "hashing_tf = HashingTF(inputCol=stopwords_remover.getOutputCol(), outputCol=\"rawFeatures\")\n",
        "# Compute IDF\n",
        "idf = IDF(inputCol=hashing_tf.getOutputCol(), outputCol=\"features\")\n",
        "# logistic regression\n",
        "lr = LogisticRegression(featuresCol=\"features\", labelCol=\"label\",maxIter=50)\n",
        "# Pipeline\n",
        "lr_pipeline = Pipeline(stages=[tokenizer, stopwords_remover, hashing_tf, idf, indexer, lr])"
      ],
      "metadata": {
        "id": "61Rkl1NCocT_"
      },
      "execution_count": 120,
      "outputs": []
    },
    {
      "cell_type": "code",
      "source": [
        "lr_model=lr_pipeline.fit(data)"
      ],
      "metadata": {
        "id": "v2K62nmXlyfL"
      },
      "execution_count": 108,
      "outputs": []
    },
    {
      "cell_type": "code",
      "source": [
        "lr_predictions = lr_model.transform(test_data)"
      ],
      "metadata": {
        "id": "mUT7XGrOhvdH"
      },
      "execution_count": 109,
      "outputs": []
    },
    {
      "cell_type": "code",
      "source": [
        "evaluator = MulticlassClassificationEvaluator(predictionCol=\"prediction\", labelCol=\"label\", metricName=\"accuracy\")\n",
        "accuracy = evaluator.evaluate(lr_predictions)\n",
        "print(\"Test Accuracy:\", accuracy*100,\"%\")"
      ],
      "metadata": {
        "colab": {
          "base_uri": "https://localhost:8080/"
        },
        "id": "yfyNeEkUhvag",
        "outputId": "35db43ec-12cc-4f46-9a4c-353d06ca0b23"
      },
      "execution_count": 110,
      "outputs": [
        {
          "output_type": "stream",
          "name": "stdout",
          "text": [
            "Test Accuracy: 54.41426146010186 %\n"
          ]
        }
      ]
    },
    {
      "cell_type": "markdown",
      "source": [
        "## count vectorizer, idf, logistic regression"
      ],
      "metadata": {
        "id": "oi4-qvJ2qsbI"
      }
    },
    {
      "cell_type": "code",
      "source": [
        "from pyspark.ml.feature import CountVectorizer\n",
        "cv=CountVectorizer(vocabSize=2**16,inputCol=tokenizer.getOutputCol(),outputCol=\"cved\")\n",
        "idf_2 = IDF(inputCol=cv.getOutputCol(), outputCol=\"features\")\n",
        "lr_2 = LogisticRegression(featuresCol=\"features\", labelCol=\"label\",maxIter=50)\n",
        "lr_pipeline_2 = Pipeline(stages=[tokenizer, stopwords_remover, cv, idf_2, indexer, lr_2])"
      ],
      "metadata": {
        "id": "SAFhHkX0qm7l"
      },
      "execution_count": 121,
      "outputs": []
    },
    {
      "cell_type": "code",
      "source": [
        "lr_model_2=lr_pipeline_2.fit(data)"
      ],
      "metadata": {
        "id": "_sRZz2Q6qpVY"
      },
      "execution_count": 116,
      "outputs": []
    },
    {
      "cell_type": "code",
      "source": [
        "lr_predictions_2 = lr_model_2.transform(test_data)"
      ],
      "metadata": {
        "id": "tiTLi50trfxD"
      },
      "execution_count": 117,
      "outputs": []
    },
    {
      "cell_type": "code",
      "source": [
        "evaluator = MulticlassClassificationEvaluator(predictionCol=\"prediction\", labelCol=\"label\", metricName=\"accuracy\")\n",
        "lr_accuracy_2= evaluator.evaluate(lr_predictions_2)\n",
        "print(\"Test Accuracy:\", accuracy*100,\"%\")"
      ],
      "metadata": {
        "colab": {
          "base_uri": "https://localhost:8080/"
        },
        "id": "G5BV0__Lrhsr",
        "outputId": "5109234d-d2bb-4dcc-b359-30d85ca7e526"
      },
      "execution_count": 122,
      "outputs": [
        {
          "output_type": "stream",
          "name": "stdout",
          "text": [
            "Test Accuracy: 54.41426146010186 %\n"
          ]
        }
      ]
    }
  ]
}