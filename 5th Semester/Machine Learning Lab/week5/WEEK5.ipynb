{
 "cells": [
  {
   "cell_type": "markdown",
   "id": "cb15cf32",
   "metadata": {},
   "source": [
    "# QUESTION 1"
   ]
  },
  {
   "cell_type": "markdown",
   "id": "9ab63479",
   "metadata": {},
   "source": [
    "Suppose you have a gold/silver price dataset with a single independent variable (X) \n",
    "and a dependent variable (Y). You want to fit a polynomial regression model to this data. Implement the process of selecting the appropriate degree for the polynomial (e.g., linear, quadratic, cubic) based on the dataset using Python.\n"
   ]
  },
  {
   "cell_type": "code",
   "execution_count": null,
   "id": "35cd373b",
   "metadata": {},
   "outputs": [],
   "source": [
    "import numpy as np\n",
    "from sklearn.linear_model import LinearRegression\n",
    "from sklearn.preprocessing import PolynomialFeatures\n",
    "import matplotlib.pyplot as plt\n",
    "import pandas as pd"
   ]
  },
  {
   "cell_type": "code",
   "execution_count": null,
   "id": "0673583f",
   "metadata": {},
   "outputs": [],
   "source": [
    "path=\"/home/AIML_Student/Desktop/2030B/week4/gold.csv\"\n",
    "data=pd.read_csv(path)\n",
    "data.head()"
   ]
  },
  {
   "cell_type": "code",
   "execution_count": null,
   "id": "7215cda1",
   "metadata": {},
   "outputs": [],
   "source": [
    "X= np.array(data['YEAR']).reshape(-1,1)\n",
    "Y=np.array(data['GOLD RATE']).reshape(-1,1)"
   ]
  },
  {
   "cell_type": "code",
   "execution_count": null,
   "id": "3ef32df0",
   "metadata": {},
   "outputs": [],
   "source": [
    "plt.scatter(X,Y)\n",
    "plt.xlabel('year')\n",
    "plt.ylabel('gold rate')\n",
    "plt.show()"
   ]
  },
  {
   "cell_type": "code",
   "execution_count": null,
   "id": "660b860e",
   "metadata": {},
   "outputs": [],
   "source": [
    "degree=3 #selected through trial and error\n",
    "poly_features=PolynomialFeatures(degree)\n",
    "X_poly = poly_features.fit_transform(X)\n",
    "model=LinearRegression()\n",
    "model.fit(X_poly,Y)"
   ]
  },
  {
   "cell_type": "code",
   "execution_count": null,
   "id": "10976b26",
   "metadata": {},
   "outputs": [],
   "source": [
    "Y_new=model.predict(X_poly)"
   ]
  },
  {
   "cell_type": "code",
   "execution_count": null,
   "id": "ad760e57",
   "metadata": {},
   "outputs": [],
   "source": [
    "plt.plot(X,Y_new,color='r')\n",
    "plt.scatter(X,Y)\n",
    "plt.xlabel('year')\n",
    "plt.ylabel('cost')\n",
    "plt.show()"
   ]
  },
  {
   "cell_type": "code",
   "execution_count": null,
   "id": "8f22d593",
   "metadata": {},
   "outputs": [],
   "source": []
  },
  {
   "cell_type": "code",
   "execution_count": null,
   "id": "40410e3f",
   "metadata": {},
   "outputs": [],
   "source": []
  }
 ],
 "metadata": {
  "kernelspec": {
   "display_name": "Python 3 (ipykernel)",
   "language": "python",
   "name": "python3"
  },
  "language_info": {
   "codemirror_mode": {
    "name": "ipython",
    "version": 3
   },
   "file_extension": ".py",
   "mimetype": "text/x-python",
   "name": "python",
   "nbconvert_exporter": "python",
   "pygments_lexer": "ipython3",
   "version": "3.10.12"
  }
 },
 "nbformat": 4,
 "nbformat_minor": 5
}
