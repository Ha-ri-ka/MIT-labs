{
 "cells": [
  {
   "cell_type": "code",
   "execution_count": 1,
   "id": "abd45f0e",
   "metadata": {},
   "outputs": [
    {
     "data": {
      "text/plain": [
       "array([1., 2.])"
      ]
     },
     "execution_count": 1,
     "metadata": {},
     "output_type": "execute_result"
    }
   ],
   "source": [
    "#solving matrix equations\n",
    "import numpy as np\n",
    "A=np.array([(2,1),(1,3)]) #matrix on LHS (co-efficient matrix)\n",
    "B=np.array([4,7]) #matrix on RHS\n",
    "X = np.linalg.inv(A).dot(B) #solve for variables by obtaining dot prouduct of RHS and inverse of coeff matrix\n",
    "X"
   ]
  },
  {
   "cell_type": "code",
   "execution_count": 2,
   "id": "cc8b7a98",
   "metadata": {},
   "outputs": [],
   "source": [
    "#In this example, if your original X had two features, the resulting X_poly will contain the original features along with their squared terms and \n",
    "#interaction terms, up to the specified degree."
   ]
  },
  {
   "cell_type": "code",
   "execution_count": 3,
   "id": "9a529e47",
   "metadata": {},
   "outputs": [],
   "source": [
    "import numpy as np\n",
    "from sklearn.linear_model import LinearRegression\n",
    "from sklearn.preprocessing import PolynomialFeatures\n",
    "import matplotlib.pyplot as plt"
   ]
  },
  {
   "cell_type": "code",
   "execution_count": 4,
   "id": "5217ac58",
   "metadata": {},
   "outputs": [],
   "source": [
    "np.random.seed(0) # every time you run the code, you'll get the same sequence of random numbers. \n",
    "X = 2 * np.random.rand(100, 1)\n",
    "Y = 4 + 3 * X + np.random.randn(100, 1)\n",
    "#This code generates synthetic sample data for demonstration purposes. \n",
    "#It creates 100 random X values between 0 and 2 and \n",
    "#corresponding Y values using a linear equation with some added random noise."
   ]
  },
  {
   "cell_type": "code",
   "execution_count": 5,
   "id": "74fd5740",
   "metadata": {},
   "outputs": [
    {
     "data": {
      "text/plain": [
       "LinearRegression()"
      ]
     },
     "execution_count": 5,
     "metadata": {},
     "output_type": "execute_result"
    }
   ],
   "source": [
    "degree = 2\n",
    "poly_features = PolynomialFeatures(degree=degree)\n",
    "#creating an instance of the PolynomialFeatures class from \n",
    "#scikit-learn (sklearn) and configuring it with a specified polynomial degree.\n",
    "X_poly = poly_features.fit_transform(X)\n",
    "#applying the polynomial feature transformation \n",
    "#to the original feature data X using the PolynomialFeatures instance poly_features\n",
    "model = LinearRegression()\n",
    "model.fit(X_poly, Y)\n",
    "#In this example, if your original X had two features, the resulting X_poly will contain the original features \n",
    "#along with their squared terms and interaction terms, up to the specified degree."
   ]
  },
  {
   "cell_type": "code",
   "execution_count": 6,
   "id": "c08e6388",
   "metadata": {},
   "outputs": [],
   "source": [
    "X_new = np.linspace(0, 2, 100).reshape(-1, 1)\n",
    "X_new_poly = poly_features.transform(X_new)\n",
    "Y_new = model.predict(X_new_poly)\n",
    "    #X_new: A set of new X values (equally spaced between 0 and 2) for which predictions will be made.\n",
    "    #X_new_poly: The polynomial features corresponding to the new X values.\n",
    "    #Y_new: The predicted Y values based on the polynomial regression model."
   ]
  },
  {
   "cell_type": "code",
   "execution_count": 7,
   "id": "b64a8ccf",
   "metadata": {},
   "outputs": [
    {
     "data": {
      "image/png": "[encoded data removed]",
      "text/plain": [
       "<Figure size 432x288 with 1 Axes>"
      ]
     },
     "metadata": {
      "needs_background": "light"
     },
     "output_type": "display_data"
    }
   ],
   "source": [
    "plt.scatter(X, Y, label='Original Data')\n",
    "plt.plot(X_new, Y_new, 'r-', label='Polynomial Regression')\n",
    "plt.xlabel('X')\n",
    "plt.ylabel('Y')\n",
    "plt.legend()\n",
    "plt.show()"
   ]
  },
  {
   "cell_type": "code",
   "execution_count": 8,
   "id": "13ac7c2c",
   "metadata": {},
   "outputs": [
    {
     "name": "stdout",
     "output_type": "stream",
     "text": [
      "Coefficients:\n",
      "[[ 0.          3.84100842 -0.45190593]]\n",
      "Intercept:\n",
      "[3.95139826]\n"
     ]
    }
   ],
   "source": [
    "coefficients = model.coef_\n",
    "intercept = model.intercept_\n",
    "print(\"Coefficients:\")\n",
    "print(coefficients)\n",
    "print(\"Intercept:\")\n",
    "print(intercept)"
   ]
  },
  {
   "cell_type": "code",
   "execution_count": null,
   "id": "b80fefb0",
   "metadata": {},
   "outputs": [],
   "source": []
  }
 ],
 "metadata": {
  "kernelspec": {
   "display_name": "Python 3 (ipykernel)",
   "language": "python",
   "name": "python3"
  },
  "language_info": {
   "codemirror_mode": {
    "name": "ipython",
    "version": 3
   },
   "file_extension": ".py",
   "mimetype": "text/x-python",
   "name": "python",
   "nbconvert_exporter": "python",
   "pygments_lexer": "ipython3",
   "version": "3.10.12"
  }
 },
 "nbformat": 4,
 "nbformat_minor": 5
}
