{
 "cells": [
  {
   "cell_type": "code",
   "execution_count": 1,
   "id": "bf711460",
   "metadata": {},
   "outputs": [
    {
     "data": {
      "text/html": [
       "<div>\n",
       "<style scoped>\n",
       "    .dataframe tbody tr th:only-of-type {\n",
       "        vertical-align: middle;\n",
       "    }\n",
       "\n",
       "    .dataframe tbody tr th {\n",
       "        vertical-align: top;\n",
       "    }\n",
       "\n",
       "    .dataframe thead th {\n",
       "        text-align: right;\n",
       "    }\n",
       "</style>\n",
       "<table border=\"1\" class=\"dataframe\">\n",
       "  <thead>\n",
       "    <tr style=\"text-align: right;\">\n",
       "      <th></th>\n",
       "      <th>YEAR</th>\n",
       "      <th>GOLD RATE</th>\n",
       "    </tr>\n",
       "  </thead>\n",
       "  <tbody>\n",
       "    <tr>\n",
       "      <th>0</th>\n",
       "      <td>2022</td>\n",
       "      <td>52950</td>\n",
       "    </tr>\n",
       "    <tr>\n",
       "      <th>1</th>\n",
       "      <td>2021</td>\n",
       "      <td>50045</td>\n",
       "    </tr>\n",
       "    <tr>\n",
       "      <th>2</th>\n",
       "      <td>2020</td>\n",
       "      <td>48651</td>\n",
       "    </tr>\n",
       "    <tr>\n",
       "      <th>3</th>\n",
       "      <td>2019</td>\n",
       "      <td>35220</td>\n",
       "    </tr>\n",
       "    <tr>\n",
       "      <th>4</th>\n",
       "      <td>2018</td>\n",
       "      <td>31438</td>\n",
       "    </tr>\n",
       "  </tbody>\n",
       "</table>\n",
       "</div>"
      ],
      "text/plain": [
       "   YEAR  GOLD RATE\n",
       "0  2022      52950\n",
       "1  2021      50045\n",
       "2  2020      48651\n",
       "3  2019      35220\n",
       "4  2018      31438"
      ]
     },
     "execution_count": 1,
     "metadata": {},
     "output_type": "execute_result"
    }
   ],
   "source": [
    "import pandas as pd\n",
    "import numpy as np\n",
    "path=\"/home/AIML_Student/Desktop/2030B/week4/gold.csv\"\n",
    "data=pd.read_csv(path)\n",
    "data.head()"
   ]
  },
  {
   "cell_type": "code",
   "execution_count": 2,
   "id": "1540c805",
   "metadata": {},
   "outputs": [
    {
     "data": {
      "image/png": "[encoded data removed]",
      "text/plain": [
       "<Figure size 432x288 with 1 Axes>"
      ]
     },
     "metadata": {
      "needs_background": "light"
     },
     "output_type": "display_data"
    }
   ],
   "source": [
    "import matplotlib.pyplot as plt\n",
    "plt.plot(data['YEAR'],data['GOLD RATE'])\n",
    "plt.xlabel('year')\n",
    "plt.ylabel('cost')\n",
    "plt.show()"
   ]
  },
  {
   "cell_type": "code",
   "execution_count": 3,
   "id": "9b19c210",
   "metadata": {},
   "outputs": [],
   "source": [
    "def simpleLinearRegression(x,y):\n",
    "    xy=x*y\n",
    "    x2=pow(x,2)\n",
    "    data['XiYi']=xy\n",
    "    data['X^2']=x2\n",
    "    #print(data.head())\n",
    "    sumX=x.sum()\n",
    "    sumY=y.sum()\n",
    "    sumXY=xy.sum()\n",
    "    sumX2=x2.sum()\n",
    "    n=data.shape[0]\n",
    "    b=((n*sumXY)-(sumX*sumY))/((n*sumX2)-(pow(sumX,2)))\n",
    "    a=(sumY-(b*sumX))/n\n",
    "    return (a,b)"
   ]
  },
  {
   "cell_type": "code",
   "execution_count": 4,
   "id": "8209d0de",
   "metadata": {},
   "outputs": [
    {
     "name": "stdout",
     "output_type": "stream",
     "text": [
      "Y= -1336226.704266511 + 675.343658679135 X\n",
      "31344.204558737576\n"
     ]
    }
   ],
   "source": [
    "a,b=simpleLinearRegression(data['YEAR'],data['GOLD RATE'])\n",
    "print(f'Y= {a} + {b} X')\n",
    "Ypred1=a+(b*2025)\n",
    "print(Ypred1)"
   ]
  },
  {
   "cell_type": "code",
   "execution_count": 5,
   "id": "9c0b118a",
   "metadata": {},
   "outputs": [
    {
     "name": "stdout",
     "output_type": "stream",
     "text": [
      "0.6710948804187664\n",
      "[[31344.20455874]]\n",
      "[-1336226.70426651] [[675.34365868]]\n"
     ]
    }
   ],
   "source": [
    "from sklearn.linear_model import LinearRegression\n",
    "model=LinearRegression()\n",
    "x=(np.array(data['YEAR'])).reshape(-1,1)\n",
    "y=(np.array(data['GOLD RATE'])).reshape(-1,1)\n",
    "model.fit(x,y)\n",
    "print(model.score(x,y))\n",
    "A = model.intercept_\n",
    "B = model.coef_\n",
    "Ypred2 = A+(B*2025)\n",
    "print(Ypred2)\n",
    "print(A,B)"
   ]
  },
  {
   "cell_type": "code",
   "execution_count": 6,
   "id": "279daaa4",
   "metadata": {},
   "outputs": [
    {
     "name": "stdout",
     "output_type": "stream",
     "text": [
      "62644360.72375514\n",
      "7914.81905818163\n"
     ]
    }
   ],
   "source": [
    "Ypredicted=A+(B*x)\n",
    "error=y-Ypredicted\n",
    "n=data.shape[0]\n",
    "MSE=((pow(error,2)).sum())/n\n",
    "RMSE=pow(MSE,0.5)\n",
    "print(MSE)\n",
    "print(RMSE)"
   ]
  },
  {
   "cell_type": "code",
   "execution_count": 7,
   "id": "1f38d4b4",
   "metadata": {},
   "outputs": [
    {
     "name": "stdout",
     "output_type": "stream",
     "text": [
      "Gold value for 2025 predicted from manual calculation:  31344.204558737576\n",
      "Gold value for 2025 predicted from sklearn model:  [[31344.20455874]]\n"
     ]
    }
   ],
   "source": [
    "print(\"Gold value for 2025 predicted from manual calculation: \",Ypred1)\n",
    "print(\"Gold value for 2025 predicted from sklearn model: \",Ypred2)"
   ]
  }
 ],
 "metadata": {
  "kernelspec": {
   "display_name": "Python 3 (ipykernel)",
   "language": "python",
   "name": "python3"
  },
  "language_info": {
   "codemirror_mode": {
    "name": "ipython",
    "version": 3
   },
   "file_extension": ".py",
   "mimetype": "text/x-python",
   "name": "python",
   "nbconvert_exporter": "python",
   "pygments_lexer": "ipython3",
   "version": "3.10.12"
  }
 },
 "nbformat": 4,
 "nbformat_minor": 5
}
