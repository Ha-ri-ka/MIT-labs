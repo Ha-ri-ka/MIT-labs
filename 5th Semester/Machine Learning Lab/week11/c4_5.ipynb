{
 "cells": [
  {
   "cell_type": "code",
   "execution_count": 1,
   "metadata": {},
   "outputs": [
    {
     "data": {
      "text/html": [
       "<div>\n",
       "<style scoped>\n",
       "    .dataframe tbody tr th:only-of-type {\n",
       "        vertical-align: middle;\n",
       "    }\n",
       "\n",
       "    .dataframe tbody tr th {\n",
       "        vertical-align: top;\n",
       "    }\n",
       "\n",
       "    .dataframe thead th {\n",
       "        text-align: right;\n",
       "    }\n",
       "</style>\n",
       "<table border=\"1\" class=\"dataframe\">\n",
       "  <thead>\n",
       "    <tr style=\"text-align: right;\">\n",
       "      <th></th>\n",
       "      <th>Outlook</th>\n",
       "      <th>Temp</th>\n",
       "      <th>Humidity</th>\n",
       "      <th>Wind</th>\n",
       "      <th>Decision</th>\n",
       "    </tr>\n",
       "  </thead>\n",
       "  <tbody>\n",
       "    <tr>\n",
       "      <th>0</th>\n",
       "      <td>Sunny</td>\n",
       "      <td>85</td>\n",
       "      <td>85</td>\n",
       "      <td>Weak</td>\n",
       "      <td>No</td>\n",
       "    </tr>\n",
       "    <tr>\n",
       "      <th>1</th>\n",
       "      <td>Sunny</td>\n",
       "      <td>80</td>\n",
       "      <td>90</td>\n",
       "      <td>Strong</td>\n",
       "      <td>No</td>\n",
       "    </tr>\n",
       "    <tr>\n",
       "      <th>2</th>\n",
       "      <td>Overcast</td>\n",
       "      <td>83</td>\n",
       "      <td>78</td>\n",
       "      <td>Weak</td>\n",
       "      <td>Yes</td>\n",
       "    </tr>\n",
       "    <tr>\n",
       "      <th>3</th>\n",
       "      <td>Rain</td>\n",
       "      <td>70</td>\n",
       "      <td>96</td>\n",
       "      <td>Weak</td>\n",
       "      <td>Yes</td>\n",
       "    </tr>\n",
       "    <tr>\n",
       "      <th>4</th>\n",
       "      <td>Rain</td>\n",
       "      <td>68</td>\n",
       "      <td>80</td>\n",
       "      <td>Weak</td>\n",
       "      <td>Yes</td>\n",
       "    </tr>\n",
       "    <tr>\n",
       "      <th>5</th>\n",
       "      <td>Rain</td>\n",
       "      <td>65</td>\n",
       "      <td>70</td>\n",
       "      <td>Strong</td>\n",
       "      <td>No</td>\n",
       "    </tr>\n",
       "    <tr>\n",
       "      <th>6</th>\n",
       "      <td>Overcast</td>\n",
       "      <td>64</td>\n",
       "      <td>65</td>\n",
       "      <td>Strong</td>\n",
       "      <td>Yes</td>\n",
       "    </tr>\n",
       "    <tr>\n",
       "      <th>7</th>\n",
       "      <td>Sunny</td>\n",
       "      <td>72</td>\n",
       "      <td>95</td>\n",
       "      <td>Weak</td>\n",
       "      <td>No</td>\n",
       "    </tr>\n",
       "    <tr>\n",
       "      <th>8</th>\n",
       "      <td>Sunny</td>\n",
       "      <td>69</td>\n",
       "      <td>70</td>\n",
       "      <td>Weak</td>\n",
       "      <td>Yes</td>\n",
       "    </tr>\n",
       "    <tr>\n",
       "      <th>9</th>\n",
       "      <td>Rain</td>\n",
       "      <td>75</td>\n",
       "      <td>80</td>\n",
       "      <td>Weak</td>\n",
       "      <td>Yes</td>\n",
       "    </tr>\n",
       "    <tr>\n",
       "      <th>10</th>\n",
       "      <td>Sunny</td>\n",
       "      <td>75</td>\n",
       "      <td>70</td>\n",
       "      <td>Strong</td>\n",
       "      <td>Yes</td>\n",
       "    </tr>\n",
       "    <tr>\n",
       "      <th>11</th>\n",
       "      <td>Overcast</td>\n",
       "      <td>72</td>\n",
       "      <td>90</td>\n",
       "      <td>Strong</td>\n",
       "      <td>Yes</td>\n",
       "    </tr>\n",
       "    <tr>\n",
       "      <th>12</th>\n",
       "      <td>Overcast</td>\n",
       "      <td>81</td>\n",
       "      <td>75</td>\n",
       "      <td>Weak</td>\n",
       "      <td>Yes</td>\n",
       "    </tr>\n",
       "    <tr>\n",
       "      <th>13</th>\n",
       "      <td>Rain</td>\n",
       "      <td>71</td>\n",
       "      <td>80</td>\n",
       "      <td>Strong</td>\n",
       "      <td>No</td>\n",
       "    </tr>\n",
       "  </tbody>\n",
       "</table>\n",
       "</div>"
      ],
      "text/plain": [
       "     Outlook  Temp  Humidity    Wind Decision\n",
       "0      Sunny    85        85    Weak       No\n",
       "1      Sunny    80        90  Strong       No\n",
       "2   Overcast    83        78    Weak      Yes\n",
       "3       Rain    70        96    Weak      Yes\n",
       "4       Rain    68        80    Weak      Yes\n",
       "5       Rain    65        70  Strong       No\n",
       "6   Overcast    64        65  Strong      Yes\n",
       "7      Sunny    72        95    Weak       No\n",
       "8      Sunny    69        70    Weak      Yes\n",
       "9       Rain    75        80    Weak      Yes\n",
       "10     Sunny    75        70  Strong      Yes\n",
       "11  Overcast    72        90  Strong      Yes\n",
       "12  Overcast    81        75    Weak      Yes\n",
       "13      Rain    71        80  Strong       No"
      ]
     },
     "execution_count": 1,
     "metadata": {},
     "output_type": "execute_result"
    }
   ],
   "source": [
    "import pandas as pd\n",
    "path=\"D:/labs/ML/Learning/finals/datasets/dataDecisionTree.csv\"\n",
    "data=pd.read_csv(path)\n",
    "data"
   ]
  },
  {
   "cell_type": "code",
   "execution_count": 2,
   "metadata": {},
   "outputs": [
    {
     "name": "stdout",
     "output_type": "stream",
     "text": [
      "     Outlook  Temp Humidity    Wind Decision\n",
      "0      Sunny   hot     high    Weak       No\n",
      "1      Sunny   hot     high  Strong       No\n",
      "2   Overcast   hot   normal    Weak      Yes\n",
      "3       Rain  mild     high    Weak      Yes\n",
      "4       Rain  cool     high    Weak      Yes\n",
      "5       Rain  cool   normal  Strong       No\n",
      "6   Overcast  cool   normal  Strong      Yes\n",
      "7      Sunny  mild     high    Weak       No\n",
      "8      Sunny  cool   normal    Weak      Yes\n",
      "9       Rain  mild     high    Weak      Yes\n",
      "10     Sunny  mild   normal  Strong      Yes\n",
      "11  Overcast  mild     high  Strong      Yes\n",
      "12  Overcast   hot   normal    Weak      Yes\n",
      "13      Rain  mild     high  Strong       No\n"
     ]
    }
   ],
   "source": [
    "n=len(data)\n",
    "for i in range(n):\n",
    "    if data.iat[i,1]>=80: data.iat[i,1]='hot'\n",
    "    elif data.iat[i,1]>=70: data.iat[i,1]='mild'\n",
    "    else: data.iat[i,1]='cool'\n",
    "    if data.iat[i,2]>=80: data.iat[i,2]='high'\n",
    "    else : data.iat[i,2]='normal'   \n",
    "print(data)"
   ]
  },
  {
   "cell_type": "code",
   "execution_count": 3,
   "metadata": {},
   "outputs": [],
   "source": [
    "import math\n",
    "def entropy(attribute,target):\n",
    "    categories=list(set(attribute))\n",
    "    frequency={}\n",
    "    entropies={}\n",
    "    # entropies=[]\n",
    "    for cat in categories:\n",
    "        frequency[cat]=attribute.count(cat)\n",
    "    for cat in categories:\n",
    "        yes,no,ent=0,0,0\n",
    "        for a,t in zip(attribute,target):\n",
    "            if a==cat:\n",
    "                if t=='Yes': yes+=1\n",
    "                else: no+=1\n",
    "        py=yes/frequency[cat]\n",
    "        pn=no/frequency[cat]\n",
    "        if py==0 or pn==0: ent=0\n",
    "        else: ent=-(py*math.log2(py))-(pn*math.log2(pn))\n",
    "        entropies[cat]=ent\n",
    "        # entropies.append(ent)\n",
    "    return entropies       \n",
    "def categoryProbabilities(attribute): \n",
    "    categories=list(set(attribute))\n",
    "    probabilities={}\n",
    "    # probabilities=[]    \n",
    "    for cat in categories:\n",
    "        freq=attribute.count(cat)\n",
    "        probabilities[cat]=freq/n\n",
    "        # probabilities.append(freq/n)\n",
    "    return probabilities\n",
    "def infoGain(entropies,probabs,decisionEntropy):\n",
    "    sum=0\n",
    "    for e,p in zip(entropies.values(),probabs.values()):\n",
    "        sum+=(e*p)\n",
    "    ig=decisionEntropy-sum\n",
    "    return ig\n",
    "def calcSplitInfo(probabilities):\n",
    "    val=0\n",
    "    for probab in probabilities:\n",
    "        val-=probab*math.log2(probab)\n",
    "    return val\n",
    "def gainRatio(s,g):\n",
    "    return (g/s)\n",
    "def getClass(attribute,category,target):\n",
    "    yes,no=0,0\n",
    "    for a,t in zip(attribute,target):\n",
    "        if a==category:\n",
    "            # print(a,t)\n",
    "            if t=='Yes': yes+=1\n",
    "            if t=='No': no+=1\n",
    "    if yes>no: return 'Yes'\n",
    "    else: return 'No'\n"
   ]
  },
  {
   "cell_type": "code",
   "execution_count": 4,
   "metadata": {},
   "outputs": [
    {
     "name": "stdout",
     "output_type": "stream",
     "text": [
      "0.9402859586706311\n"
     ]
    }
   ],
   "source": [
    "yes,no=0,0\n",
    "for d in data['Decision']:\n",
    "    if d=='No': no+=1\n",
    "    else: yes+=1\n",
    "pn=no/n\n",
    "py=yes/n\n",
    "decisionEntropy=-(pn*math.log2(pn))-(py*math.log2(py))\n",
    "print(decisionEntropy)  "
   ]
  },
  {
   "cell_type": "code",
   "execution_count": 5,
   "metadata": {},
   "outputs": [],
   "source": [
    "def getRoot(data):    \n",
    "    attr=list(data.columns)\n",
    "    attr.remove('Decision')\n",
    "    attributeEntropies={}\n",
    "    attributeProbabs=[]\n",
    "    informationGains={}\n",
    "    splitInformation={}\n",
    "    gainRatios={}\n",
    "    for a in attr:\n",
    "        entr=entropy(list(data[a]),list(data['Decision']))\n",
    "        prob=categoryProbabilities(list(data[a]))\n",
    "        attributeEntropies[a]=entr\n",
    "        attributeProbabs.append(prob)\n",
    "    # print(attributeProbabs)\n",
    "    for a,p in zip(attr,attributeProbabs):\n",
    "        si=calcSplitInfo(p.values())\n",
    "        splitInformation[a]=si\n",
    "    for e,p,a in zip(attributeEntropies.values(),attributeProbabs,attr):\n",
    "        gain=infoGain(e,p,decisionEntropy)\n",
    "        informationGains[a]=gain\n",
    "    for g,s,a in zip(informationGains.values(),splitInformation.values(),attr):\n",
    "        gr=gainRatio(s,g)\n",
    "        gainRatios[a]=gr\n",
    "    # print(\"information gains\")\n",
    "    # print(informationGains)\n",
    "    print(splitInformation)\n",
    "    m=max(list(gainRatios.values()))\n",
    "    for k,v in gainRatios.items():\n",
    "        if v==m:\n",
    "            root=k\n",
    "            break\n",
    "    print(f\"root is: {root}\")\n",
    "    for k,v in attributeEntropies[root].items():\n",
    "        # print(k,v)\n",
    "        if v==0:\n",
    "            # print(k,v)\n",
    "            classified=getClass(data[root],k,data['Decision'])\n",
    "            print(f\"{k}-->{classified}\")\n",
    "            break\n",
    "    return root"
   ]
  },
  {
   "cell_type": "code",
   "execution_count": 6,
   "metadata": {},
   "outputs": [
    {
     "name": "stdout",
     "output_type": "stream",
     "text": [
      "{'Outlook': 1.5774062828523454, 'Temp': 1.5566567074628228, 'Humidity': 0.9852281360342516, 'Wind': 0.9852281360342516}\n",
      "root is: Outlook\n",
      "Overcast-->Yes\n"
     ]
    }
   ],
   "source": [
    "finalTree=''\n",
    "root=getRoot(data)"
   ]
  },
  {
   "cell_type": "code",
   "execution_count": 7,
   "metadata": {},
   "outputs": [],
   "source": [
    "finalTree+=f\"root is: Outlook Overcast-->Yes\""
   ]
  },
  {
   "cell_type": "code",
   "execution_count": 8,
   "metadata": {},
   "outputs": [],
   "source": [
    "leftSubDataFrame=data[data['Outlook']=='Sunny']\n",
    "rightSubDataFrame=data[data['Outlook']=='Rain']\n"
   ]
  },
  {
   "cell_type": "code",
   "execution_count": 9,
   "metadata": {},
   "outputs": [
    {
     "data": {
      "text/html": [
       "<div>\n",
       "<style scoped>\n",
       "    .dataframe tbody tr th:only-of-type {\n",
       "        vertical-align: middle;\n",
       "    }\n",
       "\n",
       "    .dataframe tbody tr th {\n",
       "        vertical-align: top;\n",
       "    }\n",
       "\n",
       "    .dataframe thead th {\n",
       "        text-align: right;\n",
       "    }\n",
       "</style>\n",
       "<table border=\"1\" class=\"dataframe\">\n",
       "  <thead>\n",
       "    <tr style=\"text-align: right;\">\n",
       "      <th></th>\n",
       "      <th>Outlook</th>\n",
       "      <th>Temp</th>\n",
       "      <th>Humidity</th>\n",
       "      <th>Wind</th>\n",
       "      <th>Decision</th>\n",
       "    </tr>\n",
       "  </thead>\n",
       "  <tbody>\n",
       "    <tr>\n",
       "      <th>0</th>\n",
       "      <td>Sunny</td>\n",
       "      <td>hot</td>\n",
       "      <td>high</td>\n",
       "      <td>Weak</td>\n",
       "      <td>No</td>\n",
       "    </tr>\n",
       "    <tr>\n",
       "      <th>1</th>\n",
       "      <td>Sunny</td>\n",
       "      <td>hot</td>\n",
       "      <td>high</td>\n",
       "      <td>Strong</td>\n",
       "      <td>No</td>\n",
       "    </tr>\n",
       "    <tr>\n",
       "      <th>7</th>\n",
       "      <td>Sunny</td>\n",
       "      <td>mild</td>\n",
       "      <td>high</td>\n",
       "      <td>Weak</td>\n",
       "      <td>No</td>\n",
       "    </tr>\n",
       "    <tr>\n",
       "      <th>8</th>\n",
       "      <td>Sunny</td>\n",
       "      <td>cool</td>\n",
       "      <td>normal</td>\n",
       "      <td>Weak</td>\n",
       "      <td>Yes</td>\n",
       "    </tr>\n",
       "    <tr>\n",
       "      <th>10</th>\n",
       "      <td>Sunny</td>\n",
       "      <td>mild</td>\n",
       "      <td>normal</td>\n",
       "      <td>Strong</td>\n",
       "      <td>Yes</td>\n",
       "    </tr>\n",
       "  </tbody>\n",
       "</table>\n",
       "</div>"
      ],
      "text/plain": [
       "   Outlook  Temp Humidity    Wind Decision\n",
       "0    Sunny   hot     high    Weak       No\n",
       "1    Sunny   hot     high  Strong       No\n",
       "7    Sunny  mild     high    Weak       No\n",
       "8    Sunny  cool   normal    Weak      Yes\n",
       "10   Sunny  mild   normal  Strong      Yes"
      ]
     },
     "execution_count": 9,
     "metadata": {},
     "output_type": "execute_result"
    }
   ],
   "source": [
    "leftSubDataFrame"
   ]
  },
  {
   "cell_type": "code",
   "execution_count": 10,
   "metadata": {},
   "outputs": [
    {
     "name": "stdout",
     "output_type": "stream",
     "text": [
      "{'Outlook': 0.5305095811322292, 'Temp': 1.074055329306287, 'Humidity': 0.8772776505803251, 'Wind': 0.8772776505803251}\n",
      "root is: Outlook\n"
     ]
    }
   ],
   "source": [
    "root=getRoot(leftSubDataFrame)"
   ]
  },
  {
   "cell_type": "code",
   "execution_count": 11,
   "metadata": {},
   "outputs": [],
   "source": [
    "finalTree+=f\" sunny-->root is: Humidity high-->No\""
   ]
  },
  {
   "cell_type": "code",
   "execution_count": 12,
   "metadata": {},
   "outputs": [
    {
     "name": "stdout",
     "output_type": "stream",
     "text": [
      "{'Outlook': 0.5305095811322292, 'Temp': 0.8772776505803251, 'Humidity': 0.7883410435920014, 'Wind': 0.8772776505803251}\n",
      "root is: Outlook\n"
     ]
    }
   ],
   "source": [
    "root=getRoot(rightSubDataFrame)"
   ]
  },
  {
   "cell_type": "code",
   "execution_count": 13,
   "metadata": {},
   "outputs": [],
   "source": [
    "finalTree+=f\" rain-->root is: Wind weak-->Yes\""
   ]
  },
  {
   "cell_type": "code",
   "execution_count": 14,
   "metadata": {},
   "outputs": [
    {
     "data": {
      "text/plain": [
       "'root is: Outlook Overcast-->Yes sunny-->root is: Humidity high-->No rain-->root is: Wind weak-->Yes'"
      ]
     },
     "execution_count": 14,
     "metadata": {},
     "output_type": "execute_result"
    }
   ],
   "source": [
    "finalTree"
   ]
  }
 ],
 "metadata": {
  "kernelspec": {
   "display_name": "Python 3",
   "language": "python",
   "name": "python3"
  },
  "language_info": {
   "codemirror_mode": {
    "name": "ipython",
    "version": 3
   },
   "file_extension": ".py",
   "mimetype": "text/x-python",
   "name": "python",
   "nbconvert_exporter": "python",
   "pygments_lexer": "ipython3",
   "version": "3.10.5"
  }
 },
 "nbformat": 4,
 "nbformat_minor": 2
}
