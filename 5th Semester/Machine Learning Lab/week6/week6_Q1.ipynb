{
 "cells": [
  {
   "cell_type": "markdown",
   "id": "ce574cb3",
   "metadata": {},
   "source": [
    "# QUESTION 1"
   ]
  },
  {
   "cell_type": "markdown",
   "id": "96cf6157",
   "metadata": {},
   "source": [
    "Create the following data set for Experience and Salary in CSV. Applying SLR, explore the relationship between\n",
    "salary and experience with exerience in x-axis and salary in y axis."
   ]
  },
  {
   "cell_type": "code",
   "execution_count": 1,
   "id": "20a6a2c3",
   "metadata": {},
   "outputs": [],
   "source": [
    "import pandas as pd\n",
    "import matplotlib.pyplot as plt\n",
    "import numpy as np"
   ]
  },
  {
   "cell_type": "code",
   "execution_count": 2,
   "id": "c327e4c2",
   "metadata": {},
   "outputs": [
    {
     "data": {
      "text/html": [
       "<div>\n",
       "<style scoped>\n",
       "    .dataframe tbody tr th:only-of-type {\n",
       "        vertical-align: middle;\n",
       "    }\n",
       "\n",
       "    .dataframe tbody tr th {\n",
       "        vertical-align: top;\n",
       "    }\n",
       "\n",
       "    .dataframe thead th {\n",
       "        text-align: right;\n",
       "    }\n",
       "</style>\n",
       "<table border=\"1\" class=\"dataframe\">\n",
       "  <thead>\n",
       "    <tr style=\"text-align: right;\">\n",
       "      <th></th>\n",
       "      <th>salary</th>\n",
       "      <th>experience</th>\n",
       "    </tr>\n",
       "  </thead>\n",
       "  <tbody>\n",
       "    <tr>\n",
       "      <th>0</th>\n",
       "      <td>1.7</td>\n",
       "      <td>1.2</td>\n",
       "    </tr>\n",
       "    <tr>\n",
       "      <th>1</th>\n",
       "      <td>2.4</td>\n",
       "      <td>1.5</td>\n",
       "    </tr>\n",
       "    <tr>\n",
       "      <th>2</th>\n",
       "      <td>2.3</td>\n",
       "      <td>1.9</td>\n",
       "    </tr>\n",
       "    <tr>\n",
       "      <th>3</th>\n",
       "      <td>3.1</td>\n",
       "      <td>2.2</td>\n",
       "    </tr>\n",
       "    <tr>\n",
       "      <th>4</th>\n",
       "      <td>3.7</td>\n",
       "      <td>2.4</td>\n",
       "    </tr>\n",
       "  </tbody>\n",
       "</table>\n",
       "</div>"
      ],
      "text/plain": [
       "   salary  experience\n",
       "0     1.7         1.2\n",
       "1     2.4         1.5\n",
       "2     2.3         1.9\n",
       "3     3.1         2.2\n",
       "4     3.7         2.4"
      ]
     },
     "execution_count": 2,
     "metadata": {},
     "output_type": "execute_result"
    }
   ],
   "source": [
    "path=\"/home/AIML_Student/Desktop/2030B/week6/data.csv\"\n",
    "data=pd.read_csv(path)\n",
    "data.head()"
   ]
  },
  {
   "cell_type": "code",
   "execution_count": 3,
   "id": "84d455eb",
   "metadata": {},
   "outputs": [
    {
     "data": {
      "image/png": "[encoded data removed]",
      "text/plain": [
       "<Figure size 432x288 with 1 Axes>"
      ]
     },
     "metadata": {
      "needs_background": "light"
     },
     "output_type": "display_data"
    }
   ],
   "source": [
    "plt.scatter(data['experience'],data['salary'])\n",
    "plt.xlabel('experience')\n",
    "plt.ylabel('salary')\n",
    "plt.show()"
   ]
  },
  {
   "cell_type": "code",
   "execution_count": 4,
   "id": "05cf805a",
   "metadata": {},
   "outputs": [],
   "source": [
    "def simpleLinearRegression(x,y):\n",
    "    xy=x*y\n",
    "    x2=pow(x,2)\n",
    "    sumx=x.sum()\n",
    "    sumy=y.sum()\n",
    "    sumxy=xy.sum()\n",
    "    sumx2=x2.sum()\n",
    "    n=data.shape[0]\n",
    "    slope=((n*sumxy)-(sumx*sumy))/((n*sumx2)-pow(sumx,2))\n",
    "    intercept=(sumy-(slope*sumx))/n\n",
    "    return(intercept,slope)"
   ]
  },
  {
   "cell_type": "code",
   "execution_count": 5,
   "id": "426959dd",
   "metadata": {},
   "outputs": [],
   "source": [
    "def results(slope,intercept):\n",
    "    x=np.array(data['experience'])\n",
    "    y=np.array(data['salary'])\n",
    "    y_new=(slope*x)+intercept\n",
    "    err=y-y_new\n",
    "    mse=((pow(err,2)).sum())/data.shape[0]\n",
    "    return(y_new,mse)"
   ]
  },
  {
   "cell_type": "code",
   "execution_count": 6,
   "id": "3e4835c8",
   "metadata": {},
   "outputs": [
    {
     "data": {
      "text/plain": [
       "0.2336671081028057"
      ]
     },
     "execution_count": 6,
     "metadata": {},
     "output_type": "execute_result"
    }
   ],
   "source": [
    "manualInter,manualSlop=simpleLinearRegression(data['experience'],data['salary'])\n",
    "y_new,manualMSE=results(manualSlop,manualInter)\n",
    "manualMSE"
   ]
  },
  {
   "cell_type": "code",
   "execution_count": 7,
   "id": "bc3ab085",
   "metadata": {
    "scrolled": true
   },
   "outputs": [
    {
     "data": {
      "image/png": "[encoded data removed]",
      "text/plain": [
       "<Figure size 432x288 with 1 Axes>"
      ]
     },
     "metadata": {
      "needs_background": "light"
     },
     "output_type": "display_data"
    }
   ],
   "source": [
    "plt.plot(data['experience'],y_new)\n",
    "plt.scatter(data['experience'],data['salary'])\n",
    "plt.xlabel('experience')\n",
    "plt.ylabel('salary')\n",
    "plt.show()"
   ]
  },
  {
   "cell_type": "markdown",
   "id": "b1dce28d",
   "metadata": {},
   "source": [
    "a. Check for various values of beta (slope) = 0.1, 1.5, and 0.8 with a fixed value of intercept i.e b=1.1. Plot the graph\n",
    "between beta and mean squared error(MSE) for each case."
   ]
  },
  {
   "cell_type": "code",
   "execution_count": 8,
   "id": "1863b333",
   "metadata": {},
   "outputs": [
    {
     "data": {
      "image/png": "[encoded data removed]",
      "text/plain": [
       "<Figure size 432x288 with 1 Axes>"
      ]
     },
     "metadata": {
      "needs_background": "light"
     },
     "output_type": "display_data"
    }
   ],
   "source": [
    "slopes=[0.1,1.5,0.8]\n",
    "b=1.1\n",
    "mse=[]\n",
    "for i in range(3):\n",
    "    _,m=results(slopes[i],b)\n",
    "    mse.append(m)\n",
    "plt.plot(slopes,mse,color='r')\n",
    "plt.show()"
   ]
  },
  {
   "cell_type": "markdown",
   "id": "a703d01a",
   "metadata": {},
   "source": [
    "b. Try with beta between 0 to 1.5 with an increment of 0.01 keeping b (intercept) as constant and Plot the graph between\n",
    "beta and mean squared error(MSE)."
   ]
  },
  {
   "cell_type": "code",
   "execution_count": 9,
   "id": "c9343d1d",
   "metadata": {},
   "outputs": [],
   "source": [
    "def generateNumbers(start,end,increment):\n",
    "    numList = []\n",
    "    current = start\n",
    "    while current <= end:\n",
    "        numList.append(current)\n",
    "        current += increment\n",
    "    return numList"
   ]
  },
  {
   "cell_type": "code",
   "execution_count": 10,
   "id": "d420f6fa",
   "metadata": {},
   "outputs": [
    {
     "data": {
      "image/png": "[encoded data removed]",
      "text/plain": [
       "<Figure size 432x288 with 1 Axes>"
      ]
     },
     "metadata": {
      "needs_background": "light"
     },
     "output_type": "display_data"
    }
   ],
   "source": [
    "intercept=1.1\n",
    "mse=[]\n",
    "slopeList=generateNumbers(0,1.5,0.01)\n",
    "for i in range(len(slopeList)):\n",
    "    _,m=results(slopeList[i],intercept)\n",
    "    mse.append(m)\n",
    "plt.plot(slopeList,mse,color='darksalmon')\n",
    "plt.show()"
   ]
  },
  {
   "cell_type": "markdown",
   "id": "0983f7a6",
   "metadata": {},
   "source": [
    "c. Try with different values of intercept for slope beta between 0 to 1.5 with an increment of 0.01. Plot the graph between\n",
    "intercept and mean squared error(MSE)."
   ]
  },
  {
   "cell_type": "code",
   "execution_count": 11,
   "id": "5244c5fb",
   "metadata": {},
   "outputs": [
    {
     "data": {
      "image/png": "[encoded data removed]",
      "text/plain": [
       "<Figure size 432x288 with 1 Axes>"
      ]
     },
     "metadata": {
      "needs_background": "light"
     },
     "output_type": "display_data"
    }
   ],
   "source": [
    "slope=1.1\n",
    "mse=[]\n",
    "interList=generateNumbers(0,1.5,0.01)\n",
    "for i in range (len(interList)):\n",
    "    _,m=results(slope,interList[i])\n",
    "    mse.append(m)\n",
    "plt.plot(interList,mse,color='maroon')\n",
    "plt.show()"
   ]
  },
  {
   "cell_type": "markdown",
   "id": "aba27556",
   "metadata": {},
   "source": [
    "d. Use the scikit learn and compare the results of MSE."
   ]
  },
  {
   "cell_type": "code",
   "execution_count": 12,
   "id": "9863ddc7",
   "metadata": {},
   "outputs": [
    {
     "name": "stdout",
     "output_type": "stream",
     "text": [
      "[0.01617647] [[1.55147059]]\n"
     ]
    },
    {
     "data": {
      "text/plain": [
       "0.03051659818339102"
      ]
     },
     "execution_count": 12,
     "metadata": {},
     "output_type": "execute_result"
    }
   ],
   "source": [
    "from sklearn.linear_model import LinearRegression\n",
    "from sklearn.metrics import mean_squared_error\n",
    "from sklearn.model_selection import train_test_split\n",
    "model=LinearRegression()\n",
    "X=np.array(data['experience']).reshape(-1,1)\n",
    "y=np.array(data['salary']).reshape(-1,1)\n",
    "X_train, X_test, y_train, y_test = train_test_split(X, y, test_size=0.3, random_state=42)\n",
    "model.fit(X_train,y_train)\n",
    "y_pred = model.predict(X_test)\n",
    "modelInter=model.intercept_\n",
    "modelSlope=model.coef_\n",
    "modelMSE=mean_squared_error(y_test, y_pred)\n",
    "print(modelInter,modelSlope)\n",
    "modelMSE"
   ]
  },
  {
   "cell_type": "code",
   "execution_count": 13,
   "id": "6301eec0",
   "metadata": {},
   "outputs": [
    {
     "name": "stdout",
     "output_type": "stream",
     "text": [
      "absolute difference between MSEs:0.2336671081028057-0.03051659818339102=0.20315050991941466\n"
     ]
    }
   ],
   "source": [
    "print(f'absolute difference between MSEs:{manualMSE}-{modelMSE}={abs(manualMSE-modelMSE)}')"
   ]
  },
  {
   "cell_type": "markdown",
   "id": "e1359bd4",
   "metadata": {},
   "source": [
    "# "
   ]
  },
  {
   "cell_type": "markdown",
   "id": "ef686751",
   "metadata": {},
   "source": [
    "# QUESTION 2 "
   ]
  },
  {
   "cell_type": "code",
   "execution_count": null,
   "id": "1fc8d3fe",
   "metadata": {},
   "outputs": [],
   "source": []
  },
  {
   "cell_type": "code",
   "execution_count": null,
   "id": "6207cc33",
   "metadata": {},
   "outputs": [],
   "source": []
  }
 ],
 "metadata": {
  "kernelspec": {
   "display_name": "Python 3 (ipykernel)",
   "language": "python",
   "name": "python3"
  },
  "language_info": {
   "codemirror_mode": {
    "name": "ipython",
    "version": 3
   },
   "file_extension": ".py",
   "mimetype": "text/x-python",
   "name": "python",
   "nbconvert_exporter": "python",
   "pygments_lexer": "ipython3",
   "version": "3.10.12"
  }
 },
 "nbformat": 4,
 "nbformat_minor": 5
}
