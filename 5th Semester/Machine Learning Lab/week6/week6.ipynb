{
 "cells": [
  {
   "cell_type": "markdown",
   "id": "ba4d00ff",
   "metadata": {},
   "source": [
    "# QUESTION 1"
   ]
  },
  {
   "cell_type": "markdown",
   "id": "1fa6f9f4",
   "metadata": {},
   "source": [
    "Create the following data set for Experience and Salary in CSV. Applying SLR, explore the relationship between\n",
    "salary and experience with exerience in x-axis and salary in y axis."
   ]
  },
  {
   "cell_type": "code",
   "execution_count": 1,
   "id": "15c698a9",
   "metadata": {},
   "outputs": [],
   "source": [
    "import pandas as pd\n",
    "import matplotlib.pyplot as plt\n",
    "import numpy as np"
   ]
  },
  {
   "cell_type": "code",
   "execution_count": 2,
   "id": "6e7baec8",
   "metadata": {},
   "outputs": [
    {
     "data": {
      "text/html": [
       "<div>\n",
       "<style scoped>\n",
       "    .dataframe tbody tr th:only-of-type {\n",
       "        vertical-align: middle;\n",
       "    }\n",
       "\n",
       "    .dataframe tbody tr th {\n",
       "        vertical-align: top;\n",
       "    }\n",
       "\n",
       "    .dataframe thead th {\n",
       "        text-align: right;\n",
       "    }\n",
       "</style>\n",
       "<table border=\"1\" class=\"dataframe\">\n",
       "  <thead>\n",
       "    <tr style=\"text-align: right;\">\n",
       "      <th></th>\n",
       "      <th>salary</th>\n",
       "      <th>experience</th>\n",
       "    </tr>\n",
       "  </thead>\n",
       "  <tbody>\n",
       "    <tr>\n",
       "      <th>0</th>\n",
       "      <td>1.7</td>\n",
       "      <td>1.2</td>\n",
       "    </tr>\n",
       "    <tr>\n",
       "      <th>1</th>\n",
       "      <td>2.4</td>\n",
       "      <td>1.5</td>\n",
       "    </tr>\n",
       "    <tr>\n",
       "      <th>2</th>\n",
       "      <td>2.3</td>\n",
       "      <td>1.9</td>\n",
       "    </tr>\n",
       "    <tr>\n",
       "      <th>3</th>\n",
       "      <td>3.1</td>\n",
       "      <td>2.2</td>\n",
       "    </tr>\n",
       "    <tr>\n",
       "      <th>4</th>\n",
       "      <td>3.7</td>\n",
       "      <td>2.4</td>\n",
       "    </tr>\n",
       "  </tbody>\n",
       "</table>\n",
       "</div>"
      ],
      "text/plain": [
       "   salary  experience\n",
       "0     1.7         1.2\n",
       "1     2.4         1.5\n",
       "2     2.3         1.9\n",
       "3     3.1         2.2\n",
       "4     3.7         2.4"
      ]
     },
     "execution_count": 2,
     "metadata": {},
     "output_type": "execute_result"
    }
   ],
   "source": [
    "path=\"/home/AIML_Student/Desktop/2030B/week6/data.csv\"\n",
    "data=pd.read_csv(path)\n",
    "data.head()"
   ]
  },
  {
   "cell_type": "code",
   "execution_count": 3,
   "id": "4d1ee3a6",
   "metadata": {},
   "outputs": [
    {
     "data": {
      "image/png": "[encoded data removed]",
      "text/plain": [
       "<Figure size 432x288 with 1 Axes>"
      ]
     },
     "metadata": {
      "needs_background": "light"
     },
     "output_type": "display_data"
    }
   ],
   "source": [
    "plt.scatter(data['experience'],data['salary'])\n",
    "plt.xlabel('experience')\n",
    "plt.ylabel('salary')\n",
    "plt.show()"
   ]
  },
  {
   "cell_type": "code",
   "execution_count": 4,
   "id": "058f51b2",
   "metadata": {},
   "outputs": [],
   "source": [
    "def simpleLinearRegression(x,y):\n",
    "    xy=x*y\n",
    "    x2=pow(x,2)\n",
    "    sumx=x.sum()\n",
    "    sumy=y.sum()\n",
    "    sumxy=xy.sum()\n",
    "    sumx2=x2.sum()\n",
    "    n=data.shape[0]\n",
    "    slope=((n*sumxy)-(sumx*sumy))/((n*sumx2)-pow(sumx,2))\n",
    "    intercept=(sumy-(slope*sumx))/n\n",
    "    return(intercept,slope)"
   ]
  },
  {
   "cell_type": "code",
   "execution_count": 5,
   "id": "5bf9193b",
   "metadata": {},
   "outputs": [],
   "source": [
    "def results(slope,intercept):\n",
    "    x=np.array(data['experience'])\n",
    "    y=np.array(data['salary'])\n",
    "    y_new=(slope*x)+intercept\n",
    "    err=y-y_new\n",
    "    mse=((pow(err,2)).sum())/data.shape[0]\n",
    "    return(y_new,mse)"
   ]
  },
  {
   "cell_type": "code",
   "execution_count": 6,
   "id": "f36313c0",
   "metadata": {},
   "outputs": [
    {
     "data": {
      "text/plain": [
       "0.2336671081028057"
      ]
     },
     "execution_count": 6,
     "metadata": {},
     "output_type": "execute_result"
    }
   ],
   "source": [
    "manualInter,manualSlop=simpleLinearRegression(data['experience'],data['salary'])\n",
    "y_new,manualMSE=results(manualSlop,manualInter)\n",
    "manualMSE"
   ]
  },
  {
   "cell_type": "code",
   "execution_count": 7,
   "id": "cb18005b",
   "metadata": {
    "scrolled": true
   },
   "outputs": [
    {
     "data": {
      "image/png": "[encoded data removed]",
      "text/plain": [
       "<Figure size 432x288 with 1 Axes>"
      ]
     },
     "metadata": {
      "needs_background": "light"
     },
     "output_type": "display_data"
    }
   ],
   "source": [
    "plt.plot(data['experience'],y_new)\n",
    "plt.scatter(data['experience'],data['salary'])\n",
    "plt.xlabel('experience')\n",
    "plt.ylabel('salary')\n",
    "plt.show()"
   ]
  },
  {
   "cell_type": "markdown",
   "id": "76f50480",
   "metadata": {},
   "source": [
    "a. Check for various values of beta (slope) = 0.1, 1.5, and 0.8 with a fixed value of intercept i.e b=1.1. Plot the graph\n",
    "between beta and mean squared error(MSE) for each case."
   ]
  },
  {
   "cell_type": "code",
   "execution_count": 8,
   "id": "4234307e",
   "metadata": {},
   "outputs": [
    {
     "data": {
      "image/png": "[encoded data removed]",
      "text/plain": [
       "<Figure size 432x288 with 1 Axes>"
      ]
     },
     "metadata": {
      "needs_background": "light"
     },
     "output_type": "display_data"
    }
   ],
   "source": [
    "slopes=[0.1,1.5,0.8]\n",
    "b=1.1\n",
    "mse=[]\n",
    "for i in range(3):\n",
    "    _,m=results(slopes[i],b)\n",
    "    mse.append(m)\n",
    "plt.plot(slopes,mse,color='r')\n",
    "plt.show()"
   ]
  },
  {
   "cell_type": "markdown",
   "id": "8886a5c6",
   "metadata": {},
   "source": [
    "b. Try with beta between 0 to 1.5 with an increment of 0.01 keeping b (intercept) as constant and Plot the graph between\n",
    "beta and mean squared error(MSE)."
   ]
  },
  {
   "cell_type": "code",
   "execution_count": 9,
   "id": "871267a0",
   "metadata": {},
   "outputs": [],
   "source": [
    "def generateNumbers(start,end,increment):\n",
    "    numList = []\n",
    "    current = start\n",
    "    while current <= end:\n",
    "        numList.append(current)\n",
    "        current += increment\n",
    "    return numList"
   ]
  },
  {
   "cell_type": "code",
   "execution_count": 10,
   "id": "c632a58c",
   "metadata": {},
   "outputs": [
    {
     "data": {
      "image/png": "[encoded data removed]",
      "text/plain": [
       "<Figure size 432x288 with 1 Axes>"
      ]
     },
     "metadata": {
      "needs_background": "light"
     },
     "output_type": "display_data"
    }
   ],
   "source": [
    "intercept=1.1\n",
    "mse=[]\n",
    "slopeList=generateNumbers(0,1.5,0.01)\n",
    "for i in range(len(slopeList)):\n",
    "    _,m=results(slopeList[i],intercept)\n",
    "    mse.append(m)\n",
    "plt.plot(slopeList,mse,color='darksalmon')\n",
    "plt.show()"
   ]
  },
  {
   "cell_type": "markdown",
   "id": "672ebb17",
   "metadata": {},
   "source": [
    "c. Try with different values of intercept for slope beta between 0 to 1.5 with an increment of 0.01. Plot the graph between\n",
    "intercept and mean squared error(MSE)."
   ]
  },
  {
   "cell_type": "code",
   "execution_count": 11,
   "id": "6b7ad263",
   "metadata": {},
   "outputs": [
    {
     "data": {
      "image/png": "[encoded data removed]",
      "text/plain": [
       "<Figure size 432x288 with 1 Axes>"
      ]
     },
     "metadata": {
      "needs_background": "light"
     },
     "output_type": "display_data"
    }
   ],
   "source": [
    "slope=1.1\n",
    "mse=[]\n",
    "interList=generateNumbers(0,1.5,0.01)\n",
    "for i in range (len(interList)):\n",
    "    _,m=results(slope,interList[i])\n",
    "    mse.append(m)\n",
    "plt.plot(interList,mse,color='maroon')\n",
    "plt.show()"
   ]
  },
  {
   "cell_type": "markdown",
   "id": "03e7a344",
   "metadata": {},
   "source": [
    "d. Use the scikit learn and compare the results of MSE."
   ]
  },
  {
   "cell_type": "code",
   "execution_count": 16,
   "id": "2d850caa",
   "metadata": {},
   "outputs": [
    {
     "name": "stdout",
     "output_type": "stream",
     "text": [
      "[0.01617647] [[1.55147059]]\n"
     ]
    },
    {
     "data": {
      "text/plain": [
       "0.03051659818339102"
      ]
     },
     "execution_count": 16,
     "metadata": {},
     "output_type": "execute_result"
    }
   ],
   "source": [
    "from sklearn.linear_model import LinearRegression\n",
    "from sklearn.metrics import mean_squared_error\n",
    "from sklearn.model_selection import train_test_split\n",
    "model=LinearRegression()\n",
    "X=np.array(data['experience']).reshape(-1,1)\n",
    "y=np.array(data['salary']).reshape(-1,1)\n",
    "X_train, X_test, y_train, y_test = train_test_split(X, y, test_size=0.3, random_state=42)\n",
    "model.fit(X_train,y_train)\n",
    "y_pred = model.predict(X_test)\n",
    "modelInter=model.intercept_\n",
    "modelSlope=model.coef_\n",
    "modelMSE=mean_squared_error(y_test, y_pred)\n",
    "print(modelInter,modelSlope)\n",
    "modelMSE"
   ]
  },
  {
   "cell_type": "code",
   "execution_count": 17,
   "id": "dd119a1c",
   "metadata": {},
   "outputs": [
    {
     "name": "stdout",
     "output_type": "stream",
     "text": [
      "absolute difference between MSEs:0.2336671081028057-0.03051659818339102=0.20315050991941466\n"
     ]
    }
   ],
   "source": [
    "print(f'absolute difference between MSEs:{manualMSE}-{modelMSE}={abs(manualMSE-modelMSE)}')"
   ]
  },
  {
   "cell_type": "markdown",
   "id": "9add8f7c",
   "metadata": {},
   "source": [
    "# QUESTION 2"
   ]
  },
  {
   "cell_type": "code",
   "execution_count": 18,
   "id": "83e74d77",
   "metadata": {},
   "outputs": [
    {
     "name": "stdout",
     "output_type": "stream",
     "text": [
      "For learning rate = 0.05\n",
      "Cost is : 10.520833333333332\n",
      "Cost is : 2.994560668054107\n",
      "Cost is : 0.919628341197938\n",
      "Cost is : 0.34751863486609713\n",
      "Cost is : 0.18970694450748363\n",
      "Cost is : 0.14610956134106295\n",
      "Cost is : 0.1339996098627917\n",
      "Cost is : 0.13057099401718908\n",
      "Cost is : 0.12953653629224704\n",
      "Cost is : 0.12916298314342117\n",
      "Cost is : 0.1289725036794911\n",
      "Cost is : 0.1288333611327607\n",
      "For learning rate = 0.01\n",
      "Cost is : 10.520833333333332\n",
      "Cost is : 8.640559087833275\n",
      "Cost is : 7.100527519440785\n",
      "Cost is : 5.839169588219182\n",
      "Cost is : 4.806057558686426\n",
      "Cost is : 3.959888910798872\n",
      "Cost is : 3.266835074904952\n",
      "Cost is : 2.699188973480103\n",
      "Cost is : 2.234257298679142\n",
      "Cost is : 1.8534532392228265\n",
      "Cost is : 1.5415533840525892\n",
      "Cost is : 1.2860890939361327\n",
      "For learning rate = 0.02\n",
      "Cost is : 10.520833333333332\n",
      "Cost is : 6.947794698555324\n",
      "Cost is : 4.603386261971384\n",
      "Cost is : 3.065123340072303\n",
      "Cost is : 2.0557995747632747\n",
      "Cost is : 1.3935305853590494\n",
      "Cost is : 0.9589759346800957\n",
      "Cost is : 0.6738323626553268\n",
      "Cost is : 0.48672247622265896\n",
      "Cost is : 0.3639358459195323\n",
      "Cost is : 0.2833539291010987\n",
      "Cost is : 0.23046400849506637\n",
      "For learning rate = 0.03\n",
      "Cost is : 10.520833333333332\n",
      "Cost is : 5.442540165499478\n",
      "Cost is : 2.8461259655691578\n",
      "Cost is : 1.5186206873147683\n",
      "Cost is : 0.8398698997747399\n",
      "Cost is : 0.4928076372761987\n",
      "Cost is : 0.31532778241571147\n",
      "Cost is : 0.22455044157238238\n",
      "Cost is : 0.17810166253877635\n",
      "Cost is : 0.15431694020415485\n",
      "Cost is : 0.1421198754056956\n",
      "Cost is : 0.13584744323048104\n",
      "For learning rate = 0.07\n",
      "Cost is : 10.520833333333332\n",
      "Cost is : 1.2966205954971628\n",
      "Cost is : 0.26082375010171627\n",
      "Cost is : 0.1443713428196973\n",
      "Cost is : 0.13113917834482833\n",
      "Cost is : 0.12949809822836966\n",
      "Cost is : 0.12916054496724227\n",
      "Cost is : 0.12897146849796248\n",
      "Cost is : 0.12880115783347623\n",
      "Cost is : 0.1286350208118752\n",
      "Cost is : 0.12847139046855707\n",
      "Cost is : 0.12831005139338078\n",
      "Mean Squared Error: 0.3028366725858352\n"
     ]
    },
    {
     "name": "stderr",
     "output_type": "stream",
     "text": [
      "/usr/lib/python3/dist-packages/sklearn/utils/validation.py:72: DataConversionWarning: A column-vector y was passed when a 1d array was expected. Please change the shape of y to (n_samples, ), for example using ravel().\n",
      "  return f(**kwargs)\n"
     ]
    },
    {
     "data": {
      "image/png": "[encoded data removed]",
      "text/plain": [
       "<Figure size 432x288 with 1 Axes>"
      ]
     },
     "metadata": {
      "needs_background": "light"
     },
     "output_type": "display_data"
    }
   ],
   "source": [
    "import numpy as np\n",
    "import pandas as pd\n",
    "import matplotlib.pyplot as plt\n",
    "from sklearn.linear_model import SGDRegressor\n",
    "from sklearn.metrics import mean_squared_error\n",
    "\n",
    "se=pd.read_csv(path)\n",
    "\n",
    "dt = se.values\n",
    "\n",
    "y = dt[:,:-1]\n",
    "x = dt[:,-1].reshape(dt.shape[0],1)\n",
    "a=x.shape[0]\n",
    "ones=np.ones((a,1))\n",
    "x= np.concatenate((ones,x),axis=1)\n",
    "\n",
    "def model(x, y, learning_rate, iteration):\n",
    "    m = y.size\n",
    "    theta = np.zeros((x.shape[1], 1))\n",
    "    cost_list = []\n",
    "    print(\"For learning rate =\",learning_rate)\n",
    "    for i in range(iteration):\n",
    "        y_pred = np.dot(x, theta)\n",
    "        cost = (1/(2*m))*np.sum(np.square(y_pred - y))\n",
    "        d_theta = (1/m)*np.dot(x.T, y_pred - y)\n",
    "        theta = theta - learning_rate*d_theta\n",
    "        cost_list.append(cost)\n",
    "        print(\"Cost is :\", cost)\n",
    "    return theta, cost_list    \n",
    "\n",
    "iteration = 60//5;\n",
    "learning_rate = 0.05;\n",
    "theta_1, cost_history_1 = model(x, y, learning_rate, iteration)\n",
    "\n",
    "learning_rate = 0.01;\n",
    "theta_2, cost_history_2 = model(x, y, learning_rate, iteration)\n",
    "\n",
    "learning_rate = 0.02;\n",
    "theta_3, cost_history_3 = model(x, y, learning_rate, iteration)\n",
    "\n",
    "learning_rate = 0.03;\n",
    "theta_4, cost_history_4 = model(x, y, learning_rate, iteration)\n",
    "\n",
    "learning_rate = 0.07;\n",
    "theta_5, cost_history_5 = model(x, y, learning_rate, iteration)\n",
    "\n",
    "plt.plot(range(1, iteration +1), cost_history_1, color ='cyan', label = 'learning_rate = 0.0005')\n",
    "plt.plot(range(1, iteration +1), cost_history_2, color ='red', label = 'learning_rate = 0.0001')\n",
    "plt.plot(range(1, iteration +1), cost_history_3, color ='green', label = 'learning_rate = 0.0002')\n",
    "plt.plot(range(1, iteration +1), cost_history_4, color ='yellow', label = 'learning_rate = 0.0003')\n",
    "plt.plot(range(1, iteration +1), cost_history_5, color ='blue', label = 'learning_rate = 0.00005')\n",
    "\n",
    "plt.rcParams[\"figure.figsize\"] = (10,6)\n",
    "plt.grid()\n",
    "plt.xlabel(\"Number of iterations\")\n",
    "plt.ylabel(\"cost (J)\")\n",
    "plt.title(\"Effect of Learning Rate\")\n",
    "plt.legend()\n",
    "\n",
    "sgd = SGDRegressor(penalty = \"l2\",learning_rate = \"invscaling\")\n",
    "sgd.fit(x, y)\n",
    "y_pred = sgd.predict(x)\n",
    "\n",
    "mse = mean_squared_error(y, y_pred)\n",
    "print(f\"Mean Squared Error: {mse}\")"
   ]
  },
  {
   "cell_type": "code",
   "execution_count": null,
   "id": "ecc7266b",
   "metadata": {},
   "outputs": [],
   "source": []
  }
 ],
 "metadata": {
  "kernelspec": {
   "display_name": "Python 3 (ipykernel)",
   "language": "python",
   "name": "python3"
  },
  "language_info": {
   "codemirror_mode": {
    "name": "ipython",
    "version": 3
   },
   "file_extension": ".py",
   "mimetype": "text/x-python",
   "name": "python",
   "nbconvert_exporter": "python",
   "pygments_lexer": "ipython3",
   "version": "3.10.12"
  }
 },
 "nbformat": 4,
 "nbformat_minor": 5
}
