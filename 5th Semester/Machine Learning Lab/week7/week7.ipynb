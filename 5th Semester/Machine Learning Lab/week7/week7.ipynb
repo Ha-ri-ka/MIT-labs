{
 "cells": [
  {
   "cell_type": "markdown",
   "id": "0bde8031",
   "metadata": {},
   "source": [
    "# QUESTION 1"
   ]
  },
  {
   "cell_type": "code",
   "execution_count": 1,
   "id": "3ebfa8af",
   "metadata": {},
   "outputs": [],
   "source": [
    "import pandas as pd\n",
    "import numpy as np\n",
    "import matplotlib.pyplot as plt"
   ]
  },
  {
   "cell_type": "code",
   "execution_count": 2,
   "id": "ecc0f0fa",
   "metadata": {},
   "outputs": [
    {
     "data": {
      "text/html": [
       "<div>\n",
       "<style scoped>\n",
       "    .dataframe tbody tr th:only-of-type {\n",
       "        vertical-align: middle;\n",
       "    }\n",
       "\n",
       "    .dataframe tbody tr th {\n",
       "        vertical-align: top;\n",
       "    }\n",
       "\n",
       "    .dataframe thead th {\n",
       "        text-align: right;\n",
       "    }\n",
       "</style>\n",
       "<table border=\"1\" class=\"dataframe\">\n",
       "  <thead>\n",
       "    <tr style=\"text-align: right;\">\n",
       "      <th></th>\n",
       "      <th>x1</th>\n",
       "      <th>x2</th>\n",
       "      <th>y</th>\n",
       "    </tr>\n",
       "  </thead>\n",
       "  <tbody>\n",
       "    <tr>\n",
       "      <th>0</th>\n",
       "      <td>2.781084</td>\n",
       "      <td>2.550537</td>\n",
       "      <td>0</td>\n",
       "    </tr>\n",
       "    <tr>\n",
       "      <th>1</th>\n",
       "      <td>1.465489</td>\n",
       "      <td>2.362125</td>\n",
       "      <td>0</td>\n",
       "    </tr>\n",
       "    <tr>\n",
       "      <th>2</th>\n",
       "      <td>3.396562</td>\n",
       "      <td>4.400294</td>\n",
       "      <td>0</td>\n",
       "    </tr>\n",
       "    <tr>\n",
       "      <th>3</th>\n",
       "      <td>1.388070</td>\n",
       "      <td>1.850220</td>\n",
       "      <td>0</td>\n",
       "    </tr>\n",
       "    <tr>\n",
       "      <th>4</th>\n",
       "      <td>3.064072</td>\n",
       "      <td>3.005306</td>\n",
       "      <td>0</td>\n",
       "    </tr>\n",
       "  </tbody>\n",
       "</table>\n",
       "</div>"
      ],
      "text/plain": [
       "         x1        x2  y\n",
       "0  2.781084  2.550537  0\n",
       "1  1.465489  2.362125  0\n",
       "2  3.396562  4.400294  0\n",
       "3  1.388070  1.850220  0\n",
       "4  3.064072  3.005306  0"
      ]
     },
     "execution_count": 2,
     "metadata": {},
     "output_type": "execute_result"
    }
   ],
   "source": [
    "path=\"/home/AIML_Student/Desktop/2030B/week7/week7_data.csv\"\n",
    "data=pd.read_csv(path)\n",
    "data.head()"
   ]
  },
  {
   "cell_type": "code",
   "execution_count": 3,
   "id": "b3f1078a",
   "metadata": {},
   "outputs": [],
   "source": [
    "x1=np.array(data.iloc[:,:-2])\n",
    "x2=np.array(data.iloc[:,-2:-1])\n",
    "y=np.array(data.iloc[:,-1])\n",
    "b0,b1,b2=0,0,0\n",
    "alpha=0.3\n",
    "n=data.shape[0]\n",
    "epochs=50"
   ]
  },
  {
   "cell_type": "code",
   "execution_count": 4,
   "id": "9bcb66e6",
   "metadata": {},
   "outputs": [
    {
     "name": "stdout",
     "output_type": "stream",
     "text": [
      "After epoch 5 : b0 = 0.0017030064841242632 b1 = 1.1987054623704312 b2 = -2.215551234608062  Error =  [0.24046307]\n",
      "After epoch 10 : b0 = 0.0716075909243749 b1 = 1.736521149473661 b2 = -3.399475036392157  Error =  [0.20840815]\n",
      "After epoch 15 : b0 = 0.1313363663971927 b1 = 2.174587590493502 b2 = -4.3705524066001455  Error =  [0.20181008]\n",
      "After epoch 20 : b0 = 0.18429221117416514 b1 = 2.568637245771053 b2 = -5.244057059680439  Error =  [0.19685876]\n",
      "After epoch 25 : b0 = 0.23282536585286068 b1 = 2.9341266994342594 b2 = -6.053779576170079  Error =  [0.19227018]\n",
      "After epoch 30 : b0 = 0.27830549601442633 b1 = 3.279177468403905 b2 = -6.8181042366806865  Error =  [0.18824382]\n",
      "After epoch 35 : b0 = 0.3215931759704618 b1 = 3.6090625732180377 b2 = -7.548963646199516  Error =  [0.18484777]\n",
      "After epoch 40 : b0 = 0.36326236050078364 b1 = 3.9274669677999063 b2 = -8.254639601429542  Error =  [0.18204574]\n",
      "After epoch 45 : b0 = 0.40371331123328347 b1 = 4.237065977293586 b2 = -8.941099046839426  Error =  [0.17976282]\n",
      "After epoch 50 : b0 = 0.44323445665240985 b1 = 4.539849537508773 b2 = -9.61274836711646  Error =  [0.17791688]\n"
     ]
    }
   ],
   "source": [
    "accuracy,b0s,b1s,b2s,errors = [],[],[],[],[]\n",
    "for ep in range (epochs):\n",
    "    correct=0\n",
    "    for i in range (n):\n",
    "        op = b0 + b1*x1[i] + b2*x2[i]\n",
    "        #b. Apply the sigmoid function to get the prediction and calculate error.\n",
    "        pred = 1/(1+np.exp(-op))\n",
    "        err=y[i]-pred\n",
    "        #a. Calculate the coefficients (B0, B1 and B2).\n",
    "        b0 = b0 + alpha * (err) * pred * (1 - pred)\n",
    "        b1 = b1 + alpha * (err) * pred * (1 - pred) * x1[i]\n",
    "        b2 = b2 + alpha * (y - pred) * pred * (1 - pred) * x2[i]\n",
    "        b0,b1,b2 = b0[0],b1[0],b2[0]\n",
    "        if (((pred < 0.5) & (y[i] == 0)) | ((pred >= 0.5) & (y[i] == 1))).all():\n",
    "            correct += 1\n",
    "    #c. From the predicted values calculate the accuracy.\n",
    "    accuracy.append(correct/n) \n",
    "    b0s.append(b0)\n",
    "    b1s.append(b1)\n",
    "    b2s.append(b2)\n",
    "    errors.append(err)\n",
    "    #d. List the model parameters along with error for every instance of the training data.\n",
    "    if (ep+1)%5 == 0:\n",
    "        print(\"After epoch\",ep+1,\": b0 =\",b0,\"b1 =\",b1,\"b2 =\",b2,\" Error = \",err)       "
   ]
  },
  {
   "cell_type": "markdown",
   "id": "8b806aa1",
   "metadata": {},
   "source": [
    "e. Plot the graph of B1 v/s error and B2 v/s error."
   ]
  },
  {
   "cell_type": "code",
   "execution_count": 5,
   "id": "0f100dd2",
   "metadata": {},
   "outputs": [
    {
     "data": {
      "text/plain": [
       "([<matplotlib.lines.Line2D at 0x7f9ec74ad4e0>], Text(0.5, 1.0, 'B2 vs Error'))"
      ]
     },
     "execution_count": 5,
     "metadata": {},
     "output_type": "execute_result"
    },
    {
     "data": {
      "image/png": "[encoded data removed]",
      "text/plain": [
       "<Figure size 720x216 with 2 Axes>"
      ]
     },
     "metadata": {
      "needs_background": "light"
     },
     "output_type": "display_data"
    }
   ],
   "source": [
    "plt.figure(figsize = (10,3))\n",
    "plt.subplot(1,2,1)\n",
    "plt.plot(b1s,errors),plt.title(\"B1 vs Error\")\n",
    "plt.subplot(1,2,2)\n",
    "plt.plot(b2s,errors),plt.title(\"B2 vs Error\")"
   ]
  },
  {
   "cell_type": "markdown",
   "id": "b1424c7b",
   "metadata": {},
   "source": [
    "f. Use scikit learn model to repeat the above steps and compare the results."
   ]
  },
  {
   "cell_type": "code",
   "execution_count": 6,
   "id": "595e7dbb",
   "metadata": {},
   "outputs": [
    {
     "name": "stdout",
     "output_type": "stream",
     "text": [
      "[[ 1.18383416 -0.35803503]] [-4.55163352]\n"
     ]
    }
   ],
   "source": [
    "from sklearn.linear_model import LogisticRegression\n",
    "X = data.iloc[:,:-1]\n",
    "y = data.iloc[:,-1]\n",
    "clf = LogisticRegression(random_state=0).fit(X, y)\n",
    "print(clf.coef_,clf.intercept_)"
   ]
  },
  {
   "cell_type": "code",
   "execution_count": null,
   "id": "00c4d793",
   "metadata": {},
   "outputs": [],
   "source": []
  }
 ],
 "metadata": {
  "kernelspec": {
   "display_name": "Python 3 (ipykernel)",
   "language": "python",
   "name": "python3"
  },
  "language_info": {
   "codemirror_mode": {
    "name": "ipython",
    "version": 3
   },
   "file_extension": ".py",
   "mimetype": "text/x-python",
   "name": "python",
   "nbconvert_exporter": "python",
   "pygments_lexer": "ipython3",
   "version": "3.10.12"
  }
 },
 "nbformat": 4,
 "nbformat_minor": 5
}
