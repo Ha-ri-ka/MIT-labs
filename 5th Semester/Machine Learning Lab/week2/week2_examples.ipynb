{
 "cells": [
  {
   "cell_type": "code",
   "execution_count": 2,
   "id": "b7218e97",
   "metadata": {},
   "outputs": [
    {
     "data": {
      "image/png": "[encoded data removed]",
      "text/plain": [
       "<Figure size 432x288 with 1 Axes>"
      ]
     },
     "metadata": {
      "needs_background": "light"
     },
     "output_type": "display_data"
    }
   ],
   "source": [
    "#example 1&2\n",
    "import matplotlib.pyplot as plt\n",
    "x=[5,2,9,4,7]\n",
    "y=[10,5,8,4,2]\n",
    "#plt.plot(x,y)\n",
    "plt.bar(x,y)\n",
    "plt.show()"
   ]
  },
  {
   "cell_type": "code",
   "execution_count": 12,
   "id": "fb9a01c6",
   "metadata": {},
   "outputs": [
    {
     "data": {
      "image/png": "[encoded data removed]",
      "text/plain": [
       "<Figure size 432x288 with 1 Axes>"
      ]
     },
     "metadata": {
      "needs_background": "light"
     },
     "output_type": "display_data"
    }
   ],
   "source": [
    "#example3: histogram-->we create bins of data which is just a range of data and we count the occurrances of data \n",
    "#IN those bins (Ranges). \n",
    "import matplotlib.pyplot as plt\n",
    "x = [1, 1, 2, 3, 3, 5, 7, 8, 9, 10,\n",
    "     10, 11, 11, 13, 13, 15, 16, 17, 18, 18,\n",
    "     18, 19, 20, 21, 21, 23, 24, 24, 25, 25,\n",
    "     25, 25, 26, 26, 26, 27, 27, 27, 27, 27,\n",
    "     29, 30, 30, 31, 33, 34, 34, 34, 35, 36,\n",
    "     36, 37, 37, 38, 38, 39, 40, 41, 41, 42,\n",
    "     43, 44, 45, 45, 46, 47, 48, 48, 49, 50,\n",
    "     51, 52, 53, 54, 55, 55, 56, 57, 58, 60,\n",
    "     61, 63, 64, 65, 66, 68, 70, 71, 72, 74,\n",
    "     75, 77, 81, 83, 84, 87, 89, 90, 90, 91\n",
    "     ]\n",
    "\n",
    "n=len(x)\n",
    "rnge=max(x)-min(x)\n",
    "bin_num=n**0.5\n",
    "bin_width=rnge/bin_num\n",
    "array=[]\n",
    "if(min(x)==1): start=0\n",
    "else: start=min(x)\n",
    "for i in range(int(bin_num)):\n",
    "    array.append(start)\n",
    "    start=start+bin_width+1\n",
    "    \n",
    "array.append(array[i]+bin_width)\n",
    "plt.hist(x, bins=array)\n",
    "plt.show()"
   ]
  },
  {
   "cell_type": "code",
   "execution_count": 30,
   "id": "3974f72f",
   "metadata": {},
   "outputs": [
    {
     "name": "stdout",
     "output_type": "stream",
     "text": [
      "  (0, 5)\t1\n",
      "  (0, 6)\t1\n",
      "  (0, 8)\t2\n"
     ]
    },
    {
     "data": {
      "text/plain": [
       "<1x9 sparse matrix of type '<class 'numpy.int64'>'\n",
       "\twith 3 stored elements in Compressed Sparse Row format>"
      ]
     },
     "execution_count": 30,
     "metadata": {},
     "output_type": "execute_result"
    }
   ],
   "source": [
    "#numpy examples\n",
    "import numpy as np\n",
    "from scipy.sparse import csr_matrix\n",
    "arr = np.array([0, 0, 0, 0, 0, 1, 1, 0, 2])\n",
    "#arr=[0, 0, 0, 0, 0, 1, 1, 0, 2]\n",
    "print(csr_matrix(arr))\n",
    "#have to use print\n",
    "#csr_matrix(arr).data\n",
    "#(0,5)-->the element '1' is in row 0, index 5."
   ]
  },
  {
   "cell_type": "code",
   "execution_count": 32,
   "id": "2cd08181",
   "metadata": {},
   "outputs": [
    {
     "name": "stdout",
     "output_type": "stream",
     "text": [
      "  (2, 0)\t1\n",
      "  (1, 2)\t1\n",
      "  (2, 2)\t2\n"
     ]
    }
   ],
   "source": [
    "import numpy as np\n",
    "from scipy.sparse import csr_matrix\n",
    "arr = np.array([[0, 0, 0], [0, 0, 1], [1, 0, 2]])\n",
    "#arr=[0, 0, 0, 0, 0, 1, 1, 0, 2]\n",
    "#print(csr_matrix(arr))\n",
    "print(csr_matrix(arr).tocsc())"
   ]
  },
  {
   "cell_type": "code",
   "execution_count": 33,
   "id": "a61975ef",
   "metadata": {},
   "outputs": [
    {
     "name": "stdout",
     "output_type": "stream",
     "text": [
      "    cars  passings\n",
      "0    BMW         3\n",
      "1  Volvo         7\n",
      "2   Ford         2\n"
     ]
    }
   ],
   "source": [
    "#pandas examples\n",
    "import pandas\n",
    "mydataset = {   'cars': [\"BMW\", \"Volvo\", \"Ford\"],\n",
    "  'passings': [3, 7, 2] }\n",
    "myvar = pandas.DataFrame(mydataset)\n",
    "print(myvar)"
   ]
  },
  {
   "cell_type": "code",
   "execution_count": 35,
   "id": "05f0b95d",
   "metadata": {},
   "outputs": [
    {
     "name": "stdout",
     "output_type": "stream",
     "text": [
      "d     8\n",
      "e     9\n",
      "f    10\n",
      "dtype: int64\n"
     ]
    }
   ],
   "source": [
    "#data filtering\n",
    "import pandas as pd\n",
    "new_series= pd.Series([5,6,7,8,9,10], index=['a','b','c','d','e','f'])\n",
    "new_series2= new_series[new_series>7] \n",
    "print(new_series2)"
   ]
  },
  {
   "cell_type": "code",
   "execution_count": 37,
   "id": "8069582d",
   "metadata": {},
   "outputs": [
    {
     "name": "stdout",
     "output_type": "stream",
     "text": [
      "      calories  duration\n",
      "day1       420        50\n",
      "day2       380        40\n",
      "day3       390        45\n"
     ]
    }
   ],
   "source": [
    "#dictionary to dataframe\n",
    "import pandas as pd\n",
    "data = {\n",
    "  \"calories\": [420, 380, 390],\n",
    "  \"duration\": [50, 40, 45]\n",
    "}\n",
    "#load data into a DataFrame object:\n",
    "df = pd.DataFrame(data,index = [\"day1\", \"day2\", \"day3\"])\n",
    "print(df)"
   ]
  },
  {
   "cell_type": "code",
   "execution_count": 48,
   "id": "264d1842",
   "metadata": {},
   "outputs": [
    {
     "name": "stdout",
     "output_type": "stream",
     "text": [
      "DataFrame:\n",
      "   C1  C2  C3\n",
      "a   0   1   2\n",
      "b   3   4   5\n",
      "c   6   7   8\n"
     ]
    }
   ],
   "source": [
    "#list to dataframe\n",
    "list2=[[0,1,2],[3,4,5],[6,7,8]]\n",
    "df= pd.DataFrame(list2,index=['a','b','c'])\n",
    "df.columns = ['C1','C2','C3']\n",
    "print(\"DataFrame:\")\n",
    "print(df)\n"
   ]
  },
  {
   "cell_type": "code",
   "execution_count": 53,
   "id": "9ed8e997",
   "metadata": {},
   "outputs": [
    {
     "name": "stdout",
     "output_type": "stream",
     "text": [
      "                 Country  Population    Square\n",
      "Country Code                                  \n",
      "KZ            Kazakhstan       17.04   2724902\n",
      "RU                Russia      143.50  17125191\n",
      "BY               Belarus        9.50    207600\n",
      "UA               Ukraine       45.50    603628\n",
      "______________________________________\n",
      "Country       Kazakhstan\n",
      "Population         17.04\n",
      "Square           2724902\n",
      "Name: KZ, dtype: object\n",
      "______________________________________\n",
      "Country Code\n",
      "KZ     17.04\n",
      "RU    143.50\n",
      "Name: Population, dtype: float64\n"
     ]
    }
   ],
   "source": [
    "import pandas as pd\n",
    "df=pd.DataFrame({\n",
    "    'Country': ['Kazakhstan','Russia','Belarus','Ukraine'],  \n",
    "    'Population': [17.04,143.5,9.5,45.5],\n",
    "     'Square':[2724902,17125191,207600,603628],\n",
    "     })\n",
    "df.index = ['KZ','RU','BY','UA']\n",
    "df.index.name = 'Country Code'\n",
    "print(df)\n",
    "print('______________________________________')\n",
    "print(df.iloc[0])\n",
    "print('______________________________________')\n",
    "print(df.loc[['KZ','RU'],'Population'])"
   ]
  },
  {
   "cell_type": "code",
   "execution_count": null,
   "id": "8c3a193c",
   "metadata": {},
   "outputs": [],
   "source": []
  }
 ],
 "metadata": {
  "kernelspec": {
   "display_name": "Python 3 (ipykernel)",
   "language": "python",
   "name": "python3"
  },
  "language_info": {
   "codemirror_mode": {
    "name": "ipython",
    "version": 3
   },
   "file_extension": ".py",
   "mimetype": "text/x-python",
   "name": "python",
   "nbconvert_exporter": "python",
   "pygments_lexer": "ipython3",
   "version": "3.10.12"
  }
 },
 "nbformat": 4,
 "nbformat_minor": 5
}
