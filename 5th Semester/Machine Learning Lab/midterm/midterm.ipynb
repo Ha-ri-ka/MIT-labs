{
 "cells": [
  {
   "cell_type": "code",
   "execution_count": 36,
   "id": "4418c03b",
   "metadata": {},
   "outputs": [
    {
     "data": {
      "text/html": [
       "<div>\n",
       "<style scoped>\n",
       "    .dataframe tbody tr th:only-of-type {\n",
       "        vertical-align: middle;\n",
       "    }\n",
       "\n",
       "    .dataframe tbody tr th {\n",
       "        vertical-align: top;\n",
       "    }\n",
       "\n",
       "    .dataframe thead th {\n",
       "        text-align: right;\n",
       "    }\n",
       "</style>\n",
       "<table border=\"1\" class=\"dataframe\">\n",
       "  <thead>\n",
       "    <tr style=\"text-align: right;\">\n",
       "      <th></th>\n",
       "      <th>Name</th>\n",
       "      <th>over170</th>\n",
       "      <th>eye</th>\n",
       "      <th>hair</th>\n",
       "      <th>gender</th>\n",
       "    </tr>\n",
       "  </thead>\n",
       "  <tbody>\n",
       "    <tr>\n",
       "      <th>0</th>\n",
       "      <td>drew</td>\n",
       "      <td>no</td>\n",
       "      <td>blue</td>\n",
       "      <td>short</td>\n",
       "      <td>male</td>\n",
       "    </tr>\n",
       "    <tr>\n",
       "      <th>1</th>\n",
       "      <td>claudia</td>\n",
       "      <td>yes</td>\n",
       "      <td>brown</td>\n",
       "      <td>long</td>\n",
       "      <td>female</td>\n",
       "    </tr>\n",
       "    <tr>\n",
       "      <th>2</th>\n",
       "      <td>drew</td>\n",
       "      <td>no</td>\n",
       "      <td>blue</td>\n",
       "      <td>long</td>\n",
       "      <td>female</td>\n",
       "    </tr>\n",
       "    <tr>\n",
       "      <th>3</th>\n",
       "      <td>drew</td>\n",
       "      <td>no</td>\n",
       "      <td>blue</td>\n",
       "      <td>long</td>\n",
       "      <td>female</td>\n",
       "    </tr>\n",
       "    <tr>\n",
       "      <th>4</th>\n",
       "      <td>alberto</td>\n",
       "      <td>yes</td>\n",
       "      <td>brown</td>\n",
       "      <td>short</td>\n",
       "      <td>male</td>\n",
       "    </tr>\n",
       "  </tbody>\n",
       "</table>\n",
       "</div>"
      ],
      "text/plain": [
       "      Name over170    eye   hair  gender\n",
       "0     drew      no   blue  short    male\n",
       "1  claudia     yes  brown   long  female\n",
       "2     drew      no   blue   long  female\n",
       "3     drew      no   blue   long  female\n",
       "4  alberto     yes  brown  short    male"
      ]
     },
     "execution_count": 36,
     "metadata": {},
     "output_type": "execute_result"
    }
   ],
   "source": [
    "import pandas as pd\n",
    "import numpy as np\n",
    "data=pd.read_csv(\"data.csv\")\n",
    "data.head()"
   ]
  },
  {
   "cell_type": "markdown",
   "id": "48e19c5f",
   "metadata": {},
   "source": [
    "classify a person named drew with blue eyes, long hair, over 170cm is male or female"
   ]
  },
  {
   "cell_type": "code",
   "execution_count": 37,
   "id": "1dfd7f7c",
   "metadata": {},
   "outputs": [],
   "source": [
    "name=np.array(data['Name'])\n",
    "over170=np.array(data['over170'])\n",
    "eye=np.array(data['eye'])\n",
    "hair=np.array(data['hair'])\n",
    "gender=np.array(data['gender'])\n",
    "n=data.shape[0]"
   ]
  },
  {
   "cell_type": "code",
   "execution_count": 38,
   "id": "1280599f",
   "metadata": {},
   "outputs": [
    {
     "name": "stdout",
     "output_type": "stream",
     "text": [
      "3 5 5 5 4 3\n"
     ]
    }
   ],
   "source": [
    "males,females,blues,longs,over170s,drews=0,0,0,0,0,0\n",
    "for i in range (n):\n",
    "    if gender[i]=='male': males+=1\n",
    "    if gender[i]=='female': females+=1\n",
    "    if name[i]=='drew': drews+=1\n",
    "    if eye[i]=='blue': blues+=1\n",
    "    if hair[i]=='long': longs+=1\n",
    "    if over170[i]=='yes': over170s+=1\n",
    "print(males,females,blues,longs,over170s,drews)"
   ]
  },
  {
   "cell_type": "code",
   "execution_count": 42,
   "id": "75bc6a00",
   "metadata": {},
   "outputs": [
    {
     "name": "stdout",
     "output_type": "stream",
     "text": [
      "partial probabilities for males:(0.375, 0.3333333333333333, 0.5, 0.4, 0.2)\n",
      "partial probabilities for females:(0.625, 0.6666666666666666, 0.5, 0.6, 0.8)\n",
      "probabilty that person is male = 0.005000000000000001\n",
      "probabilty that person is female = 0.09999999999999999\n",
      "-------------------------------------------------------\n",
      "A person named drew with blue eyes, long hair, over 170cm is classified as female\n"
     ]
    }
   ],
   "source": [
    "PM1,PM2,PM3,PM4=0,0,0,0\n",
    "PF1,PF2,PF3,PF4=0,0,0,0\n",
    "for i in range(n):\n",
    "    if gender[i]=='male':\n",
    "        if name[i]=='drew':\n",
    "            PM1+=1\n",
    "        if over170[i]=='yes':\n",
    "            PM2+=1\n",
    "        if eye[i]=='blue':\n",
    "            PM3+=1\n",
    "        if hair[i]=='long':\n",
    "            PM4+=1\n",
    "    elif gender[i]=='female':\n",
    "        if name[i]=='drew':\n",
    "            PF1+=1\n",
    "        if over170[i]=='yes':\n",
    "            PF2+=1\n",
    "        if eye[i]=='blue':\n",
    "            PF3+=1\n",
    "        if hair[i]=='long':\n",
    "            PF4+=1\n",
    "PM=males/n #p of males\n",
    "PF=females/n #p of females\n",
    "\n",
    "PM1=PM1/drews #p of male drews \n",
    "PM2=PM2/over170s #p of male over170s\n",
    "PM3=PM3/blues #p of male blue eyes\n",
    "PM4=PM4/longs #p of male long hair\n",
    "\n",
    "PF1=PF1/drews #p of female drews \n",
    "PF2=PF2/over170s #p of female over170s\n",
    "PF3=PF3/blues #p of female blues\n",
    "PF4=PF4/longs #p of female long hair\n",
    "\n",
    "p_male_givenFeatures=PM*PM1*PM2*PM3*PM4\n",
    "p_female_givenFeatures=PF*PF1*PF2*PF3*PF4\n",
    "print(f'partial probabilities for males:{PM,PM1,PM2,PM3,PM4}')\n",
    "print(f'partial probabilities for females:{PF,PF1,PF2,PF3,PF4}')\n",
    "if(p_male_givenFeatures>p_female_givenFeatures):\n",
    "    classify='male'\n",
    "else:\n",
    "    classify='female'\n",
    "\n",
    "print(f'probabilty that person is male = {p_male_givenFeatures}\\nprobabilty that person is female = {p_female_givenFeatures}')\n",
    "print('-------------------------------------------------------')\n",
    "print(f'A person named drew with blue eyes, long hair, over 170cm is classified as {classify}')"
   ]
  }
 ],
 "metadata": {
  "kernelspec": {
   "display_name": "Python 3 (ipykernel)",
   "language": "python",
   "name": "python3"
  },
  "language_info": {
   "codemirror_mode": {
    "name": "ipython",
    "version": 3
   },
   "file_extension": ".py",
   "mimetype": "text/x-python",
   "name": "python",
   "nbconvert_exporter": "python",
   "pygments_lexer": "ipython3",
   "version": "3.10.12"
  }
 },
 "nbformat": 4,
 "nbformat_minor": 5
}
