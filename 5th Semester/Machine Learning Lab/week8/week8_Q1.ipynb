{
 "cells": [
  {
   "cell_type": "markdown",
   "id": "c7a55f4d",
   "metadata": {},
   "source": [
    "# QUESTION 1\n"
   ]
  },
  {
   "cell_type": "markdown",
   "id": "2d47110b",
   "metadata": {},
   "source": [
    "a) Of the students in the college, 60% of the students reside in the hostel and 40% of the students are day scholars. Previous year results report that 30% of all students who stay in the hostel scored A Grade and 20% of day scholars scored A grade. At the end of the year, one student is chosen at random and found that he/she has an A grade. What is the probability that the student is a hosteler?"
   ]
  },
  {
   "cell_type": "code",
   "execution_count": 1,
   "id": "c0ab2826",
   "metadata": {},
   "outputs": [
    {
     "name": "stdout",
     "output_type": "stream",
     "text": [
      "Probability that the student is a hosteler given they scored an A grade: 0.6923076923076923\n"
     ]
    }
   ],
   "source": [
    "def probability(hostler, dayscholar, AGrade_Hostler, AGrade_Dayscholar): \n",
    "    PHostler_A=(hostler * AGrade_Hostler)/ (AGrade_Hostler * hostler + AGrade_Dayscholar * dayscholar)   \n",
    "    return PHostler_A\n",
    "\n",
    "pHostel = 0.60  \n",
    "pDayscho = 0.40  \n",
    "pA_Hostel= 0.30  \n",
    "pA_Dayscho = 0.20  \n",
    "\n",
    "finalProb = probability(pHostel, pDayscho, pA_Hostel, pA_Dayscho)\n",
    "\n",
    "print(\"Probability that the student is a hosteler given they scored an A grade:\", finalProb)\n"
   ]
  },
  {
   "cell_type": "markdown",
   "id": "a517d0c6",
   "metadata": {},
   "source": [
    "b) Suppose you're testing for a rare disease, and you have the following information:\n",
    "\n",
    "• The disease has a prevalence of 0.01 (1% of the population has the disease).\n",
    "\n",
    "• The test is not perfect:\n",
    "The test correctly identifies the disease (true positive) 99% of the time (sensitivity).\n",
    "The test incorrectly indicates the disease (false positive) 2% of the time (1 - specificity).\n",
    "\n",
    "Calculate the probability of having the disease given a positive test result using Bayes' theorem.\n"
   ]
  },
  {
   "cell_type": "code",
   "execution_count": 2,
   "id": "0411a5b0",
   "metadata": {},
   "outputs": [
    {
     "name": "stdout",
     "output_type": "stream",
     "text": [
      "Probability of having the disease given a positive test result: 0.33333333333333315\n"
     ]
    }
   ],
   "source": [
    "def probability_positiveTest(prevalence, truePositive, trueNegative):    \n",
    "    false_positive = 1 - trueNegative        \n",
    "    P_T = (truePositive * prevalence) + (false_positive * (1 - prevalence))        \n",
    "    P_D_T = (truePositive * prevalence) / P_T\n",
    "    return P_D_T\n",
    "\n",
    "prevalence = 0.01  \n",
    "truePositive = 0.99\n",
    "falsePositive= 0.02\n",
    "trueNegative = 0.98 \n",
    "\n",
    "probab_disease = probability_positiveTest(prevalence, truePositive, trueNegative)\n",
    "print(\"Probability of having the disease given a positive test result:\", probab_disease)"
   ]
  }
 ],
 "metadata": {
  "kernelspec": {
   "display_name": "Python 3 (ipykernel)",
   "language": "python",
   "name": "python3"
  },
  "language_info": {
   "codemirror_mode": {
    "name": "ipython",
    "version": 3
   },
   "file_extension": ".py",
   "mimetype": "text/x-python",
   "name": "python",
   "nbconvert_exporter": "python",
   "pygments_lexer": "ipython3",
   "version": "3.10.12"
  }
 },
 "nbformat": 4,
 "nbformat_minor": 5
}
