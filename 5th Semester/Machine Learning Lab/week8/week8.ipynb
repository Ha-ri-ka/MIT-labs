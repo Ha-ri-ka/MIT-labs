{
 "cells": [
  {
   "cell_type": "markdown",
   "id": "07f64294",
   "metadata": {},
   "source": [
    "# QUESTION 1"
   ]
  },
  {
   "cell_type": "markdown",
   "id": "2633676b",
   "metadata": {},
   "source": [
    "a) Of the students in the college, 60% of the students reside in the hostel and 40% of the students are day\n",
    "scholars. Previous year results report that 30% of all students who stay in the hostel scored A Grade and 20%\n",
    "of day scholars scored A grade. At the end of the year, one student is chosen at random and found that he/she\n",
    "has an A grade. What is the probability that the student is a hosteler?"
   ]
  },
  {
   "cell_type": "code",
   "execution_count": 1,
   "id": "2de99934",
   "metadata": {},
   "outputs": [
    {
     "name": "stdout",
     "output_type": "stream",
     "text": [
      "Probability that the student is a hosteler given they scored an A grade: 0.6923076923076923\n"
     ]
    }
   ],
   "source": [
    "def probability(hostler, dayscholar, AGrade_Hostler, AGrade_Dayscholar): \n",
    "    PHostler_A=(hostler * AGrade_Hostler)/ (AGrade_Hostler * hostler + AGrade_Dayscholar * dayscholar)   \n",
    "    return PHostler_A\n",
    "\n",
    "pHostel = 0.60  \n",
    "pDayscho = 0.40  \n",
    "pA_Hostel= 0.30  \n",
    "pA_Dayscho = 0.20  \n",
    "\n",
    "finalProb = probability(pHostel, pDayscho, pA_Hostel, pA_Dayscho)\n",
    "\n",
    "print(\"Probability that the student is a hosteler given they scored an A grade:\", finalProb)\n"
   ]
  },
  {
   "cell_type": "markdown",
   "id": "c5c09f13",
   "metadata": {},
   "source": [
    "b) Suppose you're testing for a rare disease, and you have the following information:\n",
    "\n",
    "• The disease has a prevalence of 0.01 (1% of the population has the disease).\n",
    "\n",
    "• The test is not perfect:    \n",
    "    The test correctly identifies the disease (true positive) 99% of the time (sensitivity).    \n",
    "    The test incorrectly indicates the disease (false positive) 2% of the time (1 - specificity).\n",
    "\n",
    "Calculate the probability of having the disease given a positive test result using Bayes' theorem."
   ]
  },
  {
   "cell_type": "code",
   "execution_count": 2,
   "id": "b0113263",
   "metadata": {},
   "outputs": [
    {
     "name": "stdout",
     "output_type": "stream",
     "text": [
      "Probability of having the disease given a positive test result: 0.33333333333333315\n"
     ]
    }
   ],
   "source": [
    "def probability_positiveTest(prevalence, truePositive, trueNegative):    \n",
    "    false_positive = 1 - trueNegative        \n",
    "    P_T = (truePositive * prevalence) + (false_positive * (1 - prevalence))        \n",
    "    P_D_T = (truePositive * prevalence) / P_T\n",
    "    return P_D_T\n",
    "\n",
    "prevalence = 0.01  \n",
    "truePositive = 0.99\n",
    "falsePositive= 0.02\n",
    "trueNegative = 0.98 \n",
    "\n",
    "probab_disease = probability_positiveTest(prevalence, truePositive, trueNegative)\n",
    "print(\"Probability of having the disease given a positive test result:\", probab_disease)"
   ]
  },
  {
   "cell_type": "markdown",
   "id": "f6baaa66",
   "metadata": {},
   "source": [
    "# QUESTION 2"
   ]
  },
  {
   "cell_type": "markdown",
   "id": "e85c8376",
   "metadata": {},
   "source": [
    "2. Write a program to implement the naïve Bayesian classifier without using scikit-learn library for the\n",
    "following sample training data set stored as a .CSV file. Calculate the accuracy, precision, and recall for your\n",
    "train/test data set. To classify ‘If the weather is sunny, then the Player should play or not’?"
   ]
  },
  {
   "cell_type": "code",
   "execution_count": 3,
   "id": "71adcc08",
   "metadata": {},
   "outputs": [
    {
     "data": {
      "text/html": [
       "<div>\n",
       "<style scoped>\n",
       "    .dataframe tbody tr th:only-of-type {\n",
       "        vertical-align: middle;\n",
       "    }\n",
       "\n",
       "    .dataframe tbody tr th {\n",
       "        vertical-align: top;\n",
       "    }\n",
       "\n",
       "    .dataframe thead th {\n",
       "        text-align: right;\n",
       "    }\n",
       "</style>\n",
       "<table border=\"1\" class=\"dataframe\">\n",
       "  <thead>\n",
       "    <tr style=\"text-align: right;\">\n",
       "      <th></th>\n",
       "      <th>Outlook</th>\n",
       "      <th>Play</th>\n",
       "    </tr>\n",
       "  </thead>\n",
       "  <tbody>\n",
       "    <tr>\n",
       "      <th>0</th>\n",
       "      <td>rainy</td>\n",
       "      <td>yes</td>\n",
       "    </tr>\n",
       "    <tr>\n",
       "      <th>1</th>\n",
       "      <td>sunny</td>\n",
       "      <td>yes</td>\n",
       "    </tr>\n",
       "    <tr>\n",
       "      <th>2</th>\n",
       "      <td>overcast</td>\n",
       "      <td>yes</td>\n",
       "    </tr>\n",
       "    <tr>\n",
       "      <th>3</th>\n",
       "      <td>overcast</td>\n",
       "      <td>yes</td>\n",
       "    </tr>\n",
       "    <tr>\n",
       "      <th>4</th>\n",
       "      <td>sunny</td>\n",
       "      <td>no</td>\n",
       "    </tr>\n",
       "  </tbody>\n",
       "</table>\n",
       "</div>"
      ],
      "text/plain": [
       "    Outlook Play\n",
       "0     rainy  yes\n",
       "1     sunny  yes\n",
       "2  overcast  yes\n",
       "3  overcast  yes\n",
       "4     sunny   no"
      ]
     },
     "execution_count": 3,
     "metadata": {},
     "output_type": "execute_result"
    }
   ],
   "source": [
    "import pandas as pd\n",
    "import numpy as np\n",
    "import matplotlib.pyplot as plt\n",
    "path=\"/home/AIML_Student/Desktop/2030B/week8/week8_data.csv\"\n",
    "data=pd.read_csv(path)\n",
    "data.head()"
   ]
  },
  {
   "cell_type": "code",
   "execution_count": 6,
   "id": "2359e252",
   "metadata": {},
   "outputs": [
    {
     "name": "stdout",
     "output_type": "stream",
     "text": [
      "Predicted Play: yes\n",
      "Accuracy: 0.3\n",
      "Precision: 0.3\n",
      "Recall: 0.6\n"
     ]
    }
   ],
   "source": [
    "import csv\n",
    "from collections import defaultdict\n",
    "\n",
    "\n",
    "def load_data(filename):\n",
    "    data = []\n",
    "    with open(filename, 'r') as file:\n",
    "        reader = csv.DictReader(file)\n",
    "        for row in reader:\n",
    "            data.append(row)\n",
    "    return data\n",
    "\n",
    "\n",
    "def calculate_probability(attribute, value, label, data):\n",
    "    count_label = sum(1 for entry in data if entry['Play'] == label)\n",
    "    count_attr = sum(1 for entry in data if entry['Outlook'] == value and entry['Play'] == label)\n",
    "    return (count_attr + 1) / (count_label + len(Outlook_values))\n",
    "\n",
    "\n",
    "def train_naive_bayes(data):\n",
    "    probabilities = {}\n",
    "    for label in Play_values:\n",
    "        probabilities[label] = {}\n",
    "        for attr in Outlook_values:\n",
    "            probabilities[label][attr] = calculate_probability('Outlook', attr, label, data)\n",
    "    return probabilities\n",
    "\n",
    "\n",
    "def classify_instance(instance, probabilities):\n",
    "    max_prob = float('-inf')\n",
    "    predicted_label = None\n",
    "    for label in Play_values:\n",
    "        prob = 1.0\n",
    "        for attr in Outlook_values:\n",
    "            prob *= probabilities[label][attr] if instance['Outlook'] == attr else 1 - probabilities[label][attr]\n",
    "        prob *= Play_probabilities[label]\n",
    "        if prob > max_prob:\n",
    "            max_prob = prob\n",
    "            predicted_label = label\n",
    "    return predicted_label\n",
    "\n",
    "\n",
    "def calculate_metrics(true_positives, false_positives, false_negatives):\n",
    "    accuracy = (true_positives) / (true_positives + false_positives)\n",
    "    precision = (true_positives) / (true_positives + false_positives)\n",
    "    recall = (true_positives) / (true_positives + false_negatives)\n",
    "    return accuracy, precision, recall\n",
    "\n",
    "\n",
    "filename = 'week8_data.csv'\n",
    "\n",
    "\n",
    "data = load_data(filename)\n",
    "Outlook_values = set(entry['Outlook'] for entry in data)\n",
    "Play_values = set(entry['Play'] for entry in data)\n",
    "\n",
    "\n",
    "Play_probabilities = {}\n",
    "for label in Play_values:\n",
    "    Play_probabilities[label] = sum(1 for entry in data if entry['Play'] == label) / len(data)\n",
    "\n",
    "\n",
    "probabilities = train_naive_bayes(data)\n",
    "\n",
    "new_instance = {'Outlook': 'sunny'}\n",
    "predicted_label = classify_instance(new_instance, probabilities)\n",
    "print('Predicted Play:', predicted_label)\n",
    "\n",
    "true_positives = sum(1 for entry in data if entry['Outlook'] == 'sunny' and entry['Play'] == 'yes')\n",
    "false_positives = sum(1 for entry in data if entry['Outlook'] != 'sunny' and entry['Play'] == 'yes')\n",
    "false_negatives = sum(1 for entry in data if entry['Outlook'] == 'sunny' and entry['Play'] == 'no')\n",
    "\n",
    "accuracy, precision, recall = calculate_metrics(true_positives, false_positives, false_negatives)\n",
    "\n",
    "print('Accuracy:', accuracy)\n",
    "print('Precision:', precision)\n",
    "print('Recall:', recall)\n"
   ]
  },
  {
   "cell_type": "code",
   "execution_count": null,
   "id": "3b29995e",
   "metadata": {},
   "outputs": [],
   "source": [
    "\n"
   ]
  }
 ],
 "metadata": {
  "kernelspec": {
   "display_name": "Python 3 (ipykernel)",
   "language": "python",
   "name": "python3"
  },
  "language_info": {
   "codemirror_mode": {
    "name": "ipython",
    "version": 3
   },
   "file_extension": ".py",
   "mimetype": "text/x-python",
   "name": "python",
   "nbconvert_exporter": "python",
   "pygments_lexer": "ipython3",
   "version": "3.10.12"
  }
 },
 "nbformat": 4,
 "nbformat_minor": 5
}
